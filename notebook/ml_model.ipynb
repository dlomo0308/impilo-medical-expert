{
 "cells": [
  {
   "cell_type": "markdown",
   "id": "a8f2a402",
   "metadata": {},
   "source": [
    "# IMPORTING THE DEPENDENCIES"
   ]
  },
  {
   "cell_type": "code",
   "execution_count": 3,
   "id": "ac8c37fd",
   "metadata": {},
   "outputs": [],
   "source": [
    "import pandas as pd\n",
    "import numpy as np\n",
    "from sklearn.preprocessing import StandardScaler\n",
    "from sklearn.model_selection import train_test_split\n",
    "from sklearn.metrics import accuracy_score\n",
    "import matplotlib.pyplot as plt\n",
    "%matplotlib inline\n",
    "import requests\n"
   ]
  },
  {
   "cell_type": "markdown",
   "id": "7595b94a",
   "metadata": {},
   "source": [
    "### READING THE DATA"
   ]
  },
  {
   "cell_type": "code",
   "execution_count": 5,
   "id": "62f63fc4",
   "metadata": {},
   "outputs": [],
   "source": [
    "data = pd.read_csv('Data/Training.csv')"
   ]
  },
  {
   "cell_type": "code",
   "execution_count": 6,
   "id": "eb21b9a5",
   "metadata": {},
   "outputs": [],
   "source": [
    "### PRINTING THE FIRST 5 ROWS OF THE DATASET"
   ]
  },
  {
   "cell_type": "code",
   "execution_count": 7,
   "id": "52ec1c99",
   "metadata": {},
   "outputs": [
    {
     "data": {
      "text/html": [
       "<div>\n",
       "<style scoped>\n",
       "    .dataframe tbody tr th:only-of-type {\n",
       "        vertical-align: middle;\n",
       "    }\n",
       "\n",
       "    .dataframe tbody tr th {\n",
       "        vertical-align: top;\n",
       "    }\n",
       "\n",
       "    .dataframe thead th {\n",
       "        text-align: right;\n",
       "    }\n",
       "</style>\n",
       "<table border=\"1\" class=\"dataframe\">\n",
       "  <thead>\n",
       "    <tr style=\"text-align: right;\">\n",
       "      <th></th>\n",
       "      <th>itching</th>\n",
       "      <th>skin_rash</th>\n",
       "      <th>nodal_skin_eruptions</th>\n",
       "      <th>continuous_sneezing</th>\n",
       "      <th>shivering</th>\n",
       "      <th>chills</th>\n",
       "      <th>joint_pain</th>\n",
       "      <th>stomach_pain</th>\n",
       "      <th>acidity</th>\n",
       "      <th>ulcers_on_tongue</th>\n",
       "      <th>...</th>\n",
       "      <th>blackheads</th>\n",
       "      <th>scurring</th>\n",
       "      <th>skin_peeling</th>\n",
       "      <th>silver_like_dusting</th>\n",
       "      <th>small_dents_in_nails</th>\n",
       "      <th>inflammatory_nails</th>\n",
       "      <th>blister</th>\n",
       "      <th>red_sore_around_nose</th>\n",
       "      <th>yellow_crust_ooze</th>\n",
       "      <th>diseases</th>\n",
       "    </tr>\n",
       "  </thead>\n",
       "  <tbody>\n",
       "    <tr>\n",
       "      <th>0</th>\n",
       "      <td>1</td>\n",
       "      <td>1</td>\n",
       "      <td>1</td>\n",
       "      <td>0</td>\n",
       "      <td>0</td>\n",
       "      <td>0</td>\n",
       "      <td>0</td>\n",
       "      <td>0</td>\n",
       "      <td>0</td>\n",
       "      <td>0</td>\n",
       "      <td>...</td>\n",
       "      <td>0</td>\n",
       "      <td>0</td>\n",
       "      <td>0</td>\n",
       "      <td>0</td>\n",
       "      <td>0</td>\n",
       "      <td>0</td>\n",
       "      <td>0</td>\n",
       "      <td>0</td>\n",
       "      <td>0</td>\n",
       "      <td>Fungal infection</td>\n",
       "    </tr>\n",
       "    <tr>\n",
       "      <th>1</th>\n",
       "      <td>0</td>\n",
       "      <td>1</td>\n",
       "      <td>1</td>\n",
       "      <td>0</td>\n",
       "      <td>0</td>\n",
       "      <td>0</td>\n",
       "      <td>0</td>\n",
       "      <td>0</td>\n",
       "      <td>0</td>\n",
       "      <td>0</td>\n",
       "      <td>...</td>\n",
       "      <td>0</td>\n",
       "      <td>0</td>\n",
       "      <td>0</td>\n",
       "      <td>0</td>\n",
       "      <td>0</td>\n",
       "      <td>0</td>\n",
       "      <td>0</td>\n",
       "      <td>0</td>\n",
       "      <td>0</td>\n",
       "      <td>Fungal infection</td>\n",
       "    </tr>\n",
       "    <tr>\n",
       "      <th>2</th>\n",
       "      <td>1</td>\n",
       "      <td>0</td>\n",
       "      <td>1</td>\n",
       "      <td>0</td>\n",
       "      <td>0</td>\n",
       "      <td>0</td>\n",
       "      <td>0</td>\n",
       "      <td>0</td>\n",
       "      <td>0</td>\n",
       "      <td>0</td>\n",
       "      <td>...</td>\n",
       "      <td>0</td>\n",
       "      <td>0</td>\n",
       "      <td>0</td>\n",
       "      <td>0</td>\n",
       "      <td>0</td>\n",
       "      <td>0</td>\n",
       "      <td>0</td>\n",
       "      <td>0</td>\n",
       "      <td>0</td>\n",
       "      <td>Fungal infection</td>\n",
       "    </tr>\n",
       "    <tr>\n",
       "      <th>3</th>\n",
       "      <td>1</td>\n",
       "      <td>1</td>\n",
       "      <td>0</td>\n",
       "      <td>0</td>\n",
       "      <td>0</td>\n",
       "      <td>0</td>\n",
       "      <td>0</td>\n",
       "      <td>0</td>\n",
       "      <td>0</td>\n",
       "      <td>0</td>\n",
       "      <td>...</td>\n",
       "      <td>0</td>\n",
       "      <td>0</td>\n",
       "      <td>0</td>\n",
       "      <td>0</td>\n",
       "      <td>0</td>\n",
       "      <td>0</td>\n",
       "      <td>0</td>\n",
       "      <td>0</td>\n",
       "      <td>0</td>\n",
       "      <td>Fungal infection</td>\n",
       "    </tr>\n",
       "    <tr>\n",
       "      <th>4</th>\n",
       "      <td>1</td>\n",
       "      <td>1</td>\n",
       "      <td>1</td>\n",
       "      <td>0</td>\n",
       "      <td>0</td>\n",
       "      <td>0</td>\n",
       "      <td>0</td>\n",
       "      <td>0</td>\n",
       "      <td>0</td>\n",
       "      <td>0</td>\n",
       "      <td>...</td>\n",
       "      <td>0</td>\n",
       "      <td>0</td>\n",
       "      <td>0</td>\n",
       "      <td>0</td>\n",
       "      <td>0</td>\n",
       "      <td>0</td>\n",
       "      <td>0</td>\n",
       "      <td>0</td>\n",
       "      <td>0</td>\n",
       "      <td>Fungal infection</td>\n",
       "    </tr>\n",
       "  </tbody>\n",
       "</table>\n",
       "<p>5 rows × 133 columns</p>\n",
       "</div>"
      ],
      "text/plain": [
       "   itching  skin_rash  nodal_skin_eruptions  continuous_sneezing  shivering  \\\n",
       "0        1          1                     1                    0          0   \n",
       "1        0          1                     1                    0          0   \n",
       "2        1          0                     1                    0          0   \n",
       "3        1          1                     0                    0          0   \n",
       "4        1          1                     1                    0          0   \n",
       "\n",
       "   chills  joint_pain  stomach_pain  acidity  ulcers_on_tongue  ...  \\\n",
       "0       0           0             0        0                 0  ...   \n",
       "1       0           0             0        0                 0  ...   \n",
       "2       0           0             0        0                 0  ...   \n",
       "3       0           0             0        0                 0  ...   \n",
       "4       0           0             0        0                 0  ...   \n",
       "\n",
       "   blackheads  scurring  skin_peeling  silver_like_dusting  \\\n",
       "0           0         0             0                    0   \n",
       "1           0         0             0                    0   \n",
       "2           0         0             0                    0   \n",
       "3           0         0             0                    0   \n",
       "4           0         0             0                    0   \n",
       "\n",
       "   small_dents_in_nails  inflammatory_nails  blister  red_sore_around_nose  \\\n",
       "0                     0                   0        0                     0   \n",
       "1                     0                   0        0                     0   \n",
       "2                     0                   0        0                     0   \n",
       "3                     0                   0        0                     0   \n",
       "4                     0                   0        0                     0   \n",
       "\n",
       "   yellow_crust_ooze          diseases  \n",
       "0                  0  Fungal infection  \n",
       "1                  0  Fungal infection  \n",
       "2                  0  Fungal infection  \n",
       "3                  0  Fungal infection  \n",
       "4                  0  Fungal infection  \n",
       "\n",
       "[5 rows x 133 columns]"
      ]
     },
     "execution_count": 7,
     "metadata": {},
     "output_type": "execute_result"
    }
   ],
   "source": [
    "data.head()"
   ]
  },
  {
   "cell_type": "code",
   "execution_count": 8,
   "id": "44c934fb",
   "metadata": {},
   "outputs": [],
   "source": [
    "### PRINTING THE NUMBER OF ROWS AND COLUMNS"
   ]
  },
  {
   "cell_type": "code",
   "execution_count": 9,
   "id": "afff95a1",
   "metadata": {},
   "outputs": [
    {
     "data": {
      "text/plain": [
       "(4920, 133)"
      ]
     },
     "execution_count": 9,
     "metadata": {},
     "output_type": "execute_result"
    }
   ],
   "source": [
    "data.shape"
   ]
  },
  {
   "cell_type": "code",
   "execution_count": 10,
   "id": "3766ba08",
   "metadata": {},
   "outputs": [
    {
     "data": {
      "text/html": [
       "<div>\n",
       "<style scoped>\n",
       "    .dataframe tbody tr th:only-of-type {\n",
       "        vertical-align: middle;\n",
       "    }\n",
       "\n",
       "    .dataframe tbody tr th {\n",
       "        vertical-align: top;\n",
       "    }\n",
       "\n",
       "    .dataframe thead th {\n",
       "        text-align: right;\n",
       "    }\n",
       "</style>\n",
       "<table border=\"1\" class=\"dataframe\">\n",
       "  <thead>\n",
       "    <tr style=\"text-align: right;\">\n",
       "      <th></th>\n",
       "      <th>itching</th>\n",
       "      <th>skin_rash</th>\n",
       "      <th>nodal_skin_eruptions</th>\n",
       "      <th>continuous_sneezing</th>\n",
       "      <th>shivering</th>\n",
       "      <th>chills</th>\n",
       "      <th>joint_pain</th>\n",
       "      <th>stomach_pain</th>\n",
       "      <th>acidity</th>\n",
       "      <th>ulcers_on_tongue</th>\n",
       "      <th>...</th>\n",
       "      <th>pus_filled_pimples</th>\n",
       "      <th>blackheads</th>\n",
       "      <th>scurring</th>\n",
       "      <th>skin_peeling</th>\n",
       "      <th>silver_like_dusting</th>\n",
       "      <th>small_dents_in_nails</th>\n",
       "      <th>inflammatory_nails</th>\n",
       "      <th>blister</th>\n",
       "      <th>red_sore_around_nose</th>\n",
       "      <th>yellow_crust_ooze</th>\n",
       "    </tr>\n",
       "  </thead>\n",
       "  <tbody>\n",
       "    <tr>\n",
       "      <th>count</th>\n",
       "      <td>4920.000000</td>\n",
       "      <td>4920.000000</td>\n",
       "      <td>4920.000000</td>\n",
       "      <td>4920.000000</td>\n",
       "      <td>4920.000000</td>\n",
       "      <td>4920.000000</td>\n",
       "      <td>4920.000000</td>\n",
       "      <td>4920.000000</td>\n",
       "      <td>4920.000000</td>\n",
       "      <td>4920.000000</td>\n",
       "      <td>...</td>\n",
       "      <td>4920.000000</td>\n",
       "      <td>4920.000000</td>\n",
       "      <td>4920.000000</td>\n",
       "      <td>4920.000000</td>\n",
       "      <td>4920.000000</td>\n",
       "      <td>4920.000000</td>\n",
       "      <td>4920.000000</td>\n",
       "      <td>4920.000000</td>\n",
       "      <td>4920.000000</td>\n",
       "      <td>4920.000000</td>\n",
       "    </tr>\n",
       "    <tr>\n",
       "      <th>mean</th>\n",
       "      <td>0.137805</td>\n",
       "      <td>0.159756</td>\n",
       "      <td>0.021951</td>\n",
       "      <td>0.045122</td>\n",
       "      <td>0.021951</td>\n",
       "      <td>0.162195</td>\n",
       "      <td>0.139024</td>\n",
       "      <td>0.045122</td>\n",
       "      <td>0.045122</td>\n",
       "      <td>0.021951</td>\n",
       "      <td>...</td>\n",
       "      <td>0.021951</td>\n",
       "      <td>0.021951</td>\n",
       "      <td>0.021951</td>\n",
       "      <td>0.023171</td>\n",
       "      <td>0.023171</td>\n",
       "      <td>0.023171</td>\n",
       "      <td>0.023171</td>\n",
       "      <td>0.023171</td>\n",
       "      <td>0.023171</td>\n",
       "      <td>0.023171</td>\n",
       "    </tr>\n",
       "    <tr>\n",
       "      <th>std</th>\n",
       "      <td>0.344730</td>\n",
       "      <td>0.366417</td>\n",
       "      <td>0.146539</td>\n",
       "      <td>0.207593</td>\n",
       "      <td>0.146539</td>\n",
       "      <td>0.368667</td>\n",
       "      <td>0.346007</td>\n",
       "      <td>0.207593</td>\n",
       "      <td>0.207593</td>\n",
       "      <td>0.146539</td>\n",
       "      <td>...</td>\n",
       "      <td>0.146539</td>\n",
       "      <td>0.146539</td>\n",
       "      <td>0.146539</td>\n",
       "      <td>0.150461</td>\n",
       "      <td>0.150461</td>\n",
       "      <td>0.150461</td>\n",
       "      <td>0.150461</td>\n",
       "      <td>0.150461</td>\n",
       "      <td>0.150461</td>\n",
       "      <td>0.150461</td>\n",
       "    </tr>\n",
       "    <tr>\n",
       "      <th>min</th>\n",
       "      <td>0.000000</td>\n",
       "      <td>0.000000</td>\n",
       "      <td>0.000000</td>\n",
       "      <td>0.000000</td>\n",
       "      <td>0.000000</td>\n",
       "      <td>0.000000</td>\n",
       "      <td>0.000000</td>\n",
       "      <td>0.000000</td>\n",
       "      <td>0.000000</td>\n",
       "      <td>0.000000</td>\n",
       "      <td>...</td>\n",
       "      <td>0.000000</td>\n",
       "      <td>0.000000</td>\n",
       "      <td>0.000000</td>\n",
       "      <td>0.000000</td>\n",
       "      <td>0.000000</td>\n",
       "      <td>0.000000</td>\n",
       "      <td>0.000000</td>\n",
       "      <td>0.000000</td>\n",
       "      <td>0.000000</td>\n",
       "      <td>0.000000</td>\n",
       "    </tr>\n",
       "    <tr>\n",
       "      <th>25%</th>\n",
       "      <td>0.000000</td>\n",
       "      <td>0.000000</td>\n",
       "      <td>0.000000</td>\n",
       "      <td>0.000000</td>\n",
       "      <td>0.000000</td>\n",
       "      <td>0.000000</td>\n",
       "      <td>0.000000</td>\n",
       "      <td>0.000000</td>\n",
       "      <td>0.000000</td>\n",
       "      <td>0.000000</td>\n",
       "      <td>...</td>\n",
       "      <td>0.000000</td>\n",
       "      <td>0.000000</td>\n",
       "      <td>0.000000</td>\n",
       "      <td>0.000000</td>\n",
       "      <td>0.000000</td>\n",
       "      <td>0.000000</td>\n",
       "      <td>0.000000</td>\n",
       "      <td>0.000000</td>\n",
       "      <td>0.000000</td>\n",
       "      <td>0.000000</td>\n",
       "    </tr>\n",
       "    <tr>\n",
       "      <th>50%</th>\n",
       "      <td>0.000000</td>\n",
       "      <td>0.000000</td>\n",
       "      <td>0.000000</td>\n",
       "      <td>0.000000</td>\n",
       "      <td>0.000000</td>\n",
       "      <td>0.000000</td>\n",
       "      <td>0.000000</td>\n",
       "      <td>0.000000</td>\n",
       "      <td>0.000000</td>\n",
       "      <td>0.000000</td>\n",
       "      <td>...</td>\n",
       "      <td>0.000000</td>\n",
       "      <td>0.000000</td>\n",
       "      <td>0.000000</td>\n",
       "      <td>0.000000</td>\n",
       "      <td>0.000000</td>\n",
       "      <td>0.000000</td>\n",
       "      <td>0.000000</td>\n",
       "      <td>0.000000</td>\n",
       "      <td>0.000000</td>\n",
       "      <td>0.000000</td>\n",
       "    </tr>\n",
       "    <tr>\n",
       "      <th>75%</th>\n",
       "      <td>0.000000</td>\n",
       "      <td>0.000000</td>\n",
       "      <td>0.000000</td>\n",
       "      <td>0.000000</td>\n",
       "      <td>0.000000</td>\n",
       "      <td>0.000000</td>\n",
       "      <td>0.000000</td>\n",
       "      <td>0.000000</td>\n",
       "      <td>0.000000</td>\n",
       "      <td>0.000000</td>\n",
       "      <td>...</td>\n",
       "      <td>0.000000</td>\n",
       "      <td>0.000000</td>\n",
       "      <td>0.000000</td>\n",
       "      <td>0.000000</td>\n",
       "      <td>0.000000</td>\n",
       "      <td>0.000000</td>\n",
       "      <td>0.000000</td>\n",
       "      <td>0.000000</td>\n",
       "      <td>0.000000</td>\n",
       "      <td>0.000000</td>\n",
       "    </tr>\n",
       "    <tr>\n",
       "      <th>max</th>\n",
       "      <td>1.000000</td>\n",
       "      <td>1.000000</td>\n",
       "      <td>1.000000</td>\n",
       "      <td>1.000000</td>\n",
       "      <td>1.000000</td>\n",
       "      <td>1.000000</td>\n",
       "      <td>1.000000</td>\n",
       "      <td>1.000000</td>\n",
       "      <td>1.000000</td>\n",
       "      <td>1.000000</td>\n",
       "      <td>...</td>\n",
       "      <td>1.000000</td>\n",
       "      <td>1.000000</td>\n",
       "      <td>1.000000</td>\n",
       "      <td>1.000000</td>\n",
       "      <td>1.000000</td>\n",
       "      <td>1.000000</td>\n",
       "      <td>1.000000</td>\n",
       "      <td>1.000000</td>\n",
       "      <td>1.000000</td>\n",
       "      <td>1.000000</td>\n",
       "    </tr>\n",
       "  </tbody>\n",
       "</table>\n",
       "<p>8 rows × 132 columns</p>\n",
       "</div>"
      ],
      "text/plain": [
       "           itching    skin_rash  nodal_skin_eruptions  continuous_sneezing  \\\n",
       "count  4920.000000  4920.000000           4920.000000          4920.000000   \n",
       "mean      0.137805     0.159756              0.021951             0.045122   \n",
       "std       0.344730     0.366417              0.146539             0.207593   \n",
       "min       0.000000     0.000000              0.000000             0.000000   \n",
       "25%       0.000000     0.000000              0.000000             0.000000   \n",
       "50%       0.000000     0.000000              0.000000             0.000000   \n",
       "75%       0.000000     0.000000              0.000000             0.000000   \n",
       "max       1.000000     1.000000              1.000000             1.000000   \n",
       "\n",
       "         shivering       chills   joint_pain  stomach_pain      acidity  \\\n",
       "count  4920.000000  4920.000000  4920.000000   4920.000000  4920.000000   \n",
       "mean      0.021951     0.162195     0.139024      0.045122     0.045122   \n",
       "std       0.146539     0.368667     0.346007      0.207593     0.207593   \n",
       "min       0.000000     0.000000     0.000000      0.000000     0.000000   \n",
       "25%       0.000000     0.000000     0.000000      0.000000     0.000000   \n",
       "50%       0.000000     0.000000     0.000000      0.000000     0.000000   \n",
       "75%       0.000000     0.000000     0.000000      0.000000     0.000000   \n",
       "max       1.000000     1.000000     1.000000      1.000000     1.000000   \n",
       "\n",
       "       ulcers_on_tongue  ...  pus_filled_pimples   blackheads     scurring  \\\n",
       "count       4920.000000  ...         4920.000000  4920.000000  4920.000000   \n",
       "mean           0.021951  ...            0.021951     0.021951     0.021951   \n",
       "std            0.146539  ...            0.146539     0.146539     0.146539   \n",
       "min            0.000000  ...            0.000000     0.000000     0.000000   \n",
       "25%            0.000000  ...            0.000000     0.000000     0.000000   \n",
       "50%            0.000000  ...            0.000000     0.000000     0.000000   \n",
       "75%            0.000000  ...            0.000000     0.000000     0.000000   \n",
       "max            1.000000  ...            1.000000     1.000000     1.000000   \n",
       "\n",
       "       skin_peeling  silver_like_dusting  small_dents_in_nails  \\\n",
       "count   4920.000000          4920.000000           4920.000000   \n",
       "mean       0.023171             0.023171              0.023171   \n",
       "std        0.150461             0.150461              0.150461   \n",
       "min        0.000000             0.000000              0.000000   \n",
       "25%        0.000000             0.000000              0.000000   \n",
       "50%        0.000000             0.000000              0.000000   \n",
       "75%        0.000000             0.000000              0.000000   \n",
       "max        1.000000             1.000000              1.000000   \n",
       "\n",
       "       inflammatory_nails      blister  red_sore_around_nose  \\\n",
       "count         4920.000000  4920.000000           4920.000000   \n",
       "mean             0.023171     0.023171              0.023171   \n",
       "std              0.150461     0.150461              0.150461   \n",
       "min              0.000000     0.000000              0.000000   \n",
       "25%              0.000000     0.000000              0.000000   \n",
       "50%              0.000000     0.000000              0.000000   \n",
       "75%              0.000000     0.000000              0.000000   \n",
       "max              1.000000     1.000000              1.000000   \n",
       "\n",
       "       yellow_crust_ooze  \n",
       "count        4920.000000  \n",
       "mean            0.023171  \n",
       "std             0.150461  \n",
       "min             0.000000  \n",
       "25%             0.000000  \n",
       "50%             0.000000  \n",
       "75%             0.000000  \n",
       "max             1.000000  \n",
       "\n",
       "[8 rows x 132 columns]"
      ]
     },
     "execution_count": 10,
     "metadata": {},
     "output_type": "execute_result"
    }
   ],
   "source": [
    "##GETTING THE STATISTICAL MEASURES OF THE DATA\n",
    "data.describe()"
   ]
  },
  {
   "cell_type": "code",
   "execution_count": 11,
   "id": "c9961738",
   "metadata": {},
   "outputs": [
    {
     "data": {
      "text/plain": [
       "itching                 0\n",
       "skin_rash               0\n",
       "nodal_skin_eruptions    0\n",
       "continuous_sneezing     0\n",
       "shivering               0\n",
       "                       ..\n",
       "inflammatory_nails      0\n",
       "blister                 0\n",
       "red_sore_around_nose    0\n",
       "yellow_crust_ooze       0\n",
       "diseases                0\n",
       "Length: 133, dtype: int64"
      ]
     },
     "execution_count": 11,
     "metadata": {},
     "output_type": "execute_result"
    }
   ],
   "source": [
    "#CHECKING IF THERE IS ANY MISSING VALUES\n",
    "data.isnull().sum()"
   ]
  },
  {
   "cell_type": "code",
   "execution_count": 12,
   "id": "b8208be0",
   "metadata": {
    "scrolled": true
   },
   "outputs": [
    {
     "data": {
      "text/plain": [
       "Fungal infection                           120\n",
       "Hepatitis C                                120\n",
       "Hepatitis E                                120\n",
       "Alcoholic hepatitis                        120\n",
       "Tuberculosis                               120\n",
       "Common Cold                                120\n",
       "Pneumonia                                  120\n",
       "Dimorphic hemmorhoids(piles)               120\n",
       "Heart attack                               120\n",
       "Varicose veins                             120\n",
       "Hypothyroidism                             120\n",
       "Hyperthyroidism                            120\n",
       "Hypoglycemia                               120\n",
       "Osteoarthristis                            120\n",
       "Arthritis                                  120\n",
       "(vertigo) Paroymsal  Positional Vertigo    120\n",
       "Acne                                       120\n",
       "Urinary tract infection                    120\n",
       "Psoriasis                                  120\n",
       "Hepatitis D                                120\n",
       "Hepatitis B                                120\n",
       "Allergy                                    120\n",
       "hepatitis A                                120\n",
       "GERD                                       120\n",
       "Chronic cholestasis                        120\n",
       "Drug Reaction                              120\n",
       "Peptic ulcer diseae                        120\n",
       "AIDS                                       120\n",
       "Diabetes                                   120\n",
       "Gastroenteritis                            120\n",
       "Bronchial Asthma                           120\n",
       "Hypertension                               120\n",
       "Migraine                                   120\n",
       "Cervical spondylosis                       120\n",
       "Paralysis (brain hemorrhage)               120\n",
       "Jaundice                                   120\n",
       "Malaria                                    120\n",
       "Chicken pox                                120\n",
       "Dengue                                     120\n",
       "Typhoid                                    120\n",
       "Impetigo                                   120\n",
       "Name: diseases, dtype: int64"
      ]
     },
     "execution_count": 12,
     "metadata": {},
     "output_type": "execute_result"
    }
   ],
   "source": [
    "#CHECKING THE NUMBER OF ROWS PER DISEASE\n",
    "data['diseases'].value_counts()"
   ]
  },
  {
   "cell_type": "markdown",
   "id": "5087589c",
   "metadata": {},
   "source": [
    "The column labeled 'DISEASES' represents all the diseases in our datasets. There are 41 diseases in our dataset"
   ]
  },
  {
   "cell_type": "code",
   "execution_count": 14,
   "id": "92fadc58",
   "metadata": {},
   "outputs": [],
   "source": [
    "## SEPERATING THE DATA FROM LABELS\n",
    "X = data.drop(columns = 'diseases', axis=1)\n",
    "Y = data['diseases']"
   ]
  },
  {
   "cell_type": "code",
   "execution_count": 15,
   "id": "56da2c0b",
   "metadata": {
    "scrolled": true
   },
   "outputs": [
    {
     "name": "stdout",
     "output_type": "stream",
     "text": [
      "      itching  skin_rash  nodal_skin_eruptions  continuous_sneezing  \\\n",
      "0           1          1                     1                    0   \n",
      "1           0          1                     1                    0   \n",
      "2           1          0                     1                    0   \n",
      "3           1          1                     0                    0   \n",
      "4           1          1                     1                    0   \n",
      "...       ...        ...                   ...                  ...   \n",
      "4915        0          0                     0                    0   \n",
      "4916        0          1                     0                    0   \n",
      "4917        0          0                     0                    0   \n",
      "4918        0          1                     0                    0   \n",
      "4919        0          1                     0                    0   \n",
      "\n",
      "      shivering  chills  joint_pain  stomach_pain  acidity  ulcers_on_tongue  \\\n",
      "0             0       0           0             0        0                 0   \n",
      "1             0       0           0             0        0                 0   \n",
      "2             0       0           0             0        0                 0   \n",
      "3             0       0           0             0        0                 0   \n",
      "4             0       0           0             0        0                 0   \n",
      "...         ...     ...         ...           ...      ...               ...   \n",
      "4915          0       0           0             0        0                 0   \n",
      "4916          0       0           0             0        0                 0   \n",
      "4917          0       0           0             0        0                 0   \n",
      "4918          0       0           1             0        0                 0   \n",
      "4919          0       0           0             0        0                 0   \n",
      "\n",
      "      ...  pus_filled_pimples  blackheads  scurring  skin_peeling  \\\n",
      "0     ...                   0           0         0             0   \n",
      "1     ...                   0           0         0             0   \n",
      "2     ...                   0           0         0             0   \n",
      "3     ...                   0           0         0             0   \n",
      "4     ...                   0           0         0             0   \n",
      "...   ...                 ...         ...       ...           ...   \n",
      "4915  ...                   0           0         0             0   \n",
      "4916  ...                   1           1         1             0   \n",
      "4917  ...                   0           0         0             0   \n",
      "4918  ...                   0           0         0             1   \n",
      "4919  ...                   0           0         0             0   \n",
      "\n",
      "      silver_like_dusting  small_dents_in_nails  inflammatory_nails  blister  \\\n",
      "0                       0                     0                   0        0   \n",
      "1                       0                     0                   0        0   \n",
      "2                       0                     0                   0        0   \n",
      "3                       0                     0                   0        0   \n",
      "4                       0                     0                   0        0   \n",
      "...                   ...                   ...                 ...      ...   \n",
      "4915                    0                     0                   0        0   \n",
      "4916                    0                     0                   0        0   \n",
      "4917                    0                     0                   0        0   \n",
      "4918                    1                     1                   1        0   \n",
      "4919                    0                     0                   0        1   \n",
      "\n",
      "      red_sore_around_nose  yellow_crust_ooze  \n",
      "0                        0                  0  \n",
      "1                        0                  0  \n",
      "2                        0                  0  \n",
      "3                        0                  0  \n",
      "4                        0                  0  \n",
      "...                    ...                ...  \n",
      "4915                     0                  0  \n",
      "4916                     0                  0  \n",
      "4917                     0                  0  \n",
      "4918                     0                  0  \n",
      "4919                     1                  1  \n",
      "\n",
      "[4920 rows x 132 columns]\n"
     ]
    }
   ],
   "source": [
    "#Printing X and Y\n",
    "print(X)"
   ]
  },
  {
   "cell_type": "code",
   "execution_count": 16,
   "id": "36ceed41",
   "metadata": {
    "collapsed": true
   },
   "outputs": [
    {
     "name": "stdout",
     "output_type": "stream",
     "text": [
      "0                              Fungal infection\n",
      "1                              Fungal infection\n",
      "2                              Fungal infection\n",
      "3                              Fungal infection\n",
      "4                              Fungal infection\n",
      "                         ...                   \n",
      "4915    (vertigo) Paroymsal  Positional Vertigo\n",
      "4916                                       Acne\n",
      "4917                    Urinary tract infection\n",
      "4918                                  Psoriasis\n",
      "4919                                   Impetigo\n",
      "Name: diseases, Length: 4920, dtype: object\n"
     ]
    }
   ],
   "source": [
    "#Printing Y\n",
    "print(Y)"
   ]
  },
  {
   "cell_type": "markdown",
   "id": "0e136e3d",
   "metadata": {},
   "source": [
    "## DATA STANDARDIZATION"
   ]
  },
  {
   "cell_type": "code",
   "execution_count": 57,
   "id": "e2053888",
   "metadata": {},
   "outputs": [],
   "source": [
    "scaler = StandardScaler()"
   ]
  },
  {
   "cell_type": "code",
   "execution_count": 58,
   "id": "c1a86f82",
   "metadata": {},
   "outputs": [
    {
     "data": {
      "text/html": [
       "<style>#sk-container-id-4 {color: black;background-color: white;}#sk-container-id-4 pre{padding: 0;}#sk-container-id-4 div.sk-toggleable {background-color: white;}#sk-container-id-4 label.sk-toggleable__label {cursor: pointer;display: block;width: 100%;margin-bottom: 0;padding: 0.3em;box-sizing: border-box;text-align: center;}#sk-container-id-4 label.sk-toggleable__label-arrow:before {content: \"▸\";float: left;margin-right: 0.25em;color: #696969;}#sk-container-id-4 label.sk-toggleable__label-arrow:hover:before {color: black;}#sk-container-id-4 div.sk-estimator:hover label.sk-toggleable__label-arrow:before {color: black;}#sk-container-id-4 div.sk-toggleable__content {max-height: 0;max-width: 0;overflow: hidden;text-align: left;background-color: #f0f8ff;}#sk-container-id-4 div.sk-toggleable__content pre {margin: 0.2em;color: black;border-radius: 0.25em;background-color: #f0f8ff;}#sk-container-id-4 input.sk-toggleable__control:checked~div.sk-toggleable__content {max-height: 200px;max-width: 100%;overflow: auto;}#sk-container-id-4 input.sk-toggleable__control:checked~label.sk-toggleable__label-arrow:before {content: \"▾\";}#sk-container-id-4 div.sk-estimator input.sk-toggleable__control:checked~label.sk-toggleable__label {background-color: #d4ebff;}#sk-container-id-4 div.sk-label input.sk-toggleable__control:checked~label.sk-toggleable__label {background-color: #d4ebff;}#sk-container-id-4 input.sk-hidden--visually {border: 0;clip: rect(1px 1px 1px 1px);clip: rect(1px, 1px, 1px, 1px);height: 1px;margin: -1px;overflow: hidden;padding: 0;position: absolute;width: 1px;}#sk-container-id-4 div.sk-estimator {font-family: monospace;background-color: #f0f8ff;border: 1px dotted black;border-radius: 0.25em;box-sizing: border-box;margin-bottom: 0.5em;}#sk-container-id-4 div.sk-estimator:hover {background-color: #d4ebff;}#sk-container-id-4 div.sk-parallel-item::after {content: \"\";width: 100%;border-bottom: 1px solid gray;flex-grow: 1;}#sk-container-id-4 div.sk-label:hover label.sk-toggleable__label {background-color: #d4ebff;}#sk-container-id-4 div.sk-serial::before {content: \"\";position: absolute;border-left: 1px solid gray;box-sizing: border-box;top: 0;bottom: 0;left: 50%;z-index: 0;}#sk-container-id-4 div.sk-serial {display: flex;flex-direction: column;align-items: center;background-color: white;padding-right: 0.2em;padding-left: 0.2em;position: relative;}#sk-container-id-4 div.sk-item {position: relative;z-index: 1;}#sk-container-id-4 div.sk-parallel {display: flex;align-items: stretch;justify-content: center;background-color: white;position: relative;}#sk-container-id-4 div.sk-item::before, #sk-container-id-4 div.sk-parallel-item::before {content: \"\";position: absolute;border-left: 1px solid gray;box-sizing: border-box;top: 0;bottom: 0;left: 50%;z-index: -1;}#sk-container-id-4 div.sk-parallel-item {display: flex;flex-direction: column;z-index: 1;position: relative;background-color: white;}#sk-container-id-4 div.sk-parallel-item:first-child::after {align-self: flex-end;width: 50%;}#sk-container-id-4 div.sk-parallel-item:last-child::after {align-self: flex-start;width: 50%;}#sk-container-id-4 div.sk-parallel-item:only-child::after {width: 0;}#sk-container-id-4 div.sk-dashed-wrapped {border: 1px dashed gray;margin: 0 0.4em 0.5em 0.4em;box-sizing: border-box;padding-bottom: 0.4em;background-color: white;}#sk-container-id-4 div.sk-label label {font-family: monospace;font-weight: bold;display: inline-block;line-height: 1.2em;}#sk-container-id-4 div.sk-label-container {text-align: center;}#sk-container-id-4 div.sk-container {/* jupyter's `normalize.less` sets `[hidden] { display: none; }` but bootstrap.min.css set `[hidden] { display: none !important; }` so we also need the `!important` here to be able to override the default hidden behavior on the sphinx rendered scikit-learn.org. See: https://github.com/scikit-learn/scikit-learn/issues/21755 */display: inline-block !important;position: relative;}#sk-container-id-4 div.sk-text-repr-fallback {display: none;}</style><div id=\"sk-container-id-4\" class=\"sk-top-container\"><div class=\"sk-text-repr-fallback\"><pre>StandardScaler()</pre><b>In a Jupyter environment, please rerun this cell to show the HTML representation or trust the notebook. <br />On GitHub, the HTML representation is unable to render, please try loading this page with nbviewer.org.</b></div><div class=\"sk-container\" hidden><div class=\"sk-item\"><div class=\"sk-estimator sk-toggleable\"><input class=\"sk-toggleable__control sk-hidden--visually\" id=\"sk-estimator-id-4\" type=\"checkbox\" checked><label for=\"sk-estimator-id-4\" class=\"sk-toggleable__label sk-toggleable__label-arrow\">StandardScaler</label><div class=\"sk-toggleable__content\"><pre>StandardScaler()</pre></div></div></div></div></div>"
      ],
      "text/plain": [
       "StandardScaler()"
      ]
     },
     "execution_count": 58,
     "metadata": {},
     "output_type": "execute_result"
    }
   ],
   "source": [
    "scaler.fit(X)"
   ]
  },
  {
   "cell_type": "code",
   "execution_count": 59,
   "id": "acceb5b1",
   "metadata": {},
   "outputs": [],
   "source": [
    "standardized_data = scaler.transform(X)"
   ]
  },
  {
   "cell_type": "code",
   "execution_count": 60,
   "id": "5617a4c9",
   "metadata": {},
   "outputs": [
    {
     "name": "stdout",
     "output_type": "stream",
     "text": [
      "[[ 2.50132708  2.29336913  6.6749948  ... -0.15401412 -0.15401412\n",
      "  -0.15401412]\n",
      " [-0.39978778  2.29336913  6.6749948  ... -0.15401412 -0.15401412\n",
      "  -0.15401412]\n",
      " [ 2.50132708 -0.4360397   6.6749948  ... -0.15401412 -0.15401412\n",
      "  -0.15401412]\n",
      " ...\n",
      " [-0.39978778 -0.4360397  -0.14981285 ... -0.15401412 -0.15401412\n",
      "  -0.15401412]\n",
      " [-0.39978778  2.29336913 -0.14981285 ... -0.15401412 -0.15401412\n",
      "  -0.15401412]\n",
      " [-0.39978778  2.29336913 -0.14981285 ...  6.49291111  6.49291111\n",
      "   6.49291111]]\n"
     ]
    }
   ],
   "source": [
    "print(standardized_data)"
   ]
  },
  {
   "cell_type": "code",
   "execution_count": 61,
   "id": "093642ab",
   "metadata": {},
   "outputs": [],
   "source": [
    "X = standardized_data\n",
    "Y = data['diseases']"
   ]
  },
  {
   "cell_type": "code",
   "execution_count": 62,
   "id": "34876e9a",
   "metadata": {
    "scrolled": true
   },
   "outputs": [
    {
     "name": "stdout",
     "output_type": "stream",
     "text": [
      "[[ 2.50132708  2.29336913  6.6749948  ... -0.15401412 -0.15401412\n",
      "  -0.15401412]\n",
      " [-0.39978778  2.29336913  6.6749948  ... -0.15401412 -0.15401412\n",
      "  -0.15401412]\n",
      " [ 2.50132708 -0.4360397   6.6749948  ... -0.15401412 -0.15401412\n",
      "  -0.15401412]\n",
      " ...\n",
      " [-0.39978778 -0.4360397  -0.14981285 ... -0.15401412 -0.15401412\n",
      "  -0.15401412]\n",
      " [-0.39978778  2.29336913 -0.14981285 ... -0.15401412 -0.15401412\n",
      "  -0.15401412]\n",
      " [-0.39978778  2.29336913 -0.14981285 ...  6.49291111  6.49291111\n",
      "   6.49291111]]\n",
      "0                              Fungal infection\n",
      "1                              Fungal infection\n",
      "2                              Fungal infection\n",
      "3                              Fungal infection\n",
      "4                              Fungal infection\n",
      "                         ...                   \n",
      "4915    (vertigo) Paroymsal  Positional Vertigo\n",
      "4916                                       Acne\n",
      "4917                    Urinary tract infection\n",
      "4918                                  Psoriasis\n",
      "4919                                   Impetigo\n",
      "Name: diseases, Length: 4920, dtype: object\n"
     ]
    }
   ],
   "source": [
    "print(X)\n",
    "print(Y)"
   ]
  },
  {
   "cell_type": "markdown",
   "id": "c87c5496",
   "metadata": {},
   "source": [
    "Train Test Split"
   ]
  },
  {
   "cell_type": "code",
   "execution_count": 17,
   "id": "a34b9ce5",
   "metadata": {},
   "outputs": [],
   "source": [
    "X_train, X_test, Y_train, Y_test = train_test_split(X,Y, test_size=0.2, stratify=Y, random_state=2)"
   ]
  },
  {
   "cell_type": "code",
   "execution_count": 18,
   "id": "81793c88",
   "metadata": {},
   "outputs": [
    {
     "name": "stdout",
     "output_type": "stream",
     "text": [
      "(4920, 132) (3936, 132) (984, 132)\n"
     ]
    }
   ],
   "source": [
    "print(X.shape, X_train.shape, X_test.shape)"
   ]
  },
  {
   "cell_type": "markdown",
   "id": "e90783b7",
   "metadata": {},
   "source": [
    "## TRAINING THE MODELS"
   ]
  },
  {
   "cell_type": "markdown",
   "id": "59af0ccd",
   "metadata": {},
   "source": [
    "## SUPPORT VECTOR MODEL"
   ]
  },
  {
   "cell_type": "code",
   "execution_count": 19,
   "id": "befe337c",
   "metadata": {},
   "outputs": [],
   "source": [
    "from sklearn import svm\n",
    "classifier = svm.SVC(kernel='linear')"
   ]
  },
  {
   "cell_type": "code",
   "execution_count": 20,
   "id": "f2e8c0ba",
   "metadata": {},
   "outputs": [
    {
     "data": {
      "text/html": [
       "<style>#sk-container-id-1 {color: black;background-color: white;}#sk-container-id-1 pre{padding: 0;}#sk-container-id-1 div.sk-toggleable {background-color: white;}#sk-container-id-1 label.sk-toggleable__label {cursor: pointer;display: block;width: 100%;margin-bottom: 0;padding: 0.3em;box-sizing: border-box;text-align: center;}#sk-container-id-1 label.sk-toggleable__label-arrow:before {content: \"▸\";float: left;margin-right: 0.25em;color: #696969;}#sk-container-id-1 label.sk-toggleable__label-arrow:hover:before {color: black;}#sk-container-id-1 div.sk-estimator:hover label.sk-toggleable__label-arrow:before {color: black;}#sk-container-id-1 div.sk-toggleable__content {max-height: 0;max-width: 0;overflow: hidden;text-align: left;background-color: #f0f8ff;}#sk-container-id-1 div.sk-toggleable__content pre {margin: 0.2em;color: black;border-radius: 0.25em;background-color: #f0f8ff;}#sk-container-id-1 input.sk-toggleable__control:checked~div.sk-toggleable__content {max-height: 200px;max-width: 100%;overflow: auto;}#sk-container-id-1 input.sk-toggleable__control:checked~label.sk-toggleable__label-arrow:before {content: \"▾\";}#sk-container-id-1 div.sk-estimator input.sk-toggleable__control:checked~label.sk-toggleable__label {background-color: #d4ebff;}#sk-container-id-1 div.sk-label input.sk-toggleable__control:checked~label.sk-toggleable__label {background-color: #d4ebff;}#sk-container-id-1 input.sk-hidden--visually {border: 0;clip: rect(1px 1px 1px 1px);clip: rect(1px, 1px, 1px, 1px);height: 1px;margin: -1px;overflow: hidden;padding: 0;position: absolute;width: 1px;}#sk-container-id-1 div.sk-estimator {font-family: monospace;background-color: #f0f8ff;border: 1px dotted black;border-radius: 0.25em;box-sizing: border-box;margin-bottom: 0.5em;}#sk-container-id-1 div.sk-estimator:hover {background-color: #d4ebff;}#sk-container-id-1 div.sk-parallel-item::after {content: \"\";width: 100%;border-bottom: 1px solid gray;flex-grow: 1;}#sk-container-id-1 div.sk-label:hover label.sk-toggleable__label {background-color: #d4ebff;}#sk-container-id-1 div.sk-serial::before {content: \"\";position: absolute;border-left: 1px solid gray;box-sizing: border-box;top: 0;bottom: 0;left: 50%;z-index: 0;}#sk-container-id-1 div.sk-serial {display: flex;flex-direction: column;align-items: center;background-color: white;padding-right: 0.2em;padding-left: 0.2em;position: relative;}#sk-container-id-1 div.sk-item {position: relative;z-index: 1;}#sk-container-id-1 div.sk-parallel {display: flex;align-items: stretch;justify-content: center;background-color: white;position: relative;}#sk-container-id-1 div.sk-item::before, #sk-container-id-1 div.sk-parallel-item::before {content: \"\";position: absolute;border-left: 1px solid gray;box-sizing: border-box;top: 0;bottom: 0;left: 50%;z-index: -1;}#sk-container-id-1 div.sk-parallel-item {display: flex;flex-direction: column;z-index: 1;position: relative;background-color: white;}#sk-container-id-1 div.sk-parallel-item:first-child::after {align-self: flex-end;width: 50%;}#sk-container-id-1 div.sk-parallel-item:last-child::after {align-self: flex-start;width: 50%;}#sk-container-id-1 div.sk-parallel-item:only-child::after {width: 0;}#sk-container-id-1 div.sk-dashed-wrapped {border: 1px dashed gray;margin: 0 0.4em 0.5em 0.4em;box-sizing: border-box;padding-bottom: 0.4em;background-color: white;}#sk-container-id-1 div.sk-label label {font-family: monospace;font-weight: bold;display: inline-block;line-height: 1.2em;}#sk-container-id-1 div.sk-label-container {text-align: center;}#sk-container-id-1 div.sk-container {/* jupyter's `normalize.less` sets `[hidden] { display: none; }` but bootstrap.min.css set `[hidden] { display: none !important; }` so we also need the `!important` here to be able to override the default hidden behavior on the sphinx rendered scikit-learn.org. See: https://github.com/scikit-learn/scikit-learn/issues/21755 */display: inline-block !important;position: relative;}#sk-container-id-1 div.sk-text-repr-fallback {display: none;}</style><div id=\"sk-container-id-1\" class=\"sk-top-container\"><div class=\"sk-text-repr-fallback\"><pre>SVC(kernel=&#x27;linear&#x27;)</pre><b>In a Jupyter environment, please rerun this cell to show the HTML representation or trust the notebook. <br />On GitHub, the HTML representation is unable to render, please try loading this page with nbviewer.org.</b></div><div class=\"sk-container\" hidden><div class=\"sk-item\"><div class=\"sk-estimator sk-toggleable\"><input class=\"sk-toggleable__control sk-hidden--visually\" id=\"sk-estimator-id-1\" type=\"checkbox\" checked><label for=\"sk-estimator-id-1\" class=\"sk-toggleable__label sk-toggleable__label-arrow\">SVC</label><div class=\"sk-toggleable__content\"><pre>SVC(kernel=&#x27;linear&#x27;)</pre></div></div></div></div></div>"
      ],
      "text/plain": [
       "SVC(kernel='linear')"
      ]
     },
     "execution_count": 20,
     "metadata": {},
     "output_type": "execute_result"
    }
   ],
   "source": [
    "##TRAINING THE SUPPORT VECTOR MACHINE CLASSIFIER\n",
    "classifier.fit(X_train, Y_train)"
   ]
  },
  {
   "cell_type": "markdown",
   "id": "a0e3fce7",
   "metadata": {},
   "source": [
    "ACCURACY SCORE\n"
   ]
  },
  {
   "cell_type": "code",
   "execution_count": 21,
   "id": "03817370",
   "metadata": {},
   "outputs": [],
   "source": [
    "##accuracy score on the TRAINING DATA #SUPPORT VECTOR\n",
    "X_train_prediction = classifier.predict(X_train)\n",
    "training_data_accuracy = accuracy_score(X_train_prediction, Y_train)"
   ]
  },
  {
   "cell_type": "code",
   "execution_count": 22,
   "id": "e0d85748",
   "metadata": {},
   "outputs": [
    {
     "name": "stdout",
     "output_type": "stream",
     "text": [
      "(SVM) Accuracy score of the training data is:  1.0\n"
     ]
    }
   ],
   "source": [
    "##Printing the accuracy score of the training data\n",
    "print(\"(SVM) Accuracy score of the training data is: \", training_data_accuracy)"
   ]
  },
  {
   "cell_type": "code",
   "execution_count": 26,
   "id": "5fc2b5b1",
   "metadata": {},
   "outputs": [],
   "source": [
    "##accuracy score on the TESTING DATA\n",
    "X_test_prediction = classifier.predict(X_test)\n",
    "testing_data_accuracy = accuracy_score(X_test_prediction, Y_test)"
   ]
  },
  {
   "cell_type": "code",
   "execution_count": 27,
   "id": "319d6011",
   "metadata": {
    "scrolled": true
   },
   "outputs": [
    {
     "name": "stdout",
     "output_type": "stream",
     "text": [
      "(SVM) Accuracy score of the testing data is:  1.0\n"
     ]
    }
   ],
   "source": [
    "##Printing the accuracy score of the testing data\n",
    "print(\"(SVM) Accuracy score of the testing data is: \", testing_data_accuracy)"
   ]
  },
  {
   "cell_type": "markdown",
   "id": "9ab7c628",
   "metadata": {},
   "source": [
    "MAKING A PREDICTIVE SYSTEM - SVM"
   ]
  },
  {
   "cell_type": "code",
   "execution_count": 28,
   "id": "f1f306a6",
   "metadata": {},
   "outputs": [
    {
     "ename": "NameError",
     "evalue": "name 'scaler' is not defined",
     "output_type": "error",
     "traceback": [
      "\u001b[1;31m---------------------------------------------------------------------------\u001b[0m",
      "\u001b[1;31mNameError\u001b[0m                                 Traceback (most recent call last)",
      "Cell \u001b[1;32mIn[28], line 10\u001b[0m\n\u001b[0;32m      7\u001b[0m input_data_reshaped \u001b[38;5;241m=\u001b[39m input_data_as_array\u001b[38;5;241m.\u001b[39mreshape(\u001b[38;5;241m1\u001b[39m, \u001b[38;5;241m-\u001b[39m\u001b[38;5;241m1\u001b[39m)\n\u001b[0;32m      9\u001b[0m \u001b[38;5;66;03m#standardizing the input data\u001b[39;00m\n\u001b[1;32m---> 10\u001b[0m std_data \u001b[38;5;241m=\u001b[39m \u001b[43mscaler\u001b[49m\u001b[38;5;241m.\u001b[39mtransform(input_data_reshaped)\n\u001b[0;32m     11\u001b[0m \u001b[38;5;66;03m#print(std_data)\u001b[39;00m\n\u001b[0;32m     13\u001b[0m prediction \u001b[38;5;241m=\u001b[39m classifier\u001b[38;5;241m.\u001b[39mpredict(std_data)\n",
      "\u001b[1;31mNameError\u001b[0m: name 'scaler' is not defined"
     ]
    }
   ],
   "source": [
    "input_data =(0,0,0,0,0,0,0,0,0,0,0,1,0,0,0,0,0,0,0,0,0,0,0,0,0,0,0,0,0,0,0,1,0,0,0,0,0,0,0,0,0,0,0,0,0,0,0,0,0,0,0,0,0,0,0,0,0,0,0,0,0,0,0,0,0,0,0,0,0,0,0,0,0,0,0,0,0,0,0,0,0,0,0,0,0,0,0,1,0,0,0,0,0,0,0,0,0,0,1,0,0,0,0,0,0,0,0,0,0,0,0,0,0,0,0,0,0,0,0,0,0,0,0,0,0,0,0,0,0,0,0,0)\n",
    "\n",
    "#changing the input_data to numpy array\n",
    "input_data_as_array = np.asarray(input_data)\n",
    "\n",
    "#reshape the array as we are predicting for one instance\n",
    "input_data_reshaped = input_data_as_array.reshape(1, -1)\n",
    "\n",
    "#standardizing the input data\n",
    "std_data = scaler.transform(input_data_reshaped)\n",
    "#print(std_data)\n",
    "\n",
    "prediction = classifier.predict(std_data)\n",
    "print(prediction)"
   ]
  },
  {
   "cell_type": "markdown",
   "id": "f522a036",
   "metadata": {},
   "source": [
    "CONFUSION MATRIX"
   ]
  },
  {
   "cell_type": "code",
   "execution_count": 72,
   "id": "e543236d",
   "metadata": {},
   "outputs": [],
   "source": [
    "#iIMPORTING THE CONFUSION MATRIX MODEL\n",
    "from sklearn.metrics import confusion_matrix"
   ]
  },
  {
   "cell_type": "code",
   "execution_count": 73,
   "id": "3721d727",
   "metadata": {},
   "outputs": [
    {
     "name": "stdout",
     "output_type": "stream",
     "text": [
      "[[96  0  0 ...  0  0  0]\n",
      " [ 0 96  0 ...  0  0  0]\n",
      " [ 0  0 96 ...  0  0  0]\n",
      " ...\n",
      " [ 0  0  0 ... 96  0  0]\n",
      " [ 0  0  0 ...  0 96  0]\n",
      " [ 0  0  0 ...  0  0 96]]\n"
     ]
    }
   ],
   "source": [
    "cf_matrix = confusion_matrix(Y_train, X_train_prediction)\n",
    "print(cf_matrix)"
   ]
  },
  {
   "cell_type": "code",
   "execution_count": 74,
   "id": "cbfb3c92",
   "metadata": {},
   "outputs": [
    {
     "data": {
      "text/plain": [
       "<Axes: >"
      ]
     },
     "execution_count": 74,
     "metadata": {},
     "output_type": "execute_result"
    },
    {
     "data": {
      "image/png": "[encoded data removed]",
      "text/plain": [
       "<Figure size 640x480 with 2 Axes>"
      ]
     },
     "metadata": {},
     "output_type": "display_data"
    }
   ],
   "source": [
    "#ploting\n",
    "import seaborn as sns\n",
    "sns.heatmap(cf_matrix, annot=True)"
   ]
  },
  {
   "cell_type": "markdown",
   "id": "f2acee84",
   "metadata": {},
   "source": [
    "### KMEANS MODEL"
   ]
  },
  {
   "cell_type": "code",
   "execution_count": 75,
   "id": "33b46b6d",
   "metadata": {},
   "outputs": [],
   "source": [
    "from sklearn.cluster import KMeans\n",
    "# for i in range(1,11):\n",
    "#     kmeans = KMeans(n_clusters = i, init = 'k-means++', random_state=0)\n",
    "#     kmeans.fit(X)\n",
    "#     wss.append(kmeans.intertia_)"
   ]
  },
  {
   "cell_type": "code",
   "execution_count": null,
   "id": "7646dfa7",
   "metadata": {},
   "outputs": [],
   "source": []
  },
  {
   "cell_type": "markdown",
   "id": "f57119d6",
   "metadata": {},
   "source": [
    "## LOGISTIC REGRESSION"
   ]
  },
  {
   "cell_type": "code",
   "execution_count": 29,
   "id": "0f1509a1",
   "metadata": {},
   "outputs": [],
   "source": [
    "from sklearn.linear_model import LogisticRegression\n",
    "logistic = LogisticRegression()"
   ]
  },
  {
   "cell_type": "code",
   "execution_count": 30,
   "id": "6140cc1e",
   "metadata": {},
   "outputs": [
    {
     "data": {
      "text/html": [
       "<style>#sk-container-id-2 {color: black;background-color: white;}#sk-container-id-2 pre{padding: 0;}#sk-container-id-2 div.sk-toggleable {background-color: white;}#sk-container-id-2 label.sk-toggleable__label {cursor: pointer;display: block;width: 100%;margin-bottom: 0;padding: 0.3em;box-sizing: border-box;text-align: center;}#sk-container-id-2 label.sk-toggleable__label-arrow:before {content: \"▸\";float: left;margin-right: 0.25em;color: #696969;}#sk-container-id-2 label.sk-toggleable__label-arrow:hover:before {color: black;}#sk-container-id-2 div.sk-estimator:hover label.sk-toggleable__label-arrow:before {color: black;}#sk-container-id-2 div.sk-toggleable__content {max-height: 0;max-width: 0;overflow: hidden;text-align: left;background-color: #f0f8ff;}#sk-container-id-2 div.sk-toggleable__content pre {margin: 0.2em;color: black;border-radius: 0.25em;background-color: #f0f8ff;}#sk-container-id-2 input.sk-toggleable__control:checked~div.sk-toggleable__content {max-height: 200px;max-width: 100%;overflow: auto;}#sk-container-id-2 input.sk-toggleable__control:checked~label.sk-toggleable__label-arrow:before {content: \"▾\";}#sk-container-id-2 div.sk-estimator input.sk-toggleable__control:checked~label.sk-toggleable__label {background-color: #d4ebff;}#sk-container-id-2 div.sk-label input.sk-toggleable__control:checked~label.sk-toggleable__label {background-color: #d4ebff;}#sk-container-id-2 input.sk-hidden--visually {border: 0;clip: rect(1px 1px 1px 1px);clip: rect(1px, 1px, 1px, 1px);height: 1px;margin: -1px;overflow: hidden;padding: 0;position: absolute;width: 1px;}#sk-container-id-2 div.sk-estimator {font-family: monospace;background-color: #f0f8ff;border: 1px dotted black;border-radius: 0.25em;box-sizing: border-box;margin-bottom: 0.5em;}#sk-container-id-2 div.sk-estimator:hover {background-color: #d4ebff;}#sk-container-id-2 div.sk-parallel-item::after {content: \"\";width: 100%;border-bottom: 1px solid gray;flex-grow: 1;}#sk-container-id-2 div.sk-label:hover label.sk-toggleable__label {background-color: #d4ebff;}#sk-container-id-2 div.sk-serial::before {content: \"\";position: absolute;border-left: 1px solid gray;box-sizing: border-box;top: 0;bottom: 0;left: 50%;z-index: 0;}#sk-container-id-2 div.sk-serial {display: flex;flex-direction: column;align-items: center;background-color: white;padding-right: 0.2em;padding-left: 0.2em;position: relative;}#sk-container-id-2 div.sk-item {position: relative;z-index: 1;}#sk-container-id-2 div.sk-parallel {display: flex;align-items: stretch;justify-content: center;background-color: white;position: relative;}#sk-container-id-2 div.sk-item::before, #sk-container-id-2 div.sk-parallel-item::before {content: \"\";position: absolute;border-left: 1px solid gray;box-sizing: border-box;top: 0;bottom: 0;left: 50%;z-index: -1;}#sk-container-id-2 div.sk-parallel-item {display: flex;flex-direction: column;z-index: 1;position: relative;background-color: white;}#sk-container-id-2 div.sk-parallel-item:first-child::after {align-self: flex-end;width: 50%;}#sk-container-id-2 div.sk-parallel-item:last-child::after {align-self: flex-start;width: 50%;}#sk-container-id-2 div.sk-parallel-item:only-child::after {width: 0;}#sk-container-id-2 div.sk-dashed-wrapped {border: 1px dashed gray;margin: 0 0.4em 0.5em 0.4em;box-sizing: border-box;padding-bottom: 0.4em;background-color: white;}#sk-container-id-2 div.sk-label label {font-family: monospace;font-weight: bold;display: inline-block;line-height: 1.2em;}#sk-container-id-2 div.sk-label-container {text-align: center;}#sk-container-id-2 div.sk-container {/* jupyter's `normalize.less` sets `[hidden] { display: none; }` but bootstrap.min.css set `[hidden] { display: none !important; }` so we also need the `!important` here to be able to override the default hidden behavior on the sphinx rendered scikit-learn.org. See: https://github.com/scikit-learn/scikit-learn/issues/21755 */display: inline-block !important;position: relative;}#sk-container-id-2 div.sk-text-repr-fallback {display: none;}</style><div id=\"sk-container-id-2\" class=\"sk-top-container\"><div class=\"sk-text-repr-fallback\"><pre>LogisticRegression()</pre><b>In a Jupyter environment, please rerun this cell to show the HTML representation or trust the notebook. <br />On GitHub, the HTML representation is unable to render, please try loading this page with nbviewer.org.</b></div><div class=\"sk-container\" hidden><div class=\"sk-item\"><div class=\"sk-estimator sk-toggleable\"><input class=\"sk-toggleable__control sk-hidden--visually\" id=\"sk-estimator-id-2\" type=\"checkbox\" checked><label for=\"sk-estimator-id-2\" class=\"sk-toggleable__label sk-toggleable__label-arrow\">LogisticRegression</label><div class=\"sk-toggleable__content\"><pre>LogisticRegression()</pre></div></div></div></div></div>"
      ],
      "text/plain": [
       "LogisticRegression()"
      ]
     },
     "execution_count": 30,
     "metadata": {},
     "output_type": "execute_result"
    }
   ],
   "source": [
    "#training the LogisticRegression with Training Data\n",
    "logistic.fit(X_train, Y_train)"
   ]
  },
  {
   "cell_type": "markdown",
   "id": "bd0987fd",
   "metadata": {},
   "source": [
    "ACCURACY SCORE"
   ]
  },
  {
   "cell_type": "code",
   "execution_count": 31,
   "id": "2f088c33",
   "metadata": {},
   "outputs": [],
   "source": [
    "##accuracy score on the TRAINING DATA #SUPPORT VECTOR\n",
    "X_train_prediction_lr = logistic.predict(X_train)\n",
    "training_data_accuracy = accuracy_score(X_train_prediction_lr, Y_train)"
   ]
  },
  {
   "cell_type": "code",
   "execution_count": 32,
   "id": "f2e96b57",
   "metadata": {},
   "outputs": [
    {
     "name": "stdout",
     "output_type": "stream",
     "text": [
      "LOGISTIC Accuracy score of the training data is:  1.0\n"
     ]
    }
   ],
   "source": [
    "##Printing the accuracy score of the training data\n",
    "print(\"LOGISTIC Accuracy score of the training data is: \", training_data_accuracy)"
   ]
  },
  {
   "cell_type": "code",
   "execution_count": 33,
   "id": "f01481a8",
   "metadata": {},
   "outputs": [],
   "source": [
    "##accuracy score on the TESTING DATA\n",
    "X_test_prediction_lr = logistic.predict(X_test)\n",
    "testing_data_accuracy = accuracy_score(X_test_prediction_lr, Y_test)"
   ]
  },
  {
   "cell_type": "code",
   "execution_count": 34,
   "id": "6983bd05",
   "metadata": {},
   "outputs": [
    {
     "name": "stdout",
     "output_type": "stream",
     "text": [
      "LOGISTIC Accuracy score of the testing data is:  1.0\n"
     ]
    }
   ],
   "source": [
    "##Printing the accuracy score of the testing data\n",
    "print(\"LOGISTIC Accuracy score of the testing data is: \", testing_data_accuracy)"
   ]
  },
  {
   "cell_type": "markdown",
   "id": "cc911792",
   "metadata": {},
   "source": [
    "MAKING A SYSTEM PREDICTIVE - LOGISTIC REGRESSION"
   ]
  },
  {
   "cell_type": "code",
   "execution_count": 35,
   "id": "036163bd",
   "metadata": {},
   "outputs": [
    {
     "ename": "NameError",
     "evalue": "name 'scaler' is not defined",
     "output_type": "error",
     "traceback": [
      "\u001b[1;31m---------------------------------------------------------------------------\u001b[0m",
      "\u001b[1;31mNameError\u001b[0m                                 Traceback (most recent call last)",
      "Cell \u001b[1;32mIn[35], line 10\u001b[0m\n\u001b[0;32m      7\u001b[0m input_data_reshaped \u001b[38;5;241m=\u001b[39m input_data_as_array\u001b[38;5;241m.\u001b[39mreshape(\u001b[38;5;241m1\u001b[39m, \u001b[38;5;241m-\u001b[39m\u001b[38;5;241m1\u001b[39m)\n\u001b[0;32m      9\u001b[0m \u001b[38;5;66;03m#standardizing the input data\u001b[39;00m\n\u001b[1;32m---> 10\u001b[0m std_data \u001b[38;5;241m=\u001b[39m \u001b[43mscaler\u001b[49m\u001b[38;5;241m.\u001b[39mtransform(input_data_reshaped)\n\u001b[0;32m     11\u001b[0m \u001b[38;5;66;03m#print(std_data)\u001b[39;00m\n\u001b[0;32m     13\u001b[0m prediction \u001b[38;5;241m=\u001b[39m logistic\u001b[38;5;241m.\u001b[39mpredict(std_data)\n",
      "\u001b[1;31mNameError\u001b[0m: name 'scaler' is not defined"
     ]
    }
   ],
   "source": [
    "input_data =(0,0,0,0,0,0,0,0,0,0,0,1,0,0,0,0,0,0,0,0,0,0,0,0,0,0,0,0,0,0,0,1,0,0,0,0,0,0,0,0,0,0,0,0,0,0,0,0,0,0,0,0,0,0,0,0,0,0,0,0,0,0,0,0,0,0,0,0,0,0,0,0,0,0,0,0,0,0,0,0,0,0,0,0,0,0,0,1,0,0,0,0,0,0,0,0,0,0,1,0,0,0,0,0,0,0,0,0,0,0,0,0,0,0,0,0,0,0,0,0,0,0,0,0,0,0,0,0,0,0,0,0)\n",
    "\n",
    "#changing the input_data to numpy array\n",
    "input_data_as_array = np.asarray(input_data)\n",
    "\n",
    "#reshape the array as we are predicting for one instance\n",
    "input_data_reshaped = input_data_as_array.reshape(1, -1)\n",
    "\n",
    "#standardizing the input data\n",
    "std_data = scaler.transform(input_data_reshaped)\n",
    "#print(std_data)\n",
    "\n",
    "prediction = logistic.predict(std_data)\n",
    "print(prediction)"
   ]
  },
  {
   "cell_type": "code",
   "execution_count": null,
   "id": "2e9ff64b",
   "metadata": {},
   "outputs": [],
   "source": [
    "#iIMPORTING THE CONFUSION MATRIX MODEL\n",
    "from sklearn.metrics import confusion_matrix"
   ]
  },
  {
   "cell_type": "code",
   "execution_count": null,
   "id": "fb57bf7a",
   "metadata": {},
   "outputs": [],
   "source": [
    "cf_matrix = confusion_matrix(Y_train, X_train_prediction_lr)\n",
    "print(cf_matrix)"
   ]
  },
  {
   "cell_type": "code",
   "execution_count": null,
   "id": "e93aa2a6",
   "metadata": {
    "scrolled": true
   },
   "outputs": [],
   "source": [
    "#ploting\n",
    "import seaborn as sns\n",
    "sns.heatmap(cf_matrix, annot=True)"
   ]
  },
  {
   "cell_type": "markdown",
   "id": "831e1c9e",
   "metadata": {},
   "source": [
    "## DESICION TREE"
   ]
  },
  {
   "cell_type": "code",
   "execution_count": 87,
   "id": "5788c531",
   "metadata": {},
   "outputs": [],
   "source": [
    "#IMPORTING THE ALGORITHM\n",
    "from sklearn import tree\n",
    "dec_tree = tree.DecisionTreeClassifier()"
   ]
  },
  {
   "cell_type": "code",
   "execution_count": 95,
   "id": "a133c8db",
   "metadata": {},
   "outputs": [],
   "source": [
    "#TRAINING THE DECISION TREE WITH THE TRAINING DATA\n",
    "dec_tree = dec_tree.fit(X_train, Y_train)"
   ]
  },
  {
   "cell_type": "markdown",
   "id": "ab646e73",
   "metadata": {},
   "source": [
    "ACCURACY SCORE"
   ]
  },
  {
   "cell_type": "code",
   "execution_count": 96,
   "id": "985a3cc6",
   "metadata": {},
   "outputs": [
    {
     "name": "stdout",
     "output_type": "stream",
     "text": [
      "DECISION TREEE Accuracy score of the training data is:  1.0\n"
     ]
    }
   ],
   "source": [
    "##accuracy score on the TRAINING DATA #SUPPORT VECTOR\n",
    "X_train_prediction_decTree = dec_tree.predict(X_train)\n",
    "training_data_accuracy_decTree = accuracy_score(X_train_prediction_decTree, Y_train)\n",
    "\n",
    "##Printing the accuracy score of the training data\n",
    "print(\"DECISION TREEE Accuracy score of the training data is: \", training_data_accuracy_decTree)"
   ]
  },
  {
   "cell_type": "code",
   "execution_count": 97,
   "id": "327bf0c4",
   "metadata": {},
   "outputs": [
    {
     "name": "stdout",
     "output_type": "stream",
     "text": [
      "DECISION TREE Accuracy score of the testing data is:  1.0\n"
     ]
    }
   ],
   "source": [
    "##accuracy score on the TESTING DATA\n",
    "X_test_prediction_decTree = dec_tree.predict(X_test)\n",
    "testing_data_accuracy_decTree = accuracy_score(X_test_prediction_decTree, Y_test)\n",
    "\n",
    "##Printing the accuracy score of the testing data\n",
    "print(\"DECISION TREE Accuracy score of the testing data is: \", testing_data_accuracy_decTree)"
   ]
  },
  {
   "cell_type": "markdown",
   "id": "7c53fee0",
   "metadata": {},
   "source": [
    "MAKING A SYSTEM PREDICTIVE - DECISION TREE"
   ]
  },
  {
   "cell_type": "code",
   "execution_count": 98,
   "id": "ad6c2992",
   "metadata": {},
   "outputs": [
    {
     "name": "stdout",
     "output_type": "stream",
     "text": [
      "['Paralysis (brain hemorrhage)']\n"
     ]
    },
    {
     "name": "stderr",
     "output_type": "stream",
     "text": [
      "C:\\Users\\sjr\\AppData\\Local\\Programs\\Python\\Python311\\Lib\\site-packages\\sklearn\\base.py:439: UserWarning: X does not have valid feature names, but StandardScaler was fitted with feature names\n",
      "  warnings.warn(\n"
     ]
    }
   ],
   "source": [
    "input_data =(0,0,0,0,0,0,0,0,0,0,0,1,0,0,0,0,0,0,0,0,0,0,0,0,0,0,0,0,0,0,0,1,0,0,0,0,0,0,0,0,0,0,0,0,0,0,0,0,0,0,0,0,0,0,0,0,0,0,0,0,0,0,0,0,0,0,0,0,0,0,0,0,0,0,0,0,0,0,0,0,0,0,0,0,0,0,0,1,0,0,0,0,0,0,0,0,0,0,1,0,0,0,0,0,0,0,0,0,0,0,0,0,0,0,0,0,0,0,0,0,0,0,0,0,0,0,0,0,0,0,0,0)\n",
    "\n",
    "#changing the input_data to numpy array\n",
    "input_data_as_array = np.asarray(input_data)\n",
    "\n",
    "#reshape the array as we are predicting for one instance\n",
    "input_data_reshaped = input_data_as_array.reshape(1, -1)\n",
    "\n",
    "#standardizing the input data\n",
    "std_data = scaler.transform(input_data_reshaped)\n",
    "#print(std_data)\n",
    "\n",
    "prediction = dec_tree.predict(std_data)\n",
    "print(prediction)"
   ]
  },
  {
   "cell_type": "markdown",
   "id": "805bb189",
   "metadata": {},
   "source": [
    "### PLOTTING "
   ]
  },
  {
   "cell_type": "code",
   "execution_count": 99,
   "id": "cc5b9a51",
   "metadata": {},
   "outputs": [
    {
     "data": {
      "text/plain": [
       "[Text(0.9713261648745519, 0.9912280701754386, 'x[55] <= 3.083\\ngini = 0.976\\nsamples = 3936\\nvalue = [96, 96, 96, 96, 96, 96, 96, 96, 96, 96, 96, 96\\n96, 96, 96, 96, 96, 96, 96, 96, 96, 96, 96, 96\\n96, 96, 96, 96, 96, 96, 96, 96, 96, 96, 96, 96\\n96, 96, 96, 96, 96]'),\n",
       " Text(0.956989247311828, 0.9736842105263158, 'x[77] <= 3.083\\ngini = 0.975\\nsamples = 3840\\nvalue = [96, 96, 96, 96, 96, 96, 96, 96, 96, 96, 0, 96\\n96, 96, 96, 96, 96, 96, 96, 96, 96, 96, 96, 96\\n96, 96, 96, 96, 96, 96, 96, 96, 96, 96, 96, 96\\n96, 96, 96, 96, 96]'),\n",
       " Text(0.942652329749104, 0.956140350877193, 'x[36] <= 3.083\\ngini = 0.974\\nsamples = 3744\\nvalue = [96, 96, 96, 96, 96, 96, 96, 96, 96, 96, 0, 96\\n96, 96, 96, 96, 96, 96, 96, 96, 96, 96, 96, 96\\n96, 0, 96, 96, 96, 96, 96, 96, 96, 96, 96, 96\\n96, 96, 96, 96, 96]'),\n",
       " Text(0.9283154121863799, 0.9385964912280702, 'x[114] <= 3.083\\ngini = 0.974\\nsamples = 3648\\nvalue = [96, 96, 96, 96, 96, 96, 96, 96, 96, 96, 0, 0\\n96, 96, 96, 96, 96, 96, 96, 96, 96, 96, 96, 96\\n96, 0, 96, 96, 96, 96, 96, 96, 96, 96, 96, 96\\n96, 96, 96, 96, 96]'),\n",
       " Text(0.9139784946236559, 0.9210526315789473, 'x[104] <= 3.083\\ngini = 0.973\\nsamples = 3552\\nvalue = [96, 96, 96, 96, 96, 96, 96, 96, 96, 96, 0, 0\\n96, 96, 96, 96, 96, 96, 96, 96, 96, 96, 0, 96\\n96, 0, 96, 96, 96, 96, 96, 96, 96, 96, 96, 96\\n96, 96, 96, 96, 96]'),\n",
       " Text(0.899641577060932, 0.9035087719298246, 'x[111] <= 3.083\\ngini = 0.972\\nsamples = 3456\\nvalue = [96, 96, 96, 96, 96, 96, 96, 96, 96, 96, 0, 0\\n0, 96, 96, 96, 96, 96, 96, 96, 96, 96, 0, 96\\n96, 0, 96, 96, 96, 96, 96, 96, 96, 96, 96, 96\\n96, 96, 96, 96, 96]'),\n",
       " Text(0.8853046594982079, 0.8859649122807017, 'x[108] <= 3.083\\ngini = 0.971\\nsamples = 3360\\nvalue = [96, 96, 96, 96, 96, 96, 96, 96, 96, 96, 0, 0\\n0, 96, 96, 96, 96, 96, 96, 0, 96, 96, 0, 96\\n96, 0, 96, 96, 96, 96, 96, 96, 96, 96, 96, 96\\n96, 96, 96, 96, 96]'),\n",
       " Text(0.8709677419354839, 0.868421052631579, 'x[101] <= 2.095\\ngini = 0.971\\nsamples = 3264\\nvalue = [96, 96, 96, 96, 96, 96, 96, 96, 96, 96, 0, 0\\n0, 96, 96, 96, 96, 96, 96, 0, 96, 96, 0, 96\\n96, 0, 96, 96, 96, 96, 96, 96, 96, 96, 0, 96\\n96, 96, 96, 96, 96]'),\n",
       " Text(0.8315412186379928, 0.8508771929824561, 'x[48] <= 1.022\\ngini = 0.969\\nsamples = 3072\\nvalue = [96, 96, 96, 96, 96, 96, 96, 96, 96, 96, 0, 0\\n0, 96, 96, 96, 96, 96, 96, 0, 96, 96, 0, 96, 0\\n0, 0, 96, 96, 96, 96, 96, 96, 96, 0, 96, 96\\n96, 96, 96, 96]'),\n",
       " Text(0.7956989247311828, 0.8333333333333334, 'x[97] <= 1.368\\ngini = 0.967\\nsamples = 2880\\nvalue = [96, 96, 96, 96, 96, 96, 96, 96, 0, 96, 0, 0, 0\\n96, 96, 96, 96, 96, 96, 0, 96, 96, 0, 96, 0, 0\\n0, 96, 96, 96, 96, 96, 96, 96, 0, 96, 0, 96\\n96, 96, 96]'),\n",
       " Text(0.7670250896057348, 0.8157894736842105, 'x[116] <= 3.169\\ngini = 0.964\\nsamples = 2688\\nvalue = [96, 96, 96, 96, 96, 96, 96, 96, 0, 96, 0, 0, 0\\n96, 96, 96, 96, 96, 96, 0, 96, 96, 0, 96, 0, 0\\n0, 96, 96, 0, 96, 96, 96, 96, 0, 96, 0, 96, 96\\n96, 0]'),\n",
       " Text(0.7526881720430108, 0.7982456140350878, 'x[60] <= 3.169\\ngini = 0.963\\nsamples = 2594\\nvalue = [96, 96, 96, 2, 96, 96, 96, 96, 0, 96, 0, 0, 0\\n96, 96, 96, 96, 96, 96, 0, 96, 96, 0, 96, 0, 0\\n0, 96, 96, 0, 96, 96, 96, 96, 0, 96, 0, 96, 96\\n96, 0]'),\n",
       " Text(0.7383512544802867, 0.7807017543859649, 'x[125] <= 3.169\\ngini = 0.962\\nsamples = 2501\\nvalue = [96, 96, 96, 2, 96, 96, 96, 96, 0, 96, 0, 0, 0\\n3, 96, 96, 96, 96, 96, 0, 96, 96, 0, 96, 0, 0\\n0, 96, 96, 0, 96, 96, 96, 96, 0, 96, 0, 96, 96\\n96, 0]'),\n",
       " Text(0.7240143369175627, 0.7631578947368421, 'x[130] <= 3.169\\ngini = 0.96\\nsamples = 2408\\nvalue = [96, 96, 96, 2, 96, 96, 96, 96, 0, 96, 0, 0, 0\\n3, 96, 96, 96, 96, 96, 0, 96, 96, 0, 96, 0, 0\\n0, 96, 96, 0, 96, 96, 96, 96, 0, 3, 0, 96, 96\\n96, 0]'),\n",
       " Text(0.7096774193548387, 0.7456140350877193, 'x[78] <= 3.169\\ngini = 0.959\\nsamples = 2315\\nvalue = [96, 96, 96, 2, 96, 96, 96, 96, 0, 96, 0, 0, 0\\n3, 96, 96, 96, 96, 96, 0, 96, 96, 0, 96, 0, 0\\n0, 3, 96, 0, 96, 96, 96, 96, 0, 3, 0, 96, 96\\n96, 0]'),\n",
       " Text(0.6953405017921147, 0.7280701754385965, 'x[86] <= 3.169\\ngini = 0.957\\nsamples = 2222\\nvalue = [96, 96, 96, 2, 96, 96, 96, 96, 0, 96, 0, 0, 0\\n3, 96, 96, 96, 96, 96, 0, 96, 96, 0, 96, 0, 0\\n0, 3, 96, 0, 96, 3, 96, 96, 0, 3, 0, 96, 96\\n96, 0]'),\n",
       " Text(0.6810035842293907, 0.7105263157894737, 'x[19] <= 1.405\\ngini = 0.955\\nsamples = 2129\\nvalue = [3, 96, 96, 2, 96, 96, 96, 96, 0, 96, 0, 0, 0\\n3, 96, 96, 96, 96, 96, 0, 96, 96, 0, 96, 0, 0\\n0, 3, 96, 0, 96, 3, 96, 96, 0, 3, 0, 96, 96\\n96, 0]'),\n",
       " Text(0.6666666666666666, 0.6929824561403509, 'x[110] <= 3.169\\ngini = 0.953\\nsamples = 2037\\nvalue = [3, 96, 96, 2, 96, 96, 96, 96, 0, 96, 0, 0, 0\\n3, 96, 96, 96, 96, 96, 0, 96, 96, 0, 96, 0, 0\\n0, 3, 4, 0, 96, 3, 96, 96, 0, 3, 0, 96, 96\\n96, 0]'),\n",
       " Text(0.6523297491039427, 0.6754385964912281, 'x[66] <= 3.169\\ngini = 0.951\\nsamples = 1945\\nvalue = [3, 96, 96, 2, 96, 96, 96, 96, 0, 96, 0, 0, 0\\n3, 96, 96, 96, 96, 96, 0, 96, 96, 0, 96, 0, 0\\n0, 3, 4, 0, 4, 3, 96, 96, 0, 3, 0, 96, 96\\n96, 0]'),\n",
       " Text(0.6379928315412187, 0.6578947368421053, 'x[94] <= 3.169\\ngini = 0.949\\nsamples = 1853\\nvalue = [3, 96, 96, 2, 96, 96, 96, 96, 0, 96, 0, 0, 0\\n3, 96, 96, 96, 96, 96, 0, 96, 96, 0, 96, 0, 0\\n0, 3, 4, 0, 4, 3, 96, 96, 0, 3, 0, 96, 96, 4\\n0]'),\n",
       " Text(0.6236559139784946, 0.6403508771929824, 'x[98] <= 3.169\\ngini = 0.946\\nsamples = 1761\\nvalue = [3, 96, 96, 2, 96, 96, 96, 96, 0, 96, 0, 0, 0\\n3, 96, 96, 96, 96, 96, 0, 96, 96, 0, 96, 0, 0\\n0, 3, 4, 0, 4, 3, 96, 96, 0, 3, 0, 4, 96, 4\\n0]'),\n",
       " Text(0.6093189964157706, 0.6228070175438597, 'x[92] <= 3.169\\ngini = 0.944\\nsamples = 1669\\nvalue = [3, 96, 96, 2, 96, 96, 96, 96, 0, 96, 0, 0, 0\\n3, 96, 96, 96, 96, 96, 0, 96, 96, 0, 96, 0, 0\\n0, 3, 4, 0, 4, 3, 4, 96, 0, 3, 0, 4, 96, 4\\n0]'),\n",
       " Text(0.5949820788530465, 0.6052631578947368, 'x[89] <= 3.169\\ngini = 0.941\\nsamples = 1577\\nvalue = [3, 96, 96, 2, 96, 96, 96, 96, 0, 96, 0, 0, 0\\n3, 96, 96, 96, 96, 96, 0, 96, 96, 0, 96, 0, 0\\n0, 3, 4, 0, 4, 3, 4, 4, 0, 3, 0, 4, 96, 4\\n0]'),\n",
       " Text(0.5806451612903226, 0.5877192982456141, 'x[80] <= 2.126\\ngini = 0.937\\nsamples = 1486\\nvalue = [3, 96, 96, 2, 96, 96, 96, 96, 0, 96, 0, 0, 0\\n3, 96, 96, 96, 96, 96, 0, 96, 96, 0, 96, 0, 0\\n0, 3, 4, 0, 4, 3, 4, 4, 0, 3, 0, 4, 5, 4\\n0]'),\n",
       " Text(0.5663082437275986, 0.5701754385964912, 'x[107] <= 3.169\\ngini = 0.934\\nsamples = 1395\\nvalue = [3, 96, 96, 2, 96, 5, 96, 96, 0, 96, 0, 0, 0\\n3, 96, 96, 96, 96, 96, 0, 96, 96, 0, 96, 0, 0\\n0, 3, 4, 0, 4, 3, 4, 4, 0, 3, 0, 4, 5, 4\\n0]'),\n",
       " Text(0.5519713261648745, 0.5526315789473685, 'x[109] <= 3.169\\ngini = 0.929\\nsamples = 1304\\nvalue = [3, 96, 96, 2, 96, 5, 5, 96, 0, 96, 0, 0, 0\\n3, 96, 96, 96, 96, 96, 0, 96, 96, 0, 96, 0, 0\\n0, 3, 4, 0, 4, 3, 4, 4, 0, 3, 0, 4, 5, 4\\n0]'),\n",
       " Text(0.5376344086021505, 0.5350877192982456, 'x[56] <= 1.029\\ngini = 0.925\\nsamples = 1214\\nvalue = [3, 96, 96, 2, 96, 5, 5, 96, 0, 96, 0, 0, 0\\n3, 96, 96, 96, 96, 96, 0, 96, 96, 0, 6, 0, 0\\n0, 3, 4, 0, 4, 3, 4, 4, 0, 3, 0, 4, 5, 4\\n0]'),\n",
       " Text(0.5089605734767025, 0.5175438596491229, 'x[64] <= 1.711\\ngini = 0.912\\nsamples = 1025\\nvalue = [3, 96, 96, 2, 96, 5, 5, 96, 0, 96, 0, 0, 0\\n3, 96, 96, 5, 96, 4, 0, 96, 96, 0, 0, 0, 0\\n0, 3, 4, 0, 4, 3, 4, 4, 0, 3, 0, 4, 5, 4\\n0]'),\n",
       " Text(0.4946236559139785, 0.5, 'x[123] <= 3.263\\ngini = 0.905\\nsamples = 934\\nvalue = [3, 96, 96, 2, 96, 5, 5, 5, 0, 96, 0, 0, 0, 3\\n96, 96, 5, 96, 4, 0, 96, 96, 0, 0, 0, 0, 0\\n3, 4, 0, 4, 3, 4, 4, 0, 3, 0, 4, 5, 4, 0]'),\n",
       " Text(0.48028673835125446, 0.4824561403508772, 'x[102] <= 3.263\\ngini = 0.896\\nsamples = 846\\nvalue = [3, 96, 8, 2, 96, 5, 5, 5, 0, 96, 0, 0, 0, 3\\n96, 96, 5, 96, 4, 0, 96, 96, 0, 0, 0, 0, 0\\n3, 4, 0, 4, 3, 4, 4, 0, 3, 0, 4, 5, 4, 0]'),\n",
       " Text(0.4659498207885305, 0.4649122807017544, 'x[26] <= 3.263\\ngini = 0.887\\nsamples = 758\\nvalue = [3, 96, 8, 2, 96, 5, 5, 5, 0, 96, 0, 0, 0, 3\\n96, 8, 5, 96, 4, 0, 96, 96, 0, 0, 0, 0, 0, 3\\n4, 0, 4, 3, 4, 4, 0, 3, 0, 4, 5, 4, 0]'),\n",
       " Text(0.45161290322580644, 0.4473684210526316, 'x[33] <= 1.2\\ngini = 0.876\\nsamples = 670\\nvalue = [3, 96, 8, 2, 96, 5, 5, 5, 0, 96, 0, 0, 0, 3\\n96, 8, 5, 8, 4, 0, 96, 96, 0, 0, 0, 0, 0, 3\\n4, 0, 4, 3, 4, 4, 0, 3, 0, 4, 5, 4, 0]'),\n",
       " Text(0.4229390681003584, 0.4298245614035088, 'x[3] <= 2.191\\ngini = 0.86\\nsamples = 576\\nvalue = [3, 96, 8, 2, 96, 5, 5, 5, 0, 96, 0, 0, 0, 3\\n96, 8, 5, 8, 4, 0, 96, 6, 0, 0, 0, 0, 0, 3\\n0, 0, 4, 3, 4, 4, 0, 3, 0, 4, 5, 4, 0]'),\n",
       " Text(0.40860215053763443, 0.41228070175438597, 'x[10] <= 3.263\\ngini = 0.843\\nsamples = 489\\nvalue = [3, 96, 8, 2, 9, 5, 5, 5, 0, 96, 0, 0, 0, 3\\n96, 8, 5, 8, 4, 0, 96, 6, 0, 0, 0, 0, 0, 3\\n0, 0, 4, 3, 4, 4, 0, 3, 0, 4, 5, 4, 0]'),\n",
       " Text(0.3942652329749104, 0.39473684210526316, 'x[106] <= 2.158\\ngini = 0.825\\nsamples = 402\\nvalue = [3, 9, 8, 2, 9, 5, 5, 5, 0, 96, 0, 0, 0, 3\\n96, 8, 5, 8, 4, 0, 96, 6, 0, 0, 0, 0, 0, 3\\n0, 0, 4, 3, 4, 4, 0, 3, 0, 4, 5, 4, 0]'),\n",
       " Text(0.3655913978494624, 0.37719298245614036, 'x[13] <= 3.263\\ngini = 0.797\\nsamples = 307\\nvalue = [3, 9, 8, 2, 9, 5, 0, 5, 0, 96, 0, 0, 0, 3\\n96, 8, 5, 8, 4, 0, 6, 6, 0, 0, 0, 0, 0, 3\\n0, 0, 4, 3, 4, 4, 0, 3, 0, 4, 5, 4, 0]'),\n",
       " Text(0.35125448028673834, 0.35964912280701755, 'x[32] <= 0.81\\ngini = 0.796\\nsamples = 221\\nvalue = [3, 9, 8, 2, 9, 5, 0, 5, 0, 96, 0, 0, 0, 3\\n10, 8, 5, 8, 4, 0, 6, 6, 0, 0, 0, 0, 0, 3\\n0, 0, 4, 3, 4, 4, 0, 3, 0, 4, 5, 4, 0]'),\n",
       " Text(0.3154121863799283, 0.34210526315789475, 'x[22] <= 3.263\\ngini = 0.946\\nsamples = 115\\nvalue = [3, 9, 8, 0, 9, 5, 0, 5, 0, 4, 0, 0, 0, 3\\n10, 8, 5, 8, 4, 0, 0, 0, 0, 0, 0, 0, 0, 3\\n0, 0, 4, 3, 4, 4, 0, 3, 0, 4, 5, 4, 0]'),\n",
       " Text(0.3010752688172043, 0.32456140350877194, 'x[4] <= 3.263\\ngini = 0.944\\nsamples = 106\\nvalue = [3, 0, 8, 0, 9, 5, 0, 5, 0, 4, 0, 0, 0, 3\\n10, 8, 5, 8, 4, 0, 0, 0, 0, 0, 0, 0, 0, 3\\n0, 0, 4, 3, 4, 4, 0, 3, 0, 4, 5, 4, 0]'),\n",
       " Text(0.2867383512544803, 0.30701754385964913, 'x[12] <= 2.226\\ngini = 0.942\\nsamples = 97\\nvalue = [3, 0, 8, 0, 0, 5, 0, 5, 0, 4, 0, 0, 0, 3\\n10, 8, 5, 8, 4, 0, 0, 0, 0, 0, 0, 0, 0, 3\\n0, 0, 4, 3, 4, 4, 0, 3, 0, 4, 5, 4, 0]'),\n",
       " Text(0.25806451612903225, 0.2894736842105263, 'x[122] <= 3.263\\ngini = 0.937\\nsamples = 82\\nvalue = [3, 0, 8, 0, 0, 5, 0, 5, 0, 4, 0, 0, 0, 3\\n0, 8, 5, 8, 4, 0, 0, 0, 0, 0, 0, 0, 0, 3\\n0, 0, 4, 3, 4, 4, 0, 3, 0, 4, 0, 4, 0]'),\n",
       " Text(0.24372759856630824, 0.2719298245614035, 'x[2] <= 3.263\\ngini = 0.934\\nsamples = 74\\nvalue = [3, 0, 0, 0, 0, 5, 0, 5, 0, 4, 0, 0, 0, 3\\n0, 8, 5, 8, 4, 0, 0, 0, 0, 0, 0, 0, 0, 3\\n0, 0, 4, 3, 4, 4, 0, 3, 0, 4, 0, 4, 0]'),\n",
       " Text(0.22939068100358423, 0.2543859649122807, 'x[29] <= 3.263\\ngini = 0.932\\nsamples = 66\\nvalue = [3, 0, 0, 0, 0, 5, 0, 5, 0, 4, 0, 0, 0, 3\\n0, 0, 5, 8, 4, 0, 0, 0, 0, 0, 0, 0, 0, 3\\n0, 0, 4, 3, 4, 4, 0, 3, 0, 4, 0, 4, 0]'),\n",
       " Text(0.21505376344086022, 0.23684210526315788, 'x[7] <= 2.191\\ngini = 0.931\\nsamples = 58\\nvalue = [3, 0, 0, 0, 0, 5, 0, 5, 0, 4, 0, 0, 0, 3\\n0, 0, 5, 0, 4, 0, 0, 0, 0, 0, 0, 0, 0, 3\\n0, 0, 4, 3, 4, 4, 0, 3, 0, 4, 0, 4, 0]'),\n",
       " Text(0.2007168458781362, 0.21929824561403508, 'x[83] <= 3.169\\ngini = 0.926\\nsamples = 53\\nvalue = [3, 0, 0, 0, 0, 5, 0, 5, 0, 4, 0, 0, 0, 3\\n0, 0, 0, 0, 4, 0, 0, 0, 0, 0, 0, 0, 0, 3\\n0, 0, 4, 3, 4, 4, 0, 3, 0, 4, 0, 4, 0]'),\n",
       " Text(0.1863799283154122, 0.20175438596491227, 'x[57] <= 3.263\\ngini = 0.921\\nsamples = 48\\nvalue = [3, 0, 0, 0, 0, 0, 0, 5, 0, 4, 0, 0, 0, 3\\n0, 0, 0, 0, 4, 0, 0, 0, 0, 0, 0, 0, 0, 3\\n0, 0, 4, 3, 4, 4, 0, 3, 0, 4, 0, 4, 0]'),\n",
       " Text(0.17204301075268819, 0.18421052631578946, 'x[68] <= 3.169\\ngini = 0.915\\nsamples = 43\\nvalue = [3, 0, 0, 0, 0, 0, 0, 0, 0, 4, 0, 0, 0, 3\\n0, 0, 0, 0, 4, 0, 0, 0, 0, 0, 0, 0, 0, 3\\n0, 0, 4, 3, 4, 4, 0, 3, 0, 4, 0, 4, 0]'),\n",
       " Text(0.15770609318996415, 0.16666666666666666, 'x[28] <= 1.051\\ngini = 0.907\\nsamples = 39\\nvalue = [3, 0, 0, 0, 0, 0, 0, 0, 0, 4, 0, 0, 0, 3\\n0, 0, 0, 0, 4, 0, 0, 0, 0, 0, 0, 0, 0, 3\\n0, 0, 4, 3, 4, 4, 0, 3, 0, 4, 0, 0, 0]'),\n",
       " Text(0.14336917562724014, 0.14912280701754385, 'x[43] <= 0.898\\ngini = 0.898\\nsamples = 35\\nvalue = [3, 0, 0, 0, 0, 0, 0, 0, 0, 4, 0, 0, 0, 3\\n0, 0, 0, 0, 0, 0, 0, 0, 0, 0, 0, 0, 0, 3\\n0, 0, 4, 3, 4, 4, 0, 3, 0, 4, 0, 0, 0]'),\n",
       " Text(0.12903225806451613, 0.13157894736842105, 'x[95] <= 2.126\\ngini = 0.887\\nsamples = 31\\nvalue = [3, 0, 0, 0, 0, 0, 0, 0, 0, 0, 0, 0, 0, 3\\n0, 0, 0, 0, 0, 0, 0, 0, 0, 0, 0, 0, 0, 3\\n0, 0, 4, 3, 4, 4, 0, 3, 0, 4, 0, 0, 0]'),\n",
       " Text(0.11469534050179211, 0.11403508771929824, 'x[93] <= 3.169\\ngini = 0.872\\nsamples = 27\\nvalue = [3, 0, 0, 0, 0, 0, 0, 0, 0, 0, 0, 0, 0, 3\\n0, 0, 0, 0, 0, 0, 0, 0, 0, 0, 0, 0, 0, 3\\n0, 0, 0, 3, 4, 4, 0, 3, 0, 4, 0, 0, 0]'),\n",
       " Text(0.1003584229390681, 0.09649122807017543, 'x[14] <= 0.22\\ngini = 0.854\\nsamples = 23\\nvalue = [3, 0, 0, 0, 0, 0, 0, 0, 0, 0, 0, 0, 0, 3\\n0, 0, 0, 0, 0, 0, 0, 0, 0, 0, 0, 0, 0, 3\\n0, 0, 0, 3, 4, 0, 0, 3, 0, 4, 0, 0, 0]'),\n",
       " Text(0.08602150537634409, 0.07894736842105263, 'x[87] <= 3.263\\ngini = 0.831\\nsamples = 19\\nvalue = [3, 0, 0, 0, 0, 0, 0, 0, 0, 0, 0, 0, 0, 3\\n0, 0, 0, 0, 0, 0, 0, 0, 0, 0, 0, 0, 0, 3\\n0, 0, 0, 3, 4, 0, 0, 3, 0, 0, 0, 0, 0]'),\n",
       " Text(0.07168458781362007, 0.06140350877192982, 'x[1] <= 0.929\\ngini = 0.8\\nsamples = 15\\nvalue = [3, 0, 0, 0, 0, 0, 0, 0, 0, 0, 0, 0, 0, 3\\n0, 0, 0, 0, 0, 0, 0, 0, 0, 0, 0, 0, 0, 3\\n0, 0, 0, 3, 0, 0, 0, 3, 0, 0, 0, 0, 0]'),\n",
       " Text(0.043010752688172046, 0.043859649122807015, 'x[84] <= 3.263\\ngini = 0.667\\nsamples = 9\\nvalue = [3, 0, 0, 0, 0, 0, 0, 0, 0, 0, 0, 0, 0, 3\\n0, 0, 0, 0, 0, 0, 0, 0, 0, 0, 0, 0, 0, 0\\n0, 0, 0, 3, 0, 0, 0, 0, 0, 0, 0, 0, 0]'),\n",
       " Text(0.02867383512544803, 0.02631578947368421, 'x[63] <= 2.158\\ngini = 0.5\\nsamples = 6\\nvalue = [0, 0, 0, 0, 0, 0, 0, 0, 0, 0, 0, 0, 0, 3\\n0, 0, 0, 0, 0, 0, 0, 0, 0, 0, 0, 0, 0, 0\\n0, 0, 0, 3, 0, 0, 0, 0, 0, 0, 0, 0, 0]'),\n",
       " Text(0.014336917562724014, 0.008771929824561403, 'gini = 0.0\\nsamples = 3\\nvalue = [0, 0, 0, 0, 0, 0, 0, 0, 0, 0, 0, 0, 0, 3\\n0, 0, 0, 0, 0, 0, 0, 0, 0, 0, 0, 0, 0, 0\\n0, 0, 0, 0, 0, 0, 0, 0, 0, 0, 0, 0, 0]'),\n",
       " Text(0.043010752688172046, 0.008771929824561403, 'gini = 0.0\\nsamples = 3\\nvalue = [0, 0, 0, 0, 0, 0, 0, 0, 0, 0, 0, 0, 0, 0\\n0, 0, 0, 0, 0, 0, 0, 0, 0, 0, 0, 0, 0, 0\\n0, 0, 0, 3, 0, 0, 0, 0, 0, 0, 0, 0, 0]'),\n",
       " Text(0.05734767025089606, 0.02631578947368421, 'gini = 0.0\\nsamples = 3\\nvalue = [3, 0, 0, 0, 0, 0, 0, 0, 0, 0, 0, 0, 0, 0\\n0, 0, 0, 0, 0, 0, 0, 0, 0, 0, 0, 0, 0, 0\\n0, 0, 0, 0, 0, 0, 0, 0, 0, 0, 0, 0, 0]'),\n",
       " Text(0.1003584229390681, 0.043859649122807015, 'x[131] <= 3.169\\ngini = 0.5\\nsamples = 6\\nvalue = [0, 0, 0, 0, 0, 0, 0, 0, 0, 0, 0, 0, 0, 0\\n0, 0, 0, 0, 0, 0, 0, 0, 0, 0, 0, 0, 0, 3\\n0, 0, 0, 0, 0, 0, 0, 3, 0, 0, 0, 0, 0]'),\n",
       " Text(0.08602150537634409, 0.02631578947368421, 'gini = 0.0\\nsamples = 3\\nvalue = [0, 0, 0, 0, 0, 0, 0, 0, 0, 0, 0, 0, 0, 0\\n0, 0, 0, 0, 0, 0, 0, 0, 0, 0, 0, 0, 0, 0\\n0, 0, 0, 0, 0, 0, 0, 3, 0, 0, 0, 0, 0]'),\n",
       " Text(0.11469534050179211, 0.02631578947368421, 'gini = 0.0\\nsamples = 3\\nvalue = [0, 0, 0, 0, 0, 0, 0, 0, 0, 0, 0, 0, 0, 0\\n0, 0, 0, 0, 0, 0, 0, 0, 0, 0, 0, 0, 0, 3\\n0, 0, 0, 0, 0, 0, 0, 0, 0, 0, 0, 0, 0]'),\n",
       " Text(0.1003584229390681, 0.06140350877192982, 'gini = 0.0\\nsamples = 4\\nvalue = [0, 0, 0, 0, 0, 0, 0, 0, 0, 0, 0, 0, 0, 0\\n0, 0, 0, 0, 0, 0, 0, 0, 0, 0, 0, 0, 0, 0\\n0, 0, 0, 0, 4, 0, 0, 0, 0, 0, 0, 0, 0]'),\n",
       " Text(0.11469534050179211, 0.07894736842105263, 'gini = 0.0\\nsamples = 4\\nvalue = [0, 0, 0, 0, 0, 0, 0, 0, 0, 0, 0, 0, 0, 0\\n0, 0, 0, 0, 0, 0, 0, 0, 0, 0, 0, 0, 0, 0\\n0, 0, 0, 0, 0, 0, 0, 0, 0, 4, 0, 0, 0]'),\n",
       " Text(0.12903225806451613, 0.09649122807017543, 'gini = 0.0\\nsamples = 4\\nvalue = [0, 0, 0, 0, 0, 0, 0, 0, 0, 0, 0, 0, 0, 0\\n0, 0, 0, 0, 0, 0, 0, 0, 0, 0, 0, 0, 0, 0\\n0, 0, 0, 0, 0, 4, 0, 0, 0, 0, 0, 0, 0]'),\n",
       " Text(0.14336917562724014, 0.11403508771929824, 'gini = 0.0\\nsamples = 4\\nvalue = [0, 0, 0, 0, 0, 0, 0, 0, 0, 0, 0, 0, 0, 0\\n0, 0, 0, 0, 0, 0, 0, 0, 0, 0, 0, 0, 0, 0\\n0, 0, 4, 0, 0, 0, 0, 0, 0, 0, 0, 0, 0]'),\n",
       " Text(0.15770609318996415, 0.13157894736842105, 'gini = 0.0\\nsamples = 4\\nvalue = [0, 0, 0, 0, 0, 0, 0, 0, 0, 4, 0, 0, 0, 0\\n0, 0, 0, 0, 0, 0, 0, 0, 0, 0, 0, 0, 0, 0\\n0, 0, 0, 0, 0, 0, 0, 0, 0, 0, 0, 0, 0]'),\n",
       " Text(0.17204301075268819, 0.14912280701754385, 'gini = 0.0\\nsamples = 4\\nvalue = [0, 0, 0, 0, 0, 0, 0, 0, 0, 0, 0, 0, 0, 0\\n0, 0, 0, 0, 4, 0, 0, 0, 0, 0, 0, 0, 0, 0\\n0, 0, 0, 0, 0, 0, 0, 0, 0, 0, 0, 0, 0]'),\n",
       " Text(0.1863799283154122, 0.16666666666666666, 'gini = 0.0\\nsamples = 4\\nvalue = [0, 0, 0, 0, 0, 0, 0, 0, 0, 0, 0, 0, 0, 0\\n0, 0, 0, 0, 0, 0, 0, 0, 0, 0, 0, 0, 0, 0\\n0, 0, 0, 0, 0, 0, 0, 0, 0, 0, 0, 4, 0]'),\n",
       " Text(0.2007168458781362, 0.18421052631578946, 'gini = 0.0\\nsamples = 5\\nvalue = [0, 0, 0, 0, 0, 0, 0, 5, 0, 0, 0, 0, 0, 0\\n0, 0, 0, 0, 0, 0, 0, 0, 0, 0, 0, 0, 0, 0\\n0, 0, 0, 0, 0, 0, 0, 0, 0, 0, 0, 0, 0]'),\n",
       " Text(0.21505376344086022, 0.20175438596491227, 'gini = 0.0\\nsamples = 5\\nvalue = [0, 0, 0, 0, 0, 5, 0, 0, 0, 0, 0, 0, 0, 0\\n0, 0, 0, 0, 0, 0, 0, 0, 0, 0, 0, 0, 0, 0\\n0, 0, 0, 0, 0, 0, 0, 0, 0, 0, 0, 0, 0]'),\n",
       " Text(0.22939068100358423, 0.21929824561403508, 'gini = 0.0\\nsamples = 5\\nvalue = [0, 0, 0, 0, 0, 0, 0, 0, 0, 0, 0, 0, 0, 0\\n0, 0, 5, 0, 0, 0, 0, 0, 0, 0, 0, 0, 0, 0\\n0, 0, 0, 0, 0, 0, 0, 0, 0, 0, 0, 0, 0]'),\n",
       " Text(0.24372759856630824, 0.23684210526315788, 'gini = 0.0\\nsamples = 8\\nvalue = [0, 0, 0, 0, 0, 0, 0, 0, 0, 0, 0, 0, 0, 0\\n0, 0, 0, 8, 0, 0, 0, 0, 0, 0, 0, 0, 0, 0\\n0, 0, 0, 0, 0, 0, 0, 0, 0, 0, 0, 0, 0]'),\n",
       " Text(0.25806451612903225, 0.2543859649122807, 'gini = 0.0\\nsamples = 8\\nvalue = [0, 0, 0, 0, 0, 0, 0, 0, 0, 0, 0, 0, 0, 0\\n0, 8, 0, 0, 0, 0, 0, 0, 0, 0, 0, 0, 0, 0\\n0, 0, 0, 0, 0, 0, 0, 0, 0, 0, 0, 0, 0]'),\n",
       " Text(0.2724014336917563, 0.2719298245614035, 'gini = 0.0\\nsamples = 8\\nvalue = [0, 0, 8, 0, 0, 0, 0, 0, 0, 0, 0, 0, 0, 0\\n0, 0, 0, 0, 0, 0, 0, 0, 0, 0, 0, 0, 0, 0\\n0, 0, 0, 0, 0, 0, 0, 0, 0, 0, 0, 0, 0]'),\n",
       " Text(0.3154121863799283, 0.2894736842105263, 'x[90] <= 3.364\\ngini = 0.444\\nsamples = 15\\nvalue = [0, 0, 0, 0, 0, 0, 0, 0, 0, 0, 0, 0, 0, 0\\n10, 0, 0, 0, 0, 0, 0, 0, 0, 0, 0, 0, 0, 0\\n0, 0, 0, 0, 0, 0, 0, 0, 0, 0, 5, 0, 0]'),\n",
       " Text(0.3010752688172043, 0.2719298245614035, 'gini = 0.0\\nsamples = 10\\nvalue = [0, 0, 0, 0, 0, 0, 0, 0, 0, 0, 0, 0, 0, 0\\n10, 0, 0, 0, 0, 0, 0, 0, 0, 0, 0, 0, 0, 0\\n0, 0, 0, 0, 0, 0, 0, 0, 0, 0, 0, 0, 0]'),\n",
       " Text(0.32974910394265233, 0.2719298245614035, 'gini = 0.0\\nsamples = 5\\nvalue = [0, 0, 0, 0, 0, 0, 0, 0, 0, 0, 0, 0, 0, 0\\n0, 0, 0, 0, 0, 0, 0, 0, 0, 0, 0, 0, 0, 0\\n0, 0, 0, 0, 0, 0, 0, 0, 0, 0, 5, 0, 0]'),\n",
       " Text(0.3154121863799283, 0.30701754385964913, 'gini = 0.0\\nsamples = 9\\nvalue = [0, 0, 0, 0, 9, 0, 0, 0, 0, 0, 0, 0, 0, 0\\n0, 0, 0, 0, 0, 0, 0, 0, 0, 0, 0, 0, 0, 0\\n0, 0, 0, 0, 0, 0, 0, 0, 0, 0, 0, 0, 0]'),\n",
       " Text(0.32974910394265233, 0.32456140350877194, 'gini = 0.0\\nsamples = 9\\nvalue = [0, 9, 0, 0, 0, 0, 0, 0, 0, 0, 0, 0, 0, 0\\n0, 0, 0, 0, 0, 0, 0, 0, 0, 0, 0, 0, 0, 0\\n0, 0, 0, 0, 0, 0, 0, 0, 0, 0, 0, 0, 0]'),\n",
       " Text(0.3870967741935484, 0.34210526315789475, 'x[14] <= 0.22\\ngini = 0.24\\nsamples = 106\\nvalue = [0, 0, 0, 2, 0, 0, 0, 0, 0, 92, 0, 0, 0, 0\\n0, 0, 0, 0, 0, 0, 6, 6, 0, 0, 0, 0, 0, 0\\n0, 0, 0, 0, 0, 0, 0, 0, 0, 0, 0, 0, 0]'),\n",
       " Text(0.35842293906810035, 0.32456140350877194, 'x[115] <= 3.169\\ngini = 0.042\\nsamples = 94\\nvalue = [0, 0, 0, 2, 0, 0, 0, 0, 0, 92, 0, 0, 0, 0\\n0, 0, 0, 0, 0, 0, 0, 0, 0, 0, 0, 0, 0, 0\\n0, 0, 0, 0, 0, 0, 0, 0, 0, 0, 0, 0, 0]'),\n",
       " Text(0.34408602150537637, 0.30701754385964913, 'gini = 0.0\\nsamples = 92\\nvalue = [0, 0, 0, 0, 0, 0, 0, 0, 0, 92, 0, 0, 0, 0\\n0, 0, 0, 0, 0, 0, 0, 0, 0, 0, 0, 0, 0, 0\\n0, 0, 0, 0, 0, 0, 0, 0, 0, 0, 0, 0, 0]'),\n",
       " Text(0.3727598566308244, 0.30701754385964913, 'gini = 0.0\\nsamples = 2\\nvalue = [0, 0, 0, 2, 0, 0, 0, 0, 0, 0, 0, 0, 0, 0\\n0, 0, 0, 0, 0, 0, 0, 0, 0, 0, 0, 0, 0, 0\\n0, 0, 0, 0, 0, 0, 0, 0, 0, 0, 0, 0, 0]'),\n",
       " Text(0.4157706093189964, 0.32456140350877194, 'x[11] <= 0.228\\ngini = 0.5\\nsamples = 12\\nvalue = [0, 0, 0, 0, 0, 0, 0, 0, 0, 0, 0, 0, 0, 0\\n0, 0, 0, 0, 0, 0, 6, 6, 0, 0, 0, 0, 0, 0\\n0, 0, 0, 0, 0, 0, 0, 0, 0, 0, 0, 0, 0]'),\n",
       " Text(0.4014336917562724, 0.30701754385964913, 'gini = 0.0\\nsamples = 6\\nvalue = [0, 0, 0, 0, 0, 0, 0, 0, 0, 0, 0, 0, 0, 0\\n0, 0, 0, 0, 0, 0, 6, 0, 0, 0, 0, 0, 0, 0\\n0, 0, 0, 0, 0, 0, 0, 0, 0, 0, 0, 0, 0]'),\n",
       " Text(0.43010752688172044, 0.30701754385964913, 'gini = 0.0\\nsamples = 6\\nvalue = [0, 0, 0, 0, 0, 0, 0, 0, 0, 0, 0, 0, 0, 0\\n0, 0, 0, 0, 0, 0, 0, 6, 0, 0, 0, 0, 0, 0\\n0, 0, 0, 0, 0, 0, 0, 0, 0, 0, 0, 0, 0]'),\n",
       " Text(0.37992831541218636, 0.35964912280701755, 'gini = 0.0\\nsamples = 86\\nvalue = [0, 0, 0, 0, 0, 0, 0, 0, 0, 0, 0, 0, 0, 0\\n86, 0, 0, 0, 0, 0, 0, 0, 0, 0, 0, 0, 0, 0\\n0, 0, 0, 0, 0, 0, 0, 0, 0, 0, 0, 0, 0]'),\n",
       " Text(0.4229390681003584, 0.37719298245614036, 'x[27] <= 1.417\\ngini = 0.1\\nsamples = 95\\nvalue = [0, 0, 0, 0, 0, 0, 5, 0, 0, 0, 0, 0, 0, 0\\n0, 0, 0, 0, 0, 0, 90, 0, 0, 0, 0, 0, 0, 0\\n0, 0, 0, 0, 0, 0, 0, 0, 0, 0, 0, 0, 0]'),\n",
       " Text(0.40860215053763443, 0.35964912280701755, 'gini = 0.0\\nsamples = 90\\nvalue = [0, 0, 0, 0, 0, 0, 0, 0, 0, 0, 0, 0, 0, 0\\n0, 0, 0, 0, 0, 0, 90, 0, 0, 0, 0, 0, 0, 0\\n0, 0, 0, 0, 0, 0, 0, 0, 0, 0, 0, 0, 0]'),\n",
       " Text(0.43727598566308246, 0.35964912280701755, 'gini = 0.0\\nsamples = 5\\nvalue = [0, 0, 0, 0, 0, 0, 5, 0, 0, 0, 0, 0, 0, 0\\n0, 0, 0, 0, 0, 0, 0, 0, 0, 0, 0, 0, 0, 0\\n0, 0, 0, 0, 0, 0, 0, 0, 0, 0, 0, 0, 0]'),\n",
       " Text(0.4229390681003584, 0.39473684210526316, 'gini = 0.0\\nsamples = 87\\nvalue = [0, 87, 0, 0, 0, 0, 0, 0, 0, 0, 0, 0, 0, 0\\n0, 0, 0, 0, 0, 0, 0, 0, 0, 0, 0, 0, 0, 0\\n0, 0, 0, 0, 0, 0, 0, 0, 0, 0, 0, 0, 0]'),\n",
       " Text(0.43727598566308246, 0.41228070175438597, 'gini = 0.0\\nsamples = 87\\nvalue = [0, 0, 0, 0, 87, 0, 0, 0, 0, 0, 0, 0, 0, 0\\n0, 0, 0, 0, 0, 0, 0, 0, 0, 0, 0, 0, 0, 0\\n0, 0, 0, 0, 0, 0, 0, 0, 0, 0, 0, 0, 0]'),\n",
       " Text(0.48028673835125446, 0.4298245614035088, 'x[25] <= 0.499\\ngini = 0.081\\nsamples = 94\\nvalue = [0, 0, 0, 0, 0, 0, 0, 0, 0, 0, 0, 0, 0, 0\\n0, 0, 0, 0, 0, 0, 0, 90, 0, 0, 0, 0, 0, 0\\n4, 0, 0, 0, 0, 0, 0, 0, 0, 0, 0, 0, 0]'),\n",
       " Text(0.4659498207885305, 0.41228070175438597, 'gini = 0.0\\nsamples = 90\\nvalue = [0, 0, 0, 0, 0, 0, 0, 0, 0, 0, 0, 0, 0, 0\\n0, 0, 0, 0, 0, 0, 0, 90, 0, 0, 0, 0, 0, 0\\n0, 0, 0, 0, 0, 0, 0, 0, 0, 0, 0, 0, 0]'),\n",
       " Text(0.4946236559139785, 0.41228070175438597, 'gini = 0.0\\nsamples = 4\\nvalue = [0, 0, 0, 0, 0, 0, 0, 0, 0, 0, 0, 0, 0, 0\\n0, 0, 0, 0, 0, 0, 0, 0, 0, 0, 0, 0, 0, 0\\n4, 0, 0, 0, 0, 0, 0, 0, 0, 0, 0, 0, 0]'),\n",
       " Text(0.48028673835125446, 0.4473684210526316, 'gini = 0.0\\nsamples = 88\\nvalue = [0, 0, 0, 0, 0, 0, 0, 0, 0, 0, 0, 0, 0, 0\\n0, 0, 0, 88, 0, 0, 0, 0, 0, 0, 0, 0, 0, 0\\n0, 0, 0, 0, 0, 0, 0, 0, 0, 0, 0, 0, 0]'),\n",
       " Text(0.4946236559139785, 0.4649122807017544, 'gini = 0.0\\nsamples = 88\\nvalue = [0, 0, 0, 0, 0, 0, 0, 0, 0, 0, 0, 0, 0, 0\\n0, 88, 0, 0, 0, 0, 0, 0, 0, 0, 0, 0, 0, 0\\n0, 0, 0, 0, 0, 0, 0, 0, 0, 0, 0, 0, 0]'),\n",
       " Text(0.5089605734767025, 0.4824561403508772, 'gini = 0.0\\nsamples = 88\\nvalue = [0, 0, 88, 0, 0, 0, 0, 0, 0, 0, 0, 0, 0, 0\\n0, 0, 0, 0, 0, 0, 0, 0, 0, 0, 0, 0, 0, 0\\n0, 0, 0, 0, 0, 0, 0, 0, 0, 0, 0, 0, 0]'),\n",
       " Text(0.5232974910394266, 0.5, 'gini = 0.0\\nsamples = 91\\nvalue = [0, 0, 0, 0, 0, 0, 0, 91, 0, 0, 0, 0, 0, 0\\n0, 0, 0, 0, 0, 0, 0, 0, 0, 0, 0, 0, 0, 0\\n0, 0, 0, 0, 0, 0, 0, 0, 0, 0, 0, 0, 0]'),\n",
       " Text(0.5663082437275986, 0.5175438596491229, 'x[24] <= 1.21\\ngini = 0.53\\nsamples = 189\\nvalue = [0, 0, 0, 0, 0, 0, 0, 0, 0, 0, 0, 0, 0, 0\\n0, 0, 91, 0, 92, 0, 0, 0, 0, 6, 0, 0, 0, 0\\n0, 0, 0, 0, 0, 0, 0, 0, 0, 0, 0, 0, 0]'),\n",
       " Text(0.5519713261648745, 0.5, 'x[64] <= 1.711\\ngini = 0.196\\nsamples = 103\\nvalue = [0, 0, 0, 0, 0, 0, 0, 0, 0, 0, 0, 0, 0, 0\\n0, 0, 5, 0, 92, 0, 0, 0, 0, 6, 0, 0, 0, 0\\n0, 0, 0, 0, 0, 0, 0, 0, 0, 0, 0, 0, 0]'),\n",
       " Text(0.5376344086021505, 0.4824561403508772, 'x[9] <= 3.263\\ngini = 0.098\\nsamples = 97\\nvalue = [0, 0, 0, 0, 0, 0, 0, 0, 0, 0, 0, 0, 0, 0\\n0, 0, 5, 0, 92, 0, 0, 0, 0, 0, 0, 0, 0, 0\\n0, 0, 0, 0, 0, 0, 0, 0, 0, 0, 0, 0, 0]'),\n",
       " Text(0.5232974910394266, 0.4649122807017544, 'gini = 0.0\\nsamples = 92\\nvalue = [0, 0, 0, 0, 0, 0, 0, 0, 0, 0, 0, 0, 0, 0\\n0, 0, 0, 0, 92, 0, 0, 0, 0, 0, 0, 0, 0, 0\\n0, 0, 0, 0, 0, 0, 0, 0, 0, 0, 0, 0, 0]'),\n",
       " Text(0.5519713261648745, 0.4649122807017544, 'gini = 0.0\\nsamples = 5\\nvalue = [0, 0, 0, 0, 0, 0, 0, 0, 0, 0, 0, 0, 0, 0\\n0, 0, 5, 0, 0, 0, 0, 0, 0, 0, 0, 0, 0, 0\\n0, 0, 0, 0, 0, 0, 0, 0, 0, 0, 0, 0, 0]'),\n",
       " Text(0.5663082437275986, 0.4824561403508772, 'gini = 0.0\\nsamples = 6\\nvalue = [0, 0, 0, 0, 0, 0, 0, 0, 0, 0, 0, 0, 0, 0\\n0, 0, 0, 0, 0, 0, 0, 0, 0, 6, 0, 0, 0, 0\\n0, 0, 0, 0, 0, 0, 0, 0, 0, 0, 0, 0, 0]'),\n",
       " Text(0.5806451612903226, 0.5, 'gini = 0.0\\nsamples = 86\\nvalue = [0, 0, 0, 0, 0, 0, 0, 0, 0, 0, 0, 0, 0, 0\\n0, 0, 86, 0, 0, 0, 0, 0, 0, 0, 0, 0, 0, 0\\n0, 0, 0, 0, 0, 0, 0, 0, 0, 0, 0, 0, 0]'),\n",
       " Text(0.5663082437275986, 0.5350877192982456, 'gini = 0.0\\nsamples = 90\\nvalue = [0, 0, 0, 0, 0, 0, 0, 0, 0, 0, 0, 0, 0, 0\\n0, 0, 0, 0, 0, 0, 0, 0, 0, 90, 0, 0, 0, 0\\n0, 0, 0, 0, 0, 0, 0, 0, 0, 0, 0, 0, 0]'),\n",
       " Text(0.5806451612903226, 0.5526315789473685, 'gini = 0.0\\nsamples = 91\\nvalue = [0, 0, 0, 0, 0, 0, 91, 0, 0, 0, 0, 0, 0, 0\\n0, 0, 0, 0, 0, 0, 0, 0, 0, 0, 0, 0, 0, 0\\n0, 0, 0, 0, 0, 0, 0, 0, 0, 0, 0, 0, 0]'),\n",
       " Text(0.5949820788530465, 0.5701754385964912, 'gini = 0.0\\nsamples = 91\\nvalue = [0, 0, 0, 0, 0, 91, 0, 0, 0, 0, 0, 0, 0, 0\\n0, 0, 0, 0, 0, 0, 0, 0, 0, 0, 0, 0, 0, 0\\n0, 0, 0, 0, 0, 0, 0, 0, 0, 0, 0, 0, 0]'),\n",
       " Text(0.6093189964157706, 0.5877192982456141, 'gini = 0.0\\nsamples = 91\\nvalue = [0, 0, 0, 0, 0, 0, 0, 0, 0, 0, 0, 0, 0, 0\\n0, 0, 0, 0, 0, 0, 0, 0, 0, 0, 0, 0, 0, 0\\n0, 0, 0, 0, 0, 0, 0, 0, 0, 0, 91, 0, 0]'),\n",
       " Text(0.6236559139784946, 0.6052631578947368, 'gini = 0.0\\nsamples = 92\\nvalue = [0, 0, 0, 0, 0, 0, 0, 0, 0, 0, 0, 0, 0, 0\\n0, 0, 0, 0, 0, 0, 0, 0, 0, 0, 0, 0, 0, 0\\n0, 0, 0, 0, 0, 92, 0, 0, 0, 0, 0, 0, 0]'),\n",
       " Text(0.6379928315412187, 0.6228070175438597, 'gini = 0.0\\nsamples = 92\\nvalue = [0, 0, 0, 0, 0, 0, 0, 0, 0, 0, 0, 0, 0, 0\\n0, 0, 0, 0, 0, 0, 0, 0, 0, 0, 0, 0, 0, 0\\n0, 0, 0, 0, 92, 0, 0, 0, 0, 0, 0, 0, 0]'),\n",
       " Text(0.6523297491039427, 0.6403508771929824, 'gini = 0.0\\nsamples = 92\\nvalue = [0, 0, 0, 0, 0, 0, 0, 0, 0, 0, 0, 0, 0, 0\\n0, 0, 0, 0, 0, 0, 0, 0, 0, 0, 0, 0, 0, 0\\n0, 0, 0, 0, 0, 0, 0, 0, 0, 92, 0, 0, 0]'),\n",
       " Text(0.6666666666666666, 0.6578947368421053, 'gini = 0.0\\nsamples = 92\\nvalue = [0, 0, 0, 0, 0, 0, 0, 0, 0, 0, 0, 0, 0, 0\\n0, 0, 0, 0, 0, 0, 0, 0, 0, 0, 0, 0, 0, 0\\n0, 0, 0, 0, 0, 0, 0, 0, 0, 0, 0, 92, 0]'),\n",
       " Text(0.6810035842293907, 0.6754385964912281, 'gini = 0.0\\nsamples = 92\\nvalue = [0, 0, 0, 0, 0, 0, 0, 0, 0, 0, 0, 0, 0, 0\\n0, 0, 0, 0, 0, 0, 0, 0, 0, 0, 0, 0, 0, 0\\n0, 0, 92, 0, 0, 0, 0, 0, 0, 0, 0, 0, 0]'),\n",
       " Text(0.6953405017921147, 0.6929824561403509, 'gini = 0.0\\nsamples = 92\\nvalue = [0, 0, 0, 0, 0, 0, 0, 0, 0, 0, 0, 0, 0, 0\\n0, 0, 0, 0, 0, 0, 0, 0, 0, 0, 0, 0, 0, 0\\n92, 0, 0, 0, 0, 0, 0, 0, 0, 0, 0, 0, 0]'),\n",
       " Text(0.7096774193548387, 0.7105263157894737, 'gini = 0.0\\nsamples = 93\\nvalue = [93, 0, 0, 0, 0, 0, 0, 0, 0, 0, 0, 0, 0, 0\\n0, 0, 0, 0, 0, 0, 0, 0, 0, 0, 0, 0, 0, 0\\n0, 0, 0, 0, 0, 0, 0, 0, 0, 0, 0, 0, 0]'),\n",
       " Text(0.7240143369175627, 0.7280701754385965, 'gini = 0.0\\nsamples = 93\\nvalue = [0, 0, 0, 0, 0, 0, 0, 0, 0, 0, 0, 0, 0, 0\\n0, 0, 0, 0, 0, 0, 0, 0, 0, 0, 0, 0, 0, 0\\n0, 0, 0, 93, 0, 0, 0, 0, 0, 0, 0, 0, 0]'),\n",
       " Text(0.7383512544802867, 0.7456140350877193, 'gini = 0.0\\nsamples = 93\\nvalue = [0, 0, 0, 0, 0, 0, 0, 0, 0, 0, 0, 0, 0, 0\\n0, 0, 0, 0, 0, 0, 0, 0, 0, 0, 0, 0, 0, 93\\n0, 0, 0, 0, 0, 0, 0, 0, 0, 0, 0, 0, 0]'),\n",
       " Text(0.7526881720430108, 0.7631578947368421, 'gini = 0.0\\nsamples = 93\\nvalue = [0, 0, 0, 0, 0, 0, 0, 0, 0, 0, 0, 0, 0, 0\\n0, 0, 0, 0, 0, 0, 0, 0, 0, 0, 0, 0, 0, 0\\n0, 0, 0, 0, 0, 0, 0, 93, 0, 0, 0, 0, 0]'),\n",
       " Text(0.7670250896057348, 0.7807017543859649, 'gini = 0.0\\nsamples = 93\\nvalue = [0, 0, 0, 0, 0, 0, 0, 0, 0, 0, 0, 0, 0, 93\\n0, 0, 0, 0, 0, 0, 0, 0, 0, 0, 0, 0, 0, 0\\n0, 0, 0, 0, 0, 0, 0, 0, 0, 0, 0, 0, 0]'),\n",
       " Text(0.7813620071684588, 0.7982456140350878, 'gini = 0.0\\nsamples = 94\\nvalue = [0, 0, 0, 94, 0, 0, 0, 0, 0, 0, 0, 0, 0, 0\\n0, 0, 0, 0, 0, 0, 0, 0, 0, 0, 0, 0, 0, 0\\n0, 0, 0, 0, 0, 0, 0, 0, 0, 0, 0, 0, 0]'),\n",
       " Text(0.8243727598566308, 0.8157894736842105, 'x[41] <= 1.656\\ngini = 0.5\\nsamples = 192\\nvalue = [0, 0, 0, 0, 0, 0, 0, 0, 0, 0, 0, 0, 0, 0\\n0, 0, 0, 0, 0, 0, 0, 0, 0, 0, 0, 0, 0, 0\\n0, 96, 0, 0, 0, 0, 0, 0, 0, 0, 0, 0, 96]'),\n",
       " Text(0.8100358422939068, 0.7982456140350878, 'gini = 0.0\\nsamples = 96\\nvalue = [0, 0, 0, 0, 0, 0, 0, 0, 0, 0, 0, 0, 0, 0\\n0, 0, 0, 0, 0, 0, 0, 0, 0, 0, 0, 0, 0, 0\\n0, 96, 0, 0, 0, 0, 0, 0, 0, 0, 0, 0, 0]'),\n",
       " Text(0.8387096774193549, 0.7982456140350878, 'gini = 0.0\\nsamples = 96\\nvalue = [0, 0, 0, 0, 0, 0, 0, 0, 0, 0, 0, 0, 0, 0\\n0, 0, 0, 0, 0, 0, 0, 0, 0, 0, 0, 0, 0, 0\\n0, 0, 0, 0, 0, 0, 0, 0, 0, 0, 0, 0, 96]'),\n",
       " Text(0.8673835125448028, 0.8333333333333334, 'x[50] <= 1.656\\ngini = 0.5\\nsamples = 192\\nvalue = [0, 0, 0, 0, 0, 0, 0, 0, 96, 0, 0, 0, 0, 0\\n0, 0, 0, 0, 0, 0, 0, 0, 0, 0, 0, 0, 0, 0\\n0, 0, 0, 0, 0, 0, 0, 0, 96, 0, 0, 0, 0]'),\n",
       " Text(0.8530465949820788, 0.8157894736842105, 'gini = 0.0\\nsamples = 96\\nvalue = [0, 0, 0, 0, 0, 0, 0, 0, 96, 0, 0, 0, 0, 0\\n0, 0, 0, 0, 0, 0, 0, 0, 0, 0, 0, 0, 0, 0\\n0, 0, 0, 0, 0, 0, 0, 0, 0, 0, 0, 0, 0]'),\n",
       " Text(0.8817204301075269, 0.8157894736842105, 'gini = 0.0\\nsamples = 96\\nvalue = [0, 0, 0, 0, 0, 0, 0, 0, 0, 0, 0, 0, 0, 0\\n0, 0, 0, 0, 0, 0, 0, 0, 0, 0, 0, 0, 0, 0\\n0, 0, 0, 0, 0, 0, 0, 0, 96, 0, 0, 0, 0]'),\n",
       " Text(0.910394265232975, 0.8508771929824561, 'x[71] <= 3.083\\ngini = 0.5\\nsamples = 192\\nvalue = [0, 0, 0, 0, 0, 0, 0, 0, 0, 0, 0, 0, 0, 0\\n0, 0, 0, 0, 0, 0, 0, 0, 0, 0, 96, 0, 96, 0\\n0, 0, 0, 0, 0, 0, 0, 0, 0, 0, 0, 0, 0]'),\n",
       " Text(0.8960573476702509, 0.8333333333333334, 'gini = 0.0\\nsamples = 96\\nvalue = [0, 0, 0, 0, 0, 0, 0, 0, 0, 0, 0, 0, 0, 0\\n0, 0, 0, 0, 0, 0, 0, 0, 0, 0, 96, 0, 0, 0\\n0, 0, 0, 0, 0, 0, 0, 0, 0, 0, 0, 0, 0]'),\n",
       " Text(0.9247311827956989, 0.8333333333333334, 'gini = 0.0\\nsamples = 96\\nvalue = [0, 0, 0, 0, 0, 0, 0, 0, 0, 0, 0, 0, 0, 0\\n0, 0, 0, 0, 0, 0, 0, 0, 0, 0, 0, 0, 96, 0\\n0, 0, 0, 0, 0, 0, 0, 0, 0, 0, 0, 0, 0]'),\n",
       " Text(0.899641577060932, 0.868421052631579, 'gini = 0.0\\nsamples = 96\\nvalue = [0, 0, 0, 0, 0, 0, 0, 0, 0, 0, 0, 0, 0, 0\\n0, 0, 0, 0, 0, 0, 0, 0, 0, 0, 0, 0, 0, 0\\n0, 0, 0, 0, 0, 0, 96, 0, 0, 0, 0, 0, 0]'),\n",
       " Text(0.9139784946236559, 0.8859649122807017, 'gini = 0.0\\nsamples = 96\\nvalue = [0, 0, 0, 0, 0, 0, 0, 0, 0, 0, 0, 0, 0, 0\\n0, 0, 0, 0, 0, 96, 0, 0, 0, 0, 0, 0, 0, 0\\n0, 0, 0, 0, 0, 0, 0, 0, 0, 0, 0, 0, 0]'),\n",
       " Text(0.9283154121863799, 0.9035087719298246, 'gini = 0.0\\nsamples = 96\\nvalue = [0, 0, 0, 0, 0, 0, 0, 0, 0, 0, 0, 0, 96, 0\\n0, 0, 0, 0, 0, 0, 0, 0, 0, 0, 0, 0, 0, 0\\n0, 0, 0, 0, 0, 0, 0, 0, 0, 0, 0, 0, 0]'),\n",
       " Text(0.942652329749104, 0.9210526315789473, 'gini = 0.0\\nsamples = 96\\nvalue = [0, 0, 0, 0, 0, 0, 0, 0, 0, 0, 0, 0, 0, 0\\n0, 0, 0, 0, 0, 0, 0, 0, 96, 0, 0, 0, 0, 0\\n0, 0, 0, 0, 0, 0, 0, 0, 0, 0, 0, 0, 0]'),\n",
       " Text(0.956989247311828, 0.9385964912280702, 'gini = 0.0\\nsamples = 96\\nvalue = [0, 0, 0, 0, 0, 0, 0, 0, 0, 0, 0, 96, 0, 0\\n0, 0, 0, 0, 0, 0, 0, 0, 0, 0, 0, 0, 0, 0\\n0, 0, 0, 0, 0, 0, 0, 0, 0, 0, 0, 0, 0]'),\n",
       " Text(0.9713261648745519, 0.956140350877193, 'gini = 0.0\\nsamples = 96\\nvalue = [0, 0, 0, 0, 0, 0, 0, 0, 0, 0, 0, 0, 0, 0\\n0, 0, 0, 0, 0, 0, 0, 0, 0, 0, 0, 96, 0, 0\\n0, 0, 0, 0, 0, 0, 0, 0, 0, 0, 0, 0, 0]'),\n",
       " Text(0.985663082437276, 0.9736842105263158, 'gini = 0.0\\nsamples = 96\\nvalue = [0, 0, 0, 0, 0, 0, 0, 0, 0, 0, 96, 0, 0, 0\\n0, 0, 0, 0, 0, 0, 0, 0, 0, 0, 0, 0, 0, 0\\n0, 0, 0, 0, 0, 0, 0, 0, 0, 0, 0, 0, 0]')]"
      ]
     },
     "execution_count": 99,
     "metadata": {},
     "output_type": "execute_result"
    },
    {
     "data": {
      "image/png": "[encoded data removed]",
      "text/plain": [
       "<Figure size 640x480 with 1 Axes>"
      ]
     },
     "metadata": {},
     "output_type": "display_data"
    }
   ],
   "source": [
    "tree.plot_tree(dec_tree)"
   ]
  },
  {
   "cell_type": "code",
   "execution_count": null,
   "id": "6e32f958",
   "metadata": {},
   "outputs": [],
   "source": []
  }
 ],
 "metadata": {
  "kernelspec": {
   "display_name": "Python 3 (ipykernel)",
   "language": "python",
   "name": "python3"
  },
  "language_info": {
   "codemirror_mode": {
    "name": "ipython",
    "version": 3
   },
   "file_extension": ".py",
   "mimetype": "text/x-python",
   "name": "python",
   "nbconvert_exporter": "python",
   "pygments_lexer": "ipython3",
   "version": "3.11.2"
  }
 },
 "nbformat": 4,
 "nbformat_minor": 5
}
