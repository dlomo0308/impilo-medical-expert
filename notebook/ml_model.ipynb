{
 "cells": [
  {
   "cell_type": "markdown",
   "id": "a8f2a402",
   "metadata": {},
   "source": [
    "# IMPORTING THE DEPENDENCIES"
   ]
  },
  {
   "cell_type": "code",
   "execution_count": 6,
   "id": "ac8c37fd",
   "metadata": {},
   "outputs": [],
   "source": [
    "import pandas as pd\n",
    "import numpy as np\n",
    "from sklearn.preprocessing import StandardScaler\n",
    "from sklearn.model_selection import train_test_split\n",
    "from sklearn.metrics import accuracy_score\n",
    "import matplotlib.pyplot as plt\n",
    "%matplotlib inline\n",
    "import requests\n"
   ]
  },
  {
   "cell_type": "markdown",
   "id": "7595b94a",
   "metadata": {},
   "source": [
    "### READING THE DATA"
   ]
  },
  {
   "cell_type": "code",
   "execution_count": 7,
   "id": "62f63fc4",
   "metadata": {},
   "outputs": [],
   "source": [
    "data = pd.read_csv('Data/Training.csv')"
   ]
  },
  {
   "cell_type": "code",
   "execution_count": 8,
   "id": "eb21b9a5",
   "metadata": {},
   "outputs": [],
   "source": [
    "### PRINTING THE FIRST 5 ROWS OF THE DATASET"
   ]
  },
  {
   "cell_type": "code",
   "execution_count": 9,
   "id": "52ec1c99",
   "metadata": {
    "collapsed": true
   },
   "outputs": [
    {
     "data": {
      "text/html": [
       "<div>\n",
       "<style scoped>\n",
       "    .dataframe tbody tr th:only-of-type {\n",
       "        vertical-align: middle;\n",
       "    }\n",
       "\n",
       "    .dataframe tbody tr th {\n",
       "        vertical-align: top;\n",
       "    }\n",
       "\n",
       "    .dataframe thead th {\n",
       "        text-align: right;\n",
       "    }\n",
       "</style>\n",
       "<table border=\"1\" class=\"dataframe\">\n",
       "  <thead>\n",
       "    <tr style=\"text-align: right;\">\n",
       "      <th></th>\n",
       "      <th>itching</th>\n",
       "      <th>skin_rash</th>\n",
       "      <th>nodal_skin_eruptions</th>\n",
       "      <th>continuous_sneezing</th>\n",
       "      <th>shivering</th>\n",
       "      <th>chills</th>\n",
       "      <th>joint_pain</th>\n",
       "      <th>stomach_pain</th>\n",
       "      <th>acidity</th>\n",
       "      <th>ulcers_on_tongue</th>\n",
       "      <th>...</th>\n",
       "      <th>blackheads</th>\n",
       "      <th>scurring</th>\n",
       "      <th>skin_peeling</th>\n",
       "      <th>silver_like_dusting</th>\n",
       "      <th>small_dents_in_nails</th>\n",
       "      <th>inflammatory_nails</th>\n",
       "      <th>blister</th>\n",
       "      <th>red_sore_around_nose</th>\n",
       "      <th>yellow_crust_ooze</th>\n",
       "      <th>diseases</th>\n",
       "    </tr>\n",
       "  </thead>\n",
       "  <tbody>\n",
       "    <tr>\n",
       "      <th>0</th>\n",
       "      <td>1</td>\n",
       "      <td>1</td>\n",
       "      <td>1</td>\n",
       "      <td>0</td>\n",
       "      <td>0</td>\n",
       "      <td>0</td>\n",
       "      <td>0</td>\n",
       "      <td>0</td>\n",
       "      <td>0</td>\n",
       "      <td>0</td>\n",
       "      <td>...</td>\n",
       "      <td>0</td>\n",
       "      <td>0</td>\n",
       "      <td>0</td>\n",
       "      <td>0</td>\n",
       "      <td>0</td>\n",
       "      <td>0</td>\n",
       "      <td>0</td>\n",
       "      <td>0</td>\n",
       "      <td>0</td>\n",
       "      <td>Fungal infection</td>\n",
       "    </tr>\n",
       "    <tr>\n",
       "      <th>1</th>\n",
       "      <td>0</td>\n",
       "      <td>1</td>\n",
       "      <td>1</td>\n",
       "      <td>0</td>\n",
       "      <td>0</td>\n",
       "      <td>0</td>\n",
       "      <td>0</td>\n",
       "      <td>0</td>\n",
       "      <td>0</td>\n",
       "      <td>0</td>\n",
       "      <td>...</td>\n",
       "      <td>0</td>\n",
       "      <td>0</td>\n",
       "      <td>0</td>\n",
       "      <td>0</td>\n",
       "      <td>0</td>\n",
       "      <td>0</td>\n",
       "      <td>0</td>\n",
       "      <td>0</td>\n",
       "      <td>0</td>\n",
       "      <td>Fungal infection</td>\n",
       "    </tr>\n",
       "    <tr>\n",
       "      <th>2</th>\n",
       "      <td>1</td>\n",
       "      <td>0</td>\n",
       "      <td>1</td>\n",
       "      <td>0</td>\n",
       "      <td>0</td>\n",
       "      <td>0</td>\n",
       "      <td>0</td>\n",
       "      <td>0</td>\n",
       "      <td>0</td>\n",
       "      <td>0</td>\n",
       "      <td>...</td>\n",
       "      <td>0</td>\n",
       "      <td>0</td>\n",
       "      <td>0</td>\n",
       "      <td>0</td>\n",
       "      <td>0</td>\n",
       "      <td>0</td>\n",
       "      <td>0</td>\n",
       "      <td>0</td>\n",
       "      <td>0</td>\n",
       "      <td>Fungal infection</td>\n",
       "    </tr>\n",
       "    <tr>\n",
       "      <th>3</th>\n",
       "      <td>1</td>\n",
       "      <td>1</td>\n",
       "      <td>0</td>\n",
       "      <td>0</td>\n",
       "      <td>0</td>\n",
       "      <td>0</td>\n",
       "      <td>0</td>\n",
       "      <td>0</td>\n",
       "      <td>0</td>\n",
       "      <td>0</td>\n",
       "      <td>...</td>\n",
       "      <td>0</td>\n",
       "      <td>0</td>\n",
       "      <td>0</td>\n",
       "      <td>0</td>\n",
       "      <td>0</td>\n",
       "      <td>0</td>\n",
       "      <td>0</td>\n",
       "      <td>0</td>\n",
       "      <td>0</td>\n",
       "      <td>Fungal infection</td>\n",
       "    </tr>\n",
       "    <tr>\n",
       "      <th>4</th>\n",
       "      <td>1</td>\n",
       "      <td>1</td>\n",
       "      <td>1</td>\n",
       "      <td>0</td>\n",
       "      <td>0</td>\n",
       "      <td>0</td>\n",
       "      <td>0</td>\n",
       "      <td>0</td>\n",
       "      <td>0</td>\n",
       "      <td>0</td>\n",
       "      <td>...</td>\n",
       "      <td>0</td>\n",
       "      <td>0</td>\n",
       "      <td>0</td>\n",
       "      <td>0</td>\n",
       "      <td>0</td>\n",
       "      <td>0</td>\n",
       "      <td>0</td>\n",
       "      <td>0</td>\n",
       "      <td>0</td>\n",
       "      <td>Fungal infection</td>\n",
       "    </tr>\n",
       "  </tbody>\n",
       "</table>\n",
       "<p>5 rows × 133 columns</p>\n",
       "</div>"
      ],
      "text/plain": [
       "   itching  skin_rash  nodal_skin_eruptions  continuous_sneezing  shivering  \\\n",
       "0        1          1                     1                    0          0   \n",
       "1        0          1                     1                    0          0   \n",
       "2        1          0                     1                    0          0   \n",
       "3        1          1                     0                    0          0   \n",
       "4        1          1                     1                    0          0   \n",
       "\n",
       "   chills  joint_pain  stomach_pain  acidity  ulcers_on_tongue  ...  \\\n",
       "0       0           0             0        0                 0  ...   \n",
       "1       0           0             0        0                 0  ...   \n",
       "2       0           0             0        0                 0  ...   \n",
       "3       0           0             0        0                 0  ...   \n",
       "4       0           0             0        0                 0  ...   \n",
       "\n",
       "   blackheads  scurring  skin_peeling  silver_like_dusting  \\\n",
       "0           0         0             0                    0   \n",
       "1           0         0             0                    0   \n",
       "2           0         0             0                    0   \n",
       "3           0         0             0                    0   \n",
       "4           0         0             0                    0   \n",
       "\n",
       "   small_dents_in_nails  inflammatory_nails  blister  red_sore_around_nose  \\\n",
       "0                     0                   0        0                     0   \n",
       "1                     0                   0        0                     0   \n",
       "2                     0                   0        0                     0   \n",
       "3                     0                   0        0                     0   \n",
       "4                     0                   0        0                     0   \n",
       "\n",
       "   yellow_crust_ooze          diseases  \n",
       "0                  0  Fungal infection  \n",
       "1                  0  Fungal infection  \n",
       "2                  0  Fungal infection  \n",
       "3                  0  Fungal infection  \n",
       "4                  0  Fungal infection  \n",
       "\n",
       "[5 rows x 133 columns]"
      ]
     },
     "execution_count": 9,
     "metadata": {},
     "output_type": "execute_result"
    }
   ],
   "source": [
    "data.head()"
   ]
  },
  {
   "cell_type": "code",
   "execution_count": 10,
   "id": "44c934fb",
   "metadata": {},
   "outputs": [],
   "source": [
    "### PRINTING THE NUMBER OF ROWS AND COLUMNS"
   ]
  },
  {
   "cell_type": "code",
   "execution_count": 11,
   "id": "afff95a1",
   "metadata": {},
   "outputs": [
    {
     "data": {
      "text/plain": [
       "(4920, 133)"
      ]
     },
     "execution_count": 11,
     "metadata": {},
     "output_type": "execute_result"
    }
   ],
   "source": [
    "data.shape"
   ]
  },
  {
   "cell_type": "code",
   "execution_count": 12,
   "id": "3766ba08",
   "metadata": {},
   "outputs": [
    {
     "data": {
      "text/html": [
       "<div>\n",
       "<style scoped>\n",
       "    .dataframe tbody tr th:only-of-type {\n",
       "        vertical-align: middle;\n",
       "    }\n",
       "\n",
       "    .dataframe tbody tr th {\n",
       "        vertical-align: top;\n",
       "    }\n",
       "\n",
       "    .dataframe thead th {\n",
       "        text-align: right;\n",
       "    }\n",
       "</style>\n",
       "<table border=\"1\" class=\"dataframe\">\n",
       "  <thead>\n",
       "    <tr style=\"text-align: right;\">\n",
       "      <th></th>\n",
       "      <th>itching</th>\n",
       "      <th>skin_rash</th>\n",
       "      <th>nodal_skin_eruptions</th>\n",
       "      <th>continuous_sneezing</th>\n",
       "      <th>shivering</th>\n",
       "      <th>chills</th>\n",
       "      <th>joint_pain</th>\n",
       "      <th>stomach_pain</th>\n",
       "      <th>acidity</th>\n",
       "      <th>ulcers_on_tongue</th>\n",
       "      <th>...</th>\n",
       "      <th>pus_filled_pimples</th>\n",
       "      <th>blackheads</th>\n",
       "      <th>scurring</th>\n",
       "      <th>skin_peeling</th>\n",
       "      <th>silver_like_dusting</th>\n",
       "      <th>small_dents_in_nails</th>\n",
       "      <th>inflammatory_nails</th>\n",
       "      <th>blister</th>\n",
       "      <th>red_sore_around_nose</th>\n",
       "      <th>yellow_crust_ooze</th>\n",
       "    </tr>\n",
       "  </thead>\n",
       "  <tbody>\n",
       "    <tr>\n",
       "      <th>count</th>\n",
       "      <td>4920.000000</td>\n",
       "      <td>4920.000000</td>\n",
       "      <td>4920.000000</td>\n",
       "      <td>4920.000000</td>\n",
       "      <td>4920.000000</td>\n",
       "      <td>4920.000000</td>\n",
       "      <td>4920.000000</td>\n",
       "      <td>4920.000000</td>\n",
       "      <td>4920.000000</td>\n",
       "      <td>4920.000000</td>\n",
       "      <td>...</td>\n",
       "      <td>4920.000000</td>\n",
       "      <td>4920.000000</td>\n",
       "      <td>4920.000000</td>\n",
       "      <td>4920.000000</td>\n",
       "      <td>4920.000000</td>\n",
       "      <td>4920.000000</td>\n",
       "      <td>4920.000000</td>\n",
       "      <td>4920.000000</td>\n",
       "      <td>4920.000000</td>\n",
       "      <td>4920.000000</td>\n",
       "    </tr>\n",
       "    <tr>\n",
       "      <th>mean</th>\n",
       "      <td>0.137805</td>\n",
       "      <td>0.159756</td>\n",
       "      <td>0.021951</td>\n",
       "      <td>0.045122</td>\n",
       "      <td>0.021951</td>\n",
       "      <td>0.162195</td>\n",
       "      <td>0.139024</td>\n",
       "      <td>0.045122</td>\n",
       "      <td>0.045122</td>\n",
       "      <td>0.021951</td>\n",
       "      <td>...</td>\n",
       "      <td>0.021951</td>\n",
       "      <td>0.021951</td>\n",
       "      <td>0.021951</td>\n",
       "      <td>0.023171</td>\n",
       "      <td>0.023171</td>\n",
       "      <td>0.023171</td>\n",
       "      <td>0.023171</td>\n",
       "      <td>0.023171</td>\n",
       "      <td>0.023171</td>\n",
       "      <td>0.023171</td>\n",
       "    </tr>\n",
       "    <tr>\n",
       "      <th>std</th>\n",
       "      <td>0.344730</td>\n",
       "      <td>0.366417</td>\n",
       "      <td>0.146539</td>\n",
       "      <td>0.207593</td>\n",
       "      <td>0.146539</td>\n",
       "      <td>0.368667</td>\n",
       "      <td>0.346007</td>\n",
       "      <td>0.207593</td>\n",
       "      <td>0.207593</td>\n",
       "      <td>0.146539</td>\n",
       "      <td>...</td>\n",
       "      <td>0.146539</td>\n",
       "      <td>0.146539</td>\n",
       "      <td>0.146539</td>\n",
       "      <td>0.150461</td>\n",
       "      <td>0.150461</td>\n",
       "      <td>0.150461</td>\n",
       "      <td>0.150461</td>\n",
       "      <td>0.150461</td>\n",
       "      <td>0.150461</td>\n",
       "      <td>0.150461</td>\n",
       "    </tr>\n",
       "    <tr>\n",
       "      <th>min</th>\n",
       "      <td>0.000000</td>\n",
       "      <td>0.000000</td>\n",
       "      <td>0.000000</td>\n",
       "      <td>0.000000</td>\n",
       "      <td>0.000000</td>\n",
       "      <td>0.000000</td>\n",
       "      <td>0.000000</td>\n",
       "      <td>0.000000</td>\n",
       "      <td>0.000000</td>\n",
       "      <td>0.000000</td>\n",
       "      <td>...</td>\n",
       "      <td>0.000000</td>\n",
       "      <td>0.000000</td>\n",
       "      <td>0.000000</td>\n",
       "      <td>0.000000</td>\n",
       "      <td>0.000000</td>\n",
       "      <td>0.000000</td>\n",
       "      <td>0.000000</td>\n",
       "      <td>0.000000</td>\n",
       "      <td>0.000000</td>\n",
       "      <td>0.000000</td>\n",
       "    </tr>\n",
       "    <tr>\n",
       "      <th>25%</th>\n",
       "      <td>0.000000</td>\n",
       "      <td>0.000000</td>\n",
       "      <td>0.000000</td>\n",
       "      <td>0.000000</td>\n",
       "      <td>0.000000</td>\n",
       "      <td>0.000000</td>\n",
       "      <td>0.000000</td>\n",
       "      <td>0.000000</td>\n",
       "      <td>0.000000</td>\n",
       "      <td>0.000000</td>\n",
       "      <td>...</td>\n",
       "      <td>0.000000</td>\n",
       "      <td>0.000000</td>\n",
       "      <td>0.000000</td>\n",
       "      <td>0.000000</td>\n",
       "      <td>0.000000</td>\n",
       "      <td>0.000000</td>\n",
       "      <td>0.000000</td>\n",
       "      <td>0.000000</td>\n",
       "      <td>0.000000</td>\n",
       "      <td>0.000000</td>\n",
       "    </tr>\n",
       "    <tr>\n",
       "      <th>50%</th>\n",
       "      <td>0.000000</td>\n",
       "      <td>0.000000</td>\n",
       "      <td>0.000000</td>\n",
       "      <td>0.000000</td>\n",
       "      <td>0.000000</td>\n",
       "      <td>0.000000</td>\n",
       "      <td>0.000000</td>\n",
       "      <td>0.000000</td>\n",
       "      <td>0.000000</td>\n",
       "      <td>0.000000</td>\n",
       "      <td>...</td>\n",
       "      <td>0.000000</td>\n",
       "      <td>0.000000</td>\n",
       "      <td>0.000000</td>\n",
       "      <td>0.000000</td>\n",
       "      <td>0.000000</td>\n",
       "      <td>0.000000</td>\n",
       "      <td>0.000000</td>\n",
       "      <td>0.000000</td>\n",
       "      <td>0.000000</td>\n",
       "      <td>0.000000</td>\n",
       "    </tr>\n",
       "    <tr>\n",
       "      <th>75%</th>\n",
       "      <td>0.000000</td>\n",
       "      <td>0.000000</td>\n",
       "      <td>0.000000</td>\n",
       "      <td>0.000000</td>\n",
       "      <td>0.000000</td>\n",
       "      <td>0.000000</td>\n",
       "      <td>0.000000</td>\n",
       "      <td>0.000000</td>\n",
       "      <td>0.000000</td>\n",
       "      <td>0.000000</td>\n",
       "      <td>...</td>\n",
       "      <td>0.000000</td>\n",
       "      <td>0.000000</td>\n",
       "      <td>0.000000</td>\n",
       "      <td>0.000000</td>\n",
       "      <td>0.000000</td>\n",
       "      <td>0.000000</td>\n",
       "      <td>0.000000</td>\n",
       "      <td>0.000000</td>\n",
       "      <td>0.000000</td>\n",
       "      <td>0.000000</td>\n",
       "    </tr>\n",
       "    <tr>\n",
       "      <th>max</th>\n",
       "      <td>1.000000</td>\n",
       "      <td>1.000000</td>\n",
       "      <td>1.000000</td>\n",
       "      <td>1.000000</td>\n",
       "      <td>1.000000</td>\n",
       "      <td>1.000000</td>\n",
       "      <td>1.000000</td>\n",
       "      <td>1.000000</td>\n",
       "      <td>1.000000</td>\n",
       "      <td>1.000000</td>\n",
       "      <td>...</td>\n",
       "      <td>1.000000</td>\n",
       "      <td>1.000000</td>\n",
       "      <td>1.000000</td>\n",
       "      <td>1.000000</td>\n",
       "      <td>1.000000</td>\n",
       "      <td>1.000000</td>\n",
       "      <td>1.000000</td>\n",
       "      <td>1.000000</td>\n",
       "      <td>1.000000</td>\n",
       "      <td>1.000000</td>\n",
       "    </tr>\n",
       "  </tbody>\n",
       "</table>\n",
       "<p>8 rows × 132 columns</p>\n",
       "</div>"
      ],
      "text/plain": [
       "           itching    skin_rash  nodal_skin_eruptions  continuous_sneezing  \\\n",
       "count  4920.000000  4920.000000           4920.000000          4920.000000   \n",
       "mean      0.137805     0.159756              0.021951             0.045122   \n",
       "std       0.344730     0.366417              0.146539             0.207593   \n",
       "min       0.000000     0.000000              0.000000             0.000000   \n",
       "25%       0.000000     0.000000              0.000000             0.000000   \n",
       "50%       0.000000     0.000000              0.000000             0.000000   \n",
       "75%       0.000000     0.000000              0.000000             0.000000   \n",
       "max       1.000000     1.000000              1.000000             1.000000   \n",
       "\n",
       "         shivering       chills   joint_pain  stomach_pain      acidity  \\\n",
       "count  4920.000000  4920.000000  4920.000000   4920.000000  4920.000000   \n",
       "mean      0.021951     0.162195     0.139024      0.045122     0.045122   \n",
       "std       0.146539     0.368667     0.346007      0.207593     0.207593   \n",
       "min       0.000000     0.000000     0.000000      0.000000     0.000000   \n",
       "25%       0.000000     0.000000     0.000000      0.000000     0.000000   \n",
       "50%       0.000000     0.000000     0.000000      0.000000     0.000000   \n",
       "75%       0.000000     0.000000     0.000000      0.000000     0.000000   \n",
       "max       1.000000     1.000000     1.000000      1.000000     1.000000   \n",
       "\n",
       "       ulcers_on_tongue  ...  pus_filled_pimples   blackheads     scurring  \\\n",
       "count       4920.000000  ...         4920.000000  4920.000000  4920.000000   \n",
       "mean           0.021951  ...            0.021951     0.021951     0.021951   \n",
       "std            0.146539  ...            0.146539     0.146539     0.146539   \n",
       "min            0.000000  ...            0.000000     0.000000     0.000000   \n",
       "25%            0.000000  ...            0.000000     0.000000     0.000000   \n",
       "50%            0.000000  ...            0.000000     0.000000     0.000000   \n",
       "75%            0.000000  ...            0.000000     0.000000     0.000000   \n",
       "max            1.000000  ...            1.000000     1.000000     1.000000   \n",
       "\n",
       "       skin_peeling  silver_like_dusting  small_dents_in_nails  \\\n",
       "count   4920.000000          4920.000000           4920.000000   \n",
       "mean       0.023171             0.023171              0.023171   \n",
       "std        0.150461             0.150461              0.150461   \n",
       "min        0.000000             0.000000              0.000000   \n",
       "25%        0.000000             0.000000              0.000000   \n",
       "50%        0.000000             0.000000              0.000000   \n",
       "75%        0.000000             0.000000              0.000000   \n",
       "max        1.000000             1.000000              1.000000   \n",
       "\n",
       "       inflammatory_nails      blister  red_sore_around_nose  \\\n",
       "count         4920.000000  4920.000000           4920.000000   \n",
       "mean             0.023171     0.023171              0.023171   \n",
       "std              0.150461     0.150461              0.150461   \n",
       "min              0.000000     0.000000              0.000000   \n",
       "25%              0.000000     0.000000              0.000000   \n",
       "50%              0.000000     0.000000              0.000000   \n",
       "75%              0.000000     0.000000              0.000000   \n",
       "max              1.000000     1.000000              1.000000   \n",
       "\n",
       "       yellow_crust_ooze  \n",
       "count        4920.000000  \n",
       "mean            0.023171  \n",
       "std             0.150461  \n",
       "min             0.000000  \n",
       "25%             0.000000  \n",
       "50%             0.000000  \n",
       "75%             0.000000  \n",
       "max             1.000000  \n",
       "\n",
       "[8 rows x 132 columns]"
      ]
     },
     "execution_count": 12,
     "metadata": {},
     "output_type": "execute_result"
    }
   ],
   "source": [
    "##GETTING THE STATISTICAL MEASURES OF THE DATA\n",
    "data.describe()"
   ]
  },
  {
   "cell_type": "code",
   "execution_count": 13,
   "id": "c9961738",
   "metadata": {
    "collapsed": true
   },
   "outputs": [
    {
     "data": {
      "text/plain": [
       "itching                 0\n",
       "skin_rash               0\n",
       "nodal_skin_eruptions    0\n",
       "continuous_sneezing     0\n",
       "shivering               0\n",
       "                       ..\n",
       "inflammatory_nails      0\n",
       "blister                 0\n",
       "red_sore_around_nose    0\n",
       "yellow_crust_ooze       0\n",
       "diseases                0\n",
       "Length: 133, dtype: int64"
      ]
     },
     "execution_count": 13,
     "metadata": {},
     "output_type": "execute_result"
    }
   ],
   "source": [
    "#CHECKING IF THERE IS ANY MISSING VALUES\n",
    "data.isnull().sum()"
   ]
  },
  {
   "cell_type": "code",
   "execution_count": 14,
   "id": "b8208be0",
   "metadata": {
    "collapsed": true
   },
   "outputs": [
    {
     "data": {
      "text/plain": [
       "Fungal infection                           120\n",
       "Hepatitis C                                120\n",
       "Hepatitis E                                120\n",
       "Alcoholic hepatitis                        120\n",
       "Tuberculosis                               120\n",
       "Common Cold                                120\n",
       "Pneumonia                                  120\n",
       "Dimorphic hemmorhoids(piles)               120\n",
       "Heart attack                               120\n",
       "Varicose veins                             120\n",
       "Hypothyroidism                             120\n",
       "Hyperthyroidism                            120\n",
       "Hypoglycemia                               120\n",
       "Osteoarthristis                            120\n",
       "Arthritis                                  120\n",
       "(vertigo) Paroymsal  Positional Vertigo    120\n",
       "Acne                                       120\n",
       "Urinary tract infection                    120\n",
       "Psoriasis                                  120\n",
       "Hepatitis D                                120\n",
       "Hepatitis B                                120\n",
       "Allergy                                    120\n",
       "hepatitis A                                120\n",
       "GERD                                       120\n",
       "Chronic cholestasis                        120\n",
       "Drug Reaction                              120\n",
       "Peptic ulcer diseae                        120\n",
       "AIDS                                       120\n",
       "Diabetes                                   120\n",
       "Gastroenteritis                            120\n",
       "Bronchial Asthma                           120\n",
       "Hypertension                               120\n",
       "Migraine                                   120\n",
       "Cervical spondylosis                       120\n",
       "Paralysis (brain hemorrhage)               120\n",
       "Jaundice                                   120\n",
       "Malaria                                    120\n",
       "Chicken pox                                120\n",
       "Dengue                                     120\n",
       "Typhoid                                    120\n",
       "Impetigo                                   120\n",
       "Name: diseases, dtype: int64"
      ]
     },
     "execution_count": 14,
     "metadata": {},
     "output_type": "execute_result"
    }
   ],
   "source": [
    "#CHECKING THE NUMBER OF ROWS PER DISEASE\n",
    "data['diseases'].value_counts()"
   ]
  },
  {
   "cell_type": "markdown",
   "id": "5087589c",
   "metadata": {},
   "source": [
    "The column labeled 'DISEASES' represents all the diseases in our datasets. There are 41 diseases in our dataset"
   ]
  },
  {
   "cell_type": "code",
   "execution_count": 15,
   "id": "92fadc58",
   "metadata": {},
   "outputs": [],
   "source": [
    "## SEPERATING THE DATA FROM LABELS\n",
    "X = data.drop(columns = 'diseases', axis=1)\n",
    "Y = data['diseases']"
   ]
  },
  {
   "cell_type": "code",
   "execution_count": 16,
   "id": "56da2c0b",
   "metadata": {
    "collapsed": true
   },
   "outputs": [
    {
     "name": "stdout",
     "output_type": "stream",
     "text": [
      "      itching  skin_rash  nodal_skin_eruptions  continuous_sneezing  \\\n",
      "0           1          1                     1                    0   \n",
      "1           0          1                     1                    0   \n",
      "2           1          0                     1                    0   \n",
      "3           1          1                     0                    0   \n",
      "4           1          1                     1                    0   \n",
      "...       ...        ...                   ...                  ...   \n",
      "4915        0          0                     0                    0   \n",
      "4916        0          1                     0                    0   \n",
      "4917        0          0                     0                    0   \n",
      "4918        0          1                     0                    0   \n",
      "4919        0          1                     0                    0   \n",
      "\n",
      "      shivering  chills  joint_pain  stomach_pain  acidity  ulcers_on_tongue  \\\n",
      "0             0       0           0             0        0                 0   \n",
      "1             0       0           0             0        0                 0   \n",
      "2             0       0           0             0        0                 0   \n",
      "3             0       0           0             0        0                 0   \n",
      "4             0       0           0             0        0                 0   \n",
      "...         ...     ...         ...           ...      ...               ...   \n",
      "4915          0       0           0             0        0                 0   \n",
      "4916          0       0           0             0        0                 0   \n",
      "4917          0       0           0             0        0                 0   \n",
      "4918          0       0           1             0        0                 0   \n",
      "4919          0       0           0             0        0                 0   \n",
      "\n",
      "      ...  pus_filled_pimples  blackheads  scurring  skin_peeling  \\\n",
      "0     ...                   0           0         0             0   \n",
      "1     ...                   0           0         0             0   \n",
      "2     ...                   0           0         0             0   \n",
      "3     ...                   0           0         0             0   \n",
      "4     ...                   0           0         0             0   \n",
      "...   ...                 ...         ...       ...           ...   \n",
      "4915  ...                   0           0         0             0   \n",
      "4916  ...                   1           1         1             0   \n",
      "4917  ...                   0           0         0             0   \n",
      "4918  ...                   0           0         0             1   \n",
      "4919  ...                   0           0         0             0   \n",
      "\n",
      "      silver_like_dusting  small_dents_in_nails  inflammatory_nails  blister  \\\n",
      "0                       0                     0                   0        0   \n",
      "1                       0                     0                   0        0   \n",
      "2                       0                     0                   0        0   \n",
      "3                       0                     0                   0        0   \n",
      "4                       0                     0                   0        0   \n",
      "...                   ...                   ...                 ...      ...   \n",
      "4915                    0                     0                   0        0   \n",
      "4916                    0                     0                   0        0   \n",
      "4917                    0                     0                   0        0   \n",
      "4918                    1                     1                   1        0   \n",
      "4919                    0                     0                   0        1   \n",
      "\n",
      "      red_sore_around_nose  yellow_crust_ooze  \n",
      "0                        0                  0  \n",
      "1                        0                  0  \n",
      "2                        0                  0  \n",
      "3                        0                  0  \n",
      "4                        0                  0  \n",
      "...                    ...                ...  \n",
      "4915                     0                  0  \n",
      "4916                     0                  0  \n",
      "4917                     0                  0  \n",
      "4918                     0                  0  \n",
      "4919                     1                  1  \n",
      "\n",
      "[4920 rows x 132 columns]\n"
     ]
    }
   ],
   "source": [
    "#Printing X and Y\n",
    "print(X)"
   ]
  },
  {
   "cell_type": "code",
   "execution_count": 17,
   "id": "36ceed41",
   "metadata": {},
   "outputs": [
    {
     "name": "stdout",
     "output_type": "stream",
     "text": [
      "0                              Fungal infection\n",
      "1                              Fungal infection\n",
      "2                              Fungal infection\n",
      "3                              Fungal infection\n",
      "4                              Fungal infection\n",
      "                         ...                   \n",
      "4915    (vertigo) Paroymsal  Positional Vertigo\n",
      "4916                                       Acne\n",
      "4917                    Urinary tract infection\n",
      "4918                                  Psoriasis\n",
      "4919                                   Impetigo\n",
      "Name: diseases, Length: 4920, dtype: object\n"
     ]
    }
   ],
   "source": [
    "#Printing Y\n",
    "print(Y)"
   ]
  },
  {
   "cell_type": "markdown",
   "id": "0e136e3d",
   "metadata": {},
   "source": [
    "## DATA STANDARDIZATION"
   ]
  },
  {
   "cell_type": "code",
   "execution_count": 18,
   "id": "e2053888",
   "metadata": {},
   "outputs": [],
   "source": [
    "scaler = StandardScaler()"
   ]
  },
  {
   "cell_type": "code",
   "execution_count": 19,
   "id": "c1a86f82",
   "metadata": {},
   "outputs": [
    {
     "data": {
      "text/html": [
       "<style>#sk-container-id-1 {color: black;background-color: white;}#sk-container-id-1 pre{padding: 0;}#sk-container-id-1 div.sk-toggleable {background-color: white;}#sk-container-id-1 label.sk-toggleable__label {cursor: pointer;display: block;width: 100%;margin-bottom: 0;padding: 0.3em;box-sizing: border-box;text-align: center;}#sk-container-id-1 label.sk-toggleable__label-arrow:before {content: \"▸\";float: left;margin-right: 0.25em;color: #696969;}#sk-container-id-1 label.sk-toggleable__label-arrow:hover:before {color: black;}#sk-container-id-1 div.sk-estimator:hover label.sk-toggleable__label-arrow:before {color: black;}#sk-container-id-1 div.sk-toggleable__content {max-height: 0;max-width: 0;overflow: hidden;text-align: left;background-color: #f0f8ff;}#sk-container-id-1 div.sk-toggleable__content pre {margin: 0.2em;color: black;border-radius: 0.25em;background-color: #f0f8ff;}#sk-container-id-1 input.sk-toggleable__control:checked~div.sk-toggleable__content {max-height: 200px;max-width: 100%;overflow: auto;}#sk-container-id-1 input.sk-toggleable__control:checked~label.sk-toggleable__label-arrow:before {content: \"▾\";}#sk-container-id-1 div.sk-estimator input.sk-toggleable__control:checked~label.sk-toggleable__label {background-color: #d4ebff;}#sk-container-id-1 div.sk-label input.sk-toggleable__control:checked~label.sk-toggleable__label {background-color: #d4ebff;}#sk-container-id-1 input.sk-hidden--visually {border: 0;clip: rect(1px 1px 1px 1px);clip: rect(1px, 1px, 1px, 1px);height: 1px;margin: -1px;overflow: hidden;padding: 0;position: absolute;width: 1px;}#sk-container-id-1 div.sk-estimator {font-family: monospace;background-color: #f0f8ff;border: 1px dotted black;border-radius: 0.25em;box-sizing: border-box;margin-bottom: 0.5em;}#sk-container-id-1 div.sk-estimator:hover {background-color: #d4ebff;}#sk-container-id-1 div.sk-parallel-item::after {content: \"\";width: 100%;border-bottom: 1px solid gray;flex-grow: 1;}#sk-container-id-1 div.sk-label:hover label.sk-toggleable__label {background-color: #d4ebff;}#sk-container-id-1 div.sk-serial::before {content: \"\";position: absolute;border-left: 1px solid gray;box-sizing: border-box;top: 0;bottom: 0;left: 50%;z-index: 0;}#sk-container-id-1 div.sk-serial {display: flex;flex-direction: column;align-items: center;background-color: white;padding-right: 0.2em;padding-left: 0.2em;position: relative;}#sk-container-id-1 div.sk-item {position: relative;z-index: 1;}#sk-container-id-1 div.sk-parallel {display: flex;align-items: stretch;justify-content: center;background-color: white;position: relative;}#sk-container-id-1 div.sk-item::before, #sk-container-id-1 div.sk-parallel-item::before {content: \"\";position: absolute;border-left: 1px solid gray;box-sizing: border-box;top: 0;bottom: 0;left: 50%;z-index: -1;}#sk-container-id-1 div.sk-parallel-item {display: flex;flex-direction: column;z-index: 1;position: relative;background-color: white;}#sk-container-id-1 div.sk-parallel-item:first-child::after {align-self: flex-end;width: 50%;}#sk-container-id-1 div.sk-parallel-item:last-child::after {align-self: flex-start;width: 50%;}#sk-container-id-1 div.sk-parallel-item:only-child::after {width: 0;}#sk-container-id-1 div.sk-dashed-wrapped {border: 1px dashed gray;margin: 0 0.4em 0.5em 0.4em;box-sizing: border-box;padding-bottom: 0.4em;background-color: white;}#sk-container-id-1 div.sk-label label {font-family: monospace;font-weight: bold;display: inline-block;line-height: 1.2em;}#sk-container-id-1 div.sk-label-container {text-align: center;}#sk-container-id-1 div.sk-container {/* jupyter's `normalize.less` sets `[hidden] { display: none; }` but bootstrap.min.css set `[hidden] { display: none !important; }` so we also need the `!important` here to be able to override the default hidden behavior on the sphinx rendered scikit-learn.org. See: https://github.com/scikit-learn/scikit-learn/issues/21755 */display: inline-block !important;position: relative;}#sk-container-id-1 div.sk-text-repr-fallback {display: none;}</style><div id=\"sk-container-id-1\" class=\"sk-top-container\"><div class=\"sk-text-repr-fallback\"><pre>StandardScaler()</pre><b>In a Jupyter environment, please rerun this cell to show the HTML representation or trust the notebook. <br />On GitHub, the HTML representation is unable to render, please try loading this page with nbviewer.org.</b></div><div class=\"sk-container\" hidden><div class=\"sk-item\"><div class=\"sk-estimator sk-toggleable\"><input class=\"sk-toggleable__control sk-hidden--visually\" id=\"sk-estimator-id-1\" type=\"checkbox\" checked><label for=\"sk-estimator-id-1\" class=\"sk-toggleable__label sk-toggleable__label-arrow\">StandardScaler</label><div class=\"sk-toggleable__content\"><pre>StandardScaler()</pre></div></div></div></div></div>"
      ],
      "text/plain": [
       "StandardScaler()"
      ]
     },
     "execution_count": 19,
     "metadata": {},
     "output_type": "execute_result"
    }
   ],
   "source": [
    "scaler.fit(X)"
   ]
  },
  {
   "cell_type": "code",
   "execution_count": 20,
   "id": "acceb5b1",
   "metadata": {},
   "outputs": [],
   "source": [
    "standardized_data = scaler.transform(X)"
   ]
  },
  {
   "cell_type": "code",
   "execution_count": 21,
   "id": "5617a4c9",
   "metadata": {},
   "outputs": [
    {
     "name": "stdout",
     "output_type": "stream",
     "text": [
      "[[ 2.50132708  2.29336913  6.6749948  ... -0.15401412 -0.15401412\n",
      "  -0.15401412]\n",
      " [-0.39978778  2.29336913  6.6749948  ... -0.15401412 -0.15401412\n",
      "  -0.15401412]\n",
      " [ 2.50132708 -0.4360397   6.6749948  ... -0.15401412 -0.15401412\n",
      "  -0.15401412]\n",
      " ...\n",
      " [-0.39978778 -0.4360397  -0.14981285 ... -0.15401412 -0.15401412\n",
      "  -0.15401412]\n",
      " [-0.39978778  2.29336913 -0.14981285 ... -0.15401412 -0.15401412\n",
      "  -0.15401412]\n",
      " [-0.39978778  2.29336913 -0.14981285 ...  6.49291111  6.49291111\n",
      "   6.49291111]]\n"
     ]
    }
   ],
   "source": [
    "print(standardized_data)"
   ]
  },
  {
   "cell_type": "code",
   "execution_count": 22,
   "id": "093642ab",
   "metadata": {},
   "outputs": [],
   "source": [
    "X = standardized_data\n",
    "Y = data['diseases']"
   ]
  },
  {
   "cell_type": "code",
   "execution_count": 23,
   "id": "34876e9a",
   "metadata": {
    "scrolled": true
   },
   "outputs": [
    {
     "name": "stdout",
     "output_type": "stream",
     "text": [
      "[[ 2.50132708  2.29336913  6.6749948  ... -0.15401412 -0.15401412\n",
      "  -0.15401412]\n",
      " [-0.39978778  2.29336913  6.6749948  ... -0.15401412 -0.15401412\n",
      "  -0.15401412]\n",
      " [ 2.50132708 -0.4360397   6.6749948  ... -0.15401412 -0.15401412\n",
      "  -0.15401412]\n",
      " ...\n",
      " [-0.39978778 -0.4360397  -0.14981285 ... -0.15401412 -0.15401412\n",
      "  -0.15401412]\n",
      " [-0.39978778  2.29336913 -0.14981285 ... -0.15401412 -0.15401412\n",
      "  -0.15401412]\n",
      " [-0.39978778  2.29336913 -0.14981285 ...  6.49291111  6.49291111\n",
      "   6.49291111]]\n",
      "0                              Fungal infection\n",
      "1                              Fungal infection\n",
      "2                              Fungal infection\n",
      "3                              Fungal infection\n",
      "4                              Fungal infection\n",
      "                         ...                   \n",
      "4915    (vertigo) Paroymsal  Positional Vertigo\n",
      "4916                                       Acne\n",
      "4917                    Urinary tract infection\n",
      "4918                                  Psoriasis\n",
      "4919                                   Impetigo\n",
      "Name: diseases, Length: 4920, dtype: object\n"
     ]
    }
   ],
   "source": [
    "print(X)\n",
    "print(Y)"
   ]
  },
  {
   "cell_type": "markdown",
   "id": "c87c5496",
   "metadata": {},
   "source": [
    "Train Test Split"
   ]
  },
  {
   "cell_type": "code",
   "execution_count": 24,
   "id": "a34b9ce5",
   "metadata": {},
   "outputs": [],
   "source": [
    "X_train, X_test, Y_train, Y_test = train_test_split(X,Y, test_size=0.2, stratify=Y, random_state=2)"
   ]
  },
  {
   "cell_type": "code",
   "execution_count": 25,
   "id": "81793c88",
   "metadata": {},
   "outputs": [
    {
     "name": "stdout",
     "output_type": "stream",
     "text": [
      "(4920, 132) (3936, 132) (984, 132)\n"
     ]
    }
   ],
   "source": [
    "print(X.shape, X_train.shape, X_test.shape)"
   ]
  },
  {
   "cell_type": "markdown",
   "id": "e90783b7",
   "metadata": {},
   "source": [
    "## TRAINING THE MODELS"
   ]
  },
  {
   "cell_type": "markdown",
   "id": "59af0ccd",
   "metadata": {},
   "source": [
    "## SUPPORT VECTOR MODEL"
   ]
  },
  {
   "cell_type": "code",
   "execution_count": 26,
   "id": "befe337c",
   "metadata": {},
   "outputs": [],
   "source": [
    "from sklearn import svm\n",
    "classifier = svm.SVC(kernel='linear')"
   ]
  },
  {
   "cell_type": "code",
   "execution_count": 27,
   "id": "f2e8c0ba",
   "metadata": {},
   "outputs": [
    {
     "data": {
      "text/html": [
       "<style>#sk-container-id-2 {color: black;background-color: white;}#sk-container-id-2 pre{padding: 0;}#sk-container-id-2 div.sk-toggleable {background-color: white;}#sk-container-id-2 label.sk-toggleable__label {cursor: pointer;display: block;width: 100%;margin-bottom: 0;padding: 0.3em;box-sizing: border-box;text-align: center;}#sk-container-id-2 label.sk-toggleable__label-arrow:before {content: \"▸\";float: left;margin-right: 0.25em;color: #696969;}#sk-container-id-2 label.sk-toggleable__label-arrow:hover:before {color: black;}#sk-container-id-2 div.sk-estimator:hover label.sk-toggleable__label-arrow:before {color: black;}#sk-container-id-2 div.sk-toggleable__content {max-height: 0;max-width: 0;overflow: hidden;text-align: left;background-color: #f0f8ff;}#sk-container-id-2 div.sk-toggleable__content pre {margin: 0.2em;color: black;border-radius: 0.25em;background-color: #f0f8ff;}#sk-container-id-2 input.sk-toggleable__control:checked~div.sk-toggleable__content {max-height: 200px;max-width: 100%;overflow: auto;}#sk-container-id-2 input.sk-toggleable__control:checked~label.sk-toggleable__label-arrow:before {content: \"▾\";}#sk-container-id-2 div.sk-estimator input.sk-toggleable__control:checked~label.sk-toggleable__label {background-color: #d4ebff;}#sk-container-id-2 div.sk-label input.sk-toggleable__control:checked~label.sk-toggleable__label {background-color: #d4ebff;}#sk-container-id-2 input.sk-hidden--visually {border: 0;clip: rect(1px 1px 1px 1px);clip: rect(1px, 1px, 1px, 1px);height: 1px;margin: -1px;overflow: hidden;padding: 0;position: absolute;width: 1px;}#sk-container-id-2 div.sk-estimator {font-family: monospace;background-color: #f0f8ff;border: 1px dotted black;border-radius: 0.25em;box-sizing: border-box;margin-bottom: 0.5em;}#sk-container-id-2 div.sk-estimator:hover {background-color: #d4ebff;}#sk-container-id-2 div.sk-parallel-item::after {content: \"\";width: 100%;border-bottom: 1px solid gray;flex-grow: 1;}#sk-container-id-2 div.sk-label:hover label.sk-toggleable__label {background-color: #d4ebff;}#sk-container-id-2 div.sk-serial::before {content: \"\";position: absolute;border-left: 1px solid gray;box-sizing: border-box;top: 0;bottom: 0;left: 50%;z-index: 0;}#sk-container-id-2 div.sk-serial {display: flex;flex-direction: column;align-items: center;background-color: white;padding-right: 0.2em;padding-left: 0.2em;position: relative;}#sk-container-id-2 div.sk-item {position: relative;z-index: 1;}#sk-container-id-2 div.sk-parallel {display: flex;align-items: stretch;justify-content: center;background-color: white;position: relative;}#sk-container-id-2 div.sk-item::before, #sk-container-id-2 div.sk-parallel-item::before {content: \"\";position: absolute;border-left: 1px solid gray;box-sizing: border-box;top: 0;bottom: 0;left: 50%;z-index: -1;}#sk-container-id-2 div.sk-parallel-item {display: flex;flex-direction: column;z-index: 1;position: relative;background-color: white;}#sk-container-id-2 div.sk-parallel-item:first-child::after {align-self: flex-end;width: 50%;}#sk-container-id-2 div.sk-parallel-item:last-child::after {align-self: flex-start;width: 50%;}#sk-container-id-2 div.sk-parallel-item:only-child::after {width: 0;}#sk-container-id-2 div.sk-dashed-wrapped {border: 1px dashed gray;margin: 0 0.4em 0.5em 0.4em;box-sizing: border-box;padding-bottom: 0.4em;background-color: white;}#sk-container-id-2 div.sk-label label {font-family: monospace;font-weight: bold;display: inline-block;line-height: 1.2em;}#sk-container-id-2 div.sk-label-container {text-align: center;}#sk-container-id-2 div.sk-container {/* jupyter's `normalize.less` sets `[hidden] { display: none; }` but bootstrap.min.css set `[hidden] { display: none !important; }` so we also need the `!important` here to be able to override the default hidden behavior on the sphinx rendered scikit-learn.org. See: https://github.com/scikit-learn/scikit-learn/issues/21755 */display: inline-block !important;position: relative;}#sk-container-id-2 div.sk-text-repr-fallback {display: none;}</style><div id=\"sk-container-id-2\" class=\"sk-top-container\"><div class=\"sk-text-repr-fallback\"><pre>SVC(kernel=&#x27;linear&#x27;)</pre><b>In a Jupyter environment, please rerun this cell to show the HTML representation or trust the notebook. <br />On GitHub, the HTML representation is unable to render, please try loading this page with nbviewer.org.</b></div><div class=\"sk-container\" hidden><div class=\"sk-item\"><div class=\"sk-estimator sk-toggleable\"><input class=\"sk-toggleable__control sk-hidden--visually\" id=\"sk-estimator-id-2\" type=\"checkbox\" checked><label for=\"sk-estimator-id-2\" class=\"sk-toggleable__label sk-toggleable__label-arrow\">SVC</label><div class=\"sk-toggleable__content\"><pre>SVC(kernel=&#x27;linear&#x27;)</pre></div></div></div></div></div>"
      ],
      "text/plain": [
       "SVC(kernel='linear')"
      ]
     },
     "execution_count": 27,
     "metadata": {},
     "output_type": "execute_result"
    }
   ],
   "source": [
    "##TRAINING THE SUPPORT VECTOR MACHINE CLASSIFIER\n",
    "classifier.fit(X_train, Y_train)"
   ]
  },
  {
   "cell_type": "markdown",
   "id": "a0e3fce7",
   "metadata": {},
   "source": [
    "ACCURACY SCORE\n"
   ]
  },
  {
   "cell_type": "code",
   "execution_count": 28,
   "id": "03817370",
   "metadata": {},
   "outputs": [],
   "source": [
    "##accuracy score on the TRAINING DATA #SUPPORT VECTOR\n",
    "X_train_prediction = classifier.predict(X_train)\n",
    "training_data_accuracy = accuracy_score(X_train_prediction, Y_train)"
   ]
  },
  {
   "cell_type": "code",
   "execution_count": 29,
   "id": "e0d85748",
   "metadata": {},
   "outputs": [
    {
     "name": "stdout",
     "output_type": "stream",
     "text": [
      "(SVM) Accuracy score of the training data is:  1.0\n"
     ]
    }
   ],
   "source": [
    "##Printing the accuracy score of the training data\n",
    "print(\"(SVM) Accuracy score of the training data is: \", training_data_accuracy)"
   ]
  },
  {
   "cell_type": "code",
   "execution_count": 30,
   "id": "5fc2b5b1",
   "metadata": {},
   "outputs": [],
   "source": [
    "##accuracy score on the TESTING DATA\n",
    "X_test_prediction = classifier.predict(X_test)\n",
    "testing_data_accuracy = accuracy_score(X_test_prediction, Y_test)"
   ]
  },
  {
   "cell_type": "code",
   "execution_count": 31,
   "id": "319d6011",
   "metadata": {
    "scrolled": true
   },
   "outputs": [
    {
     "name": "stdout",
     "output_type": "stream",
     "text": [
      "(SVM) Accuracy score of the testing data is:  1.0\n"
     ]
    }
   ],
   "source": [
    "##Printing the accuracy score of the testing data\n",
    "print(\"(SVM) Accuracy score of the testing data is: \", testing_data_accuracy)"
   ]
  },
  {
   "cell_type": "markdown",
   "id": "9ab7c628",
   "metadata": {},
   "source": [
    "MAKING A PREDICTIVE SYSTEM - SVM"
   ]
  },
  {
   "cell_type": "code",
   "execution_count": 32,
   "id": "f1f306a6",
   "metadata": {},
   "outputs": [
    {
     "name": "stdout",
     "output_type": "stream",
     "text": [
      "['Paralysis (brain hemorrhage)']\n"
     ]
    },
    {
     "name": "stderr",
     "output_type": "stream",
     "text": [
      "C:\\Users\\sjr\\AppData\\Local\\Programs\\Python\\Python311\\Lib\\site-packages\\sklearn\\base.py:439: UserWarning: X does not have valid feature names, but StandardScaler was fitted with feature names\n",
      "  warnings.warn(\n"
     ]
    }
   ],
   "source": [
    "input_data =(0,0,0,0,0,0,0,0,0,0,0,1,0,0,0,0,0,0,0,0,0,0,0,0,0,0,0,0,0,0,0,1,0,0,0,0,0,0,0,0,0,0,0,0,0,0,0,0,0,0,0,0,0,0,0,0,0,0,0,0,0,0,0,0,0,0,0,0,0,0,0,0,0,0,0,0,0,0,0,0,0,0,0,0,0,0,0,1,0,0,0,0,0,0,0,0,0,0,1,0,0,0,0,0,0,0,0,0,0,0,0,0,0,0,0,0,0,0,0,0,0,0,0,0,0,0,0,0,0,0,0,0)\n",
    "\n",
    "#changing the input_data to numpy array\n",
    "input_data_as_array = np.asarray(input_data)\n",
    "\n",
    "#reshape the array as we are predicting for one instance\n",
    "input_data_reshaped = input_data_as_array.reshape(1, -1)\n",
    "\n",
    "#standardizing the input data\n",
    "std_data = scaler.transform(input_data_reshaped)\n",
    "#print(std_data)\n",
    "\n",
    "prediction = classifier.predict(std_data)\n",
    "print(prediction)"
   ]
  },
  {
   "cell_type": "markdown",
   "id": "f522a036",
   "metadata": {},
   "source": [
    "CONFUSION MATRIX"
   ]
  },
  {
   "cell_type": "code",
   "execution_count": 33,
   "id": "e543236d",
   "metadata": {},
   "outputs": [],
   "source": [
    "#iIMPORTING THE CONFUSION MATRIX MODEL\n",
    "from sklearn.metrics import confusion_matrix"
   ]
  },
  {
   "cell_type": "code",
   "execution_count": 34,
   "id": "3721d727",
   "metadata": {},
   "outputs": [
    {
     "name": "stdout",
     "output_type": "stream",
     "text": [
      "[[96  0  0 ...  0  0  0]\n",
      " [ 0 96  0 ...  0  0  0]\n",
      " [ 0  0 96 ...  0  0  0]\n",
      " ...\n",
      " [ 0  0  0 ... 96  0  0]\n",
      " [ 0  0  0 ...  0 96  0]\n",
      " [ 0  0  0 ...  0  0 96]]\n"
     ]
    }
   ],
   "source": [
    "cf_matrix = confusion_matrix(Y_train, X_train_prediction)\n",
    "print(cf_matrix)"
   ]
  },
  {
   "cell_type": "code",
   "execution_count": 35,
   "id": "cbfb3c92",
   "metadata": {},
   "outputs": [
    {
     "data": {
      "text/plain": [
       "<Axes: >"
      ]
     },
     "execution_count": 35,
     "metadata": {},
     "output_type": "execute_result"
    },
    {
     "data": {
      "image/png": "[encoded data removed]",
      "text/plain": [
       "<Figure size 640x480 with 2 Axes>"
      ]
     },
     "metadata": {},
     "output_type": "display_data"
    }
   ],
   "source": [
    "#ploting\n",
    "import seaborn as sns\n",
    "sns.heatmap(cf_matrix, annot=True)"
   ]
  },
  {
   "cell_type": "markdown",
   "id": "f2acee84",
   "metadata": {},
   "source": [
    "### KMEANS MODEL"
   ]
  },
  {
   "cell_type": "code",
   "execution_count": 36,
   "id": "33b46b6d",
   "metadata": {},
   "outputs": [],
   "source": [
    "from sklearn.cluster import KMeans\n",
    "# for i in range(1,11):\n",
    "#     kmeans = KMeans(n_clusters = i, init = 'k-means++', random_state=0)\n",
    "#     kmeans.fit(X)\n",
    "#     wss.append(kmeans.intertia_)"
   ]
  },
  {
   "cell_type": "code",
   "execution_count": null,
   "id": "7646dfa7",
   "metadata": {},
   "outputs": [],
   "source": []
  },
  {
   "cell_type": "markdown",
   "id": "f57119d6",
   "metadata": {},
   "source": [
    "## LOGISTIC REGRESSION"
   ]
  },
  {
   "cell_type": "code",
   "execution_count": 37,
   "id": "0f1509a1",
   "metadata": {},
   "outputs": [],
   "source": [
    "from sklearn.linear_model import LogisticRegression\n",
    "logistic = LogisticRegression()"
   ]
  },
  {
   "cell_type": "code",
   "execution_count": 38,
   "id": "6140cc1e",
   "metadata": {},
   "outputs": [
    {
     "data": {
      "text/html": [
       "<style>#sk-container-id-3 {color: black;background-color: white;}#sk-container-id-3 pre{padding: 0;}#sk-container-id-3 div.sk-toggleable {background-color: white;}#sk-container-id-3 label.sk-toggleable__label {cursor: pointer;display: block;width: 100%;margin-bottom: 0;padding: 0.3em;box-sizing: border-box;text-align: center;}#sk-container-id-3 label.sk-toggleable__label-arrow:before {content: \"▸\";float: left;margin-right: 0.25em;color: #696969;}#sk-container-id-3 label.sk-toggleable__label-arrow:hover:before {color: black;}#sk-container-id-3 div.sk-estimator:hover label.sk-toggleable__label-arrow:before {color: black;}#sk-container-id-3 div.sk-toggleable__content {max-height: 0;max-width: 0;overflow: hidden;text-align: left;background-color: #f0f8ff;}#sk-container-id-3 div.sk-toggleable__content pre {margin: 0.2em;color: black;border-radius: 0.25em;background-color: #f0f8ff;}#sk-container-id-3 input.sk-toggleable__control:checked~div.sk-toggleable__content {max-height: 200px;max-width: 100%;overflow: auto;}#sk-container-id-3 input.sk-toggleable__control:checked~label.sk-toggleable__label-arrow:before {content: \"▾\";}#sk-container-id-3 div.sk-estimator input.sk-toggleable__control:checked~label.sk-toggleable__label {background-color: #d4ebff;}#sk-container-id-3 div.sk-label input.sk-toggleable__control:checked~label.sk-toggleable__label {background-color: #d4ebff;}#sk-container-id-3 input.sk-hidden--visually {border: 0;clip: rect(1px 1px 1px 1px);clip: rect(1px, 1px, 1px, 1px);height: 1px;margin: -1px;overflow: hidden;padding: 0;position: absolute;width: 1px;}#sk-container-id-3 div.sk-estimator {font-family: monospace;background-color: #f0f8ff;border: 1px dotted black;border-radius: 0.25em;box-sizing: border-box;margin-bottom: 0.5em;}#sk-container-id-3 div.sk-estimator:hover {background-color: #d4ebff;}#sk-container-id-3 div.sk-parallel-item::after {content: \"\";width: 100%;border-bottom: 1px solid gray;flex-grow: 1;}#sk-container-id-3 div.sk-label:hover label.sk-toggleable__label {background-color: #d4ebff;}#sk-container-id-3 div.sk-serial::before {content: \"\";position: absolute;border-left: 1px solid gray;box-sizing: border-box;top: 0;bottom: 0;left: 50%;z-index: 0;}#sk-container-id-3 div.sk-serial {display: flex;flex-direction: column;align-items: center;background-color: white;padding-right: 0.2em;padding-left: 0.2em;position: relative;}#sk-container-id-3 div.sk-item {position: relative;z-index: 1;}#sk-container-id-3 div.sk-parallel {display: flex;align-items: stretch;justify-content: center;background-color: white;position: relative;}#sk-container-id-3 div.sk-item::before, #sk-container-id-3 div.sk-parallel-item::before {content: \"\";position: absolute;border-left: 1px solid gray;box-sizing: border-box;top: 0;bottom: 0;left: 50%;z-index: -1;}#sk-container-id-3 div.sk-parallel-item {display: flex;flex-direction: column;z-index: 1;position: relative;background-color: white;}#sk-container-id-3 div.sk-parallel-item:first-child::after {align-self: flex-end;width: 50%;}#sk-container-id-3 div.sk-parallel-item:last-child::after {align-self: flex-start;width: 50%;}#sk-container-id-3 div.sk-parallel-item:only-child::after {width: 0;}#sk-container-id-3 div.sk-dashed-wrapped {border: 1px dashed gray;margin: 0 0.4em 0.5em 0.4em;box-sizing: border-box;padding-bottom: 0.4em;background-color: white;}#sk-container-id-3 div.sk-label label {font-family: monospace;font-weight: bold;display: inline-block;line-height: 1.2em;}#sk-container-id-3 div.sk-label-container {text-align: center;}#sk-container-id-3 div.sk-container {/* jupyter's `normalize.less` sets `[hidden] { display: none; }` but bootstrap.min.css set `[hidden] { display: none !important; }` so we also need the `!important` here to be able to override the default hidden behavior on the sphinx rendered scikit-learn.org. See: https://github.com/scikit-learn/scikit-learn/issues/21755 */display: inline-block !important;position: relative;}#sk-container-id-3 div.sk-text-repr-fallback {display: none;}</style><div id=\"sk-container-id-3\" class=\"sk-top-container\"><div class=\"sk-text-repr-fallback\"><pre>LogisticRegression()</pre><b>In a Jupyter environment, please rerun this cell to show the HTML representation or trust the notebook. <br />On GitHub, the HTML representation is unable to render, please try loading this page with nbviewer.org.</b></div><div class=\"sk-container\" hidden><div class=\"sk-item\"><div class=\"sk-estimator sk-toggleable\"><input class=\"sk-toggleable__control sk-hidden--visually\" id=\"sk-estimator-id-3\" type=\"checkbox\" checked><label for=\"sk-estimator-id-3\" class=\"sk-toggleable__label sk-toggleable__label-arrow\">LogisticRegression</label><div class=\"sk-toggleable__content\"><pre>LogisticRegression()</pre></div></div></div></div></div>"
      ],
      "text/plain": [
       "LogisticRegression()"
      ]
     },
     "execution_count": 38,
     "metadata": {},
     "output_type": "execute_result"
    }
   ],
   "source": [
    "#training the LogisticRegression with Training Data\n",
    "logistic.fit(X_train, Y_train)"
   ]
  },
  {
   "cell_type": "markdown",
   "id": "bd0987fd",
   "metadata": {},
   "source": [
    "ACCURACY SCORE"
   ]
  },
  {
   "cell_type": "code",
   "execution_count": 39,
   "id": "2f088c33",
   "metadata": {},
   "outputs": [],
   "source": [
    "##accuracy score on the TRAINING DATA #SUPPORT VECTOR\n",
    "X_train_prediction_lr = logistic.predict(X_train)\n",
    "training_data_accuracy = accuracy_score(X_train_prediction_lr, Y_train)"
   ]
  },
  {
   "cell_type": "code",
   "execution_count": 40,
   "id": "f2e96b57",
   "metadata": {},
   "outputs": [
    {
     "name": "stdout",
     "output_type": "stream",
     "text": [
      "LOGISTIC Accuracy score of the training data is:  1.0\n"
     ]
    }
   ],
   "source": [
    "##Printing the accuracy score of the training data\n",
    "print(\"LOGISTIC Accuracy score of the training data is: \", training_data_accuracy)"
   ]
  },
  {
   "cell_type": "code",
   "execution_count": 41,
   "id": "f01481a8",
   "metadata": {},
   "outputs": [],
   "source": [
    "##accuracy score on the TESTING DATA\n",
    "X_test_prediction_lr = logistic.predict(X_test)\n",
    "testing_data_accuracy = accuracy_score(X_test_prediction_lr, Y_test)"
   ]
  },
  {
   "cell_type": "code",
   "execution_count": 42,
   "id": "6983bd05",
   "metadata": {},
   "outputs": [
    {
     "name": "stdout",
     "output_type": "stream",
     "text": [
      "LOGISTIC Accuracy score of the testing data is:  1.0\n"
     ]
    }
   ],
   "source": [
    "##Printing the accuracy score of the testing data\n",
    "print(\"LOGISTIC Accuracy score of the testing data is: \", testing_data_accuracy)"
   ]
  },
  {
   "cell_type": "markdown",
   "id": "cc911792",
   "metadata": {},
   "source": [
    "MAKING A SYSTEM PREDICTIVE - LOGISTIC REGRESSION"
   ]
  },
  {
   "cell_type": "code",
   "execution_count": 43,
   "id": "036163bd",
   "metadata": {},
   "outputs": [
    {
     "name": "stdout",
     "output_type": "stream",
     "text": [
      "['Paralysis (brain hemorrhage)']\n"
     ]
    },
    {
     "name": "stderr",
     "output_type": "stream",
     "text": [
      "C:\\Users\\sjr\\AppData\\Local\\Programs\\Python\\Python311\\Lib\\site-packages\\sklearn\\base.py:439: UserWarning: X does not have valid feature names, but StandardScaler was fitted with feature names\n",
      "  warnings.warn(\n"
     ]
    }
   ],
   "source": [
    "input_data =(0,0,0,0,0,0,0,0,0,0,0,1,0,0,0,0,0,0,0,0,0,0,0,0,0,0,0,0,0,0,0,1,0,0,0,0,0,0,0,0,0,0,0,0,0,0,0,0,0,0,0,0,0,0,0,0,0,0,0,0,0,0,0,0,0,0,0,0,0,0,0,0,0,0,0,0,0,0,0,0,0,0,0,0,0,0,0,1,0,0,0,0,0,0,0,0,0,0,1,0,0,0,0,0,0,0,0,0,0,0,0,0,0,0,0,0,0,0,0,0,0,0,0,0,0,0,0,0,0,0,0,0)\n",
    "\n",
    "#changing the input_data to numpy array\n",
    "input_data_as_array = np.asarray(input_data)\n",
    "\n",
    "#reshape the array as we are predicting for one instance\n",
    "input_data_reshaped = input_data_as_array.reshape(1, -1)\n",
    "\n",
    "#standardizing the input data\n",
    "std_data = scaler.transform(input_data_reshaped)\n",
    "#print(std_data)\n",
    "\n",
    "prediction = logistic.predict(std_data)\n",
    "print(prediction)"
   ]
  },
  {
   "cell_type": "code",
   "execution_count": 44,
   "id": "2e9ff64b",
   "metadata": {},
   "outputs": [],
   "source": [
    "#iIMPORTING THE CONFUSION MATRIX MODEL\n",
    "from sklearn.metrics import confusion_matrix"
   ]
  },
  {
   "cell_type": "code",
   "execution_count": 45,
   "id": "fb57bf7a",
   "metadata": {},
   "outputs": [
    {
     "name": "stdout",
     "output_type": "stream",
     "text": [
      "[[96  0  0 ...  0  0  0]\n",
      " [ 0 96  0 ...  0  0  0]\n",
      " [ 0  0 96 ...  0  0  0]\n",
      " ...\n",
      " [ 0  0  0 ... 96  0  0]\n",
      " [ 0  0  0 ...  0 96  0]\n",
      " [ 0  0  0 ...  0  0 96]]\n"
     ]
    }
   ],
   "source": [
    "cf_matrix = confusion_matrix(Y_train, X_train_prediction_lr)\n",
    "print(cf_matrix)"
   ]
  },
  {
   "cell_type": "code",
   "execution_count": 46,
   "id": "e93aa2a6",
   "metadata": {
    "scrolled": true
   },
   "outputs": [
    {
     "data": {
      "text/plain": [
       "<Axes: >"
      ]
     },
     "execution_count": 46,
     "metadata": {},
     "output_type": "execute_result"
    },
    {
     "data": {
      "image/png": "[encoded data removed]",
      "text/plain": [
       "<Figure size 640x480 with 2 Axes>"
      ]
     },
     "metadata": {},
     "output_type": "display_data"
    }
   ],
   "source": [
    "#ploting\n",
    "import seaborn as sns\n",
    "sns.heatmap(cf_matrix, annot=True)"
   ]
  },
  {
   "cell_type": "markdown",
   "id": "831e1c9e",
   "metadata": {},
   "source": [
    "## DESICION TREE"
   ]
  },
  {
   "cell_type": "code",
   "execution_count": 47,
   "id": "5788c531",
   "metadata": {},
   "outputs": [],
   "source": [
    "#IMPORTING THE ALGORITHM\n",
    "from sklearn import tree\n",
    "dec_tree = tree.DecisionTreeClassifier()"
   ]
  },
  {
   "cell_type": "code",
   "execution_count": 48,
   "id": "a133c8db",
   "metadata": {},
   "outputs": [],
   "source": [
    "#TRAINING THE DECISION TREE WITH THE TRAINING DATA\n",
    "dec_tree = dec_tree.fit(X_train, Y_train)"
   ]
  },
  {
   "cell_type": "markdown",
   "id": "ab646e73",
   "metadata": {},
   "source": [
    "ACCURACY SCORE"
   ]
  },
  {
   "cell_type": "code",
   "execution_count": 49,
   "id": "985a3cc6",
   "metadata": {},
   "outputs": [
    {
     "name": "stdout",
     "output_type": "stream",
     "text": [
      "DECISION TREEE Accuracy score of the training data is:  1.0\n"
     ]
    }
   ],
   "source": [
    "##accuracy score on the TRAINING DATA #SUPPORT VECTOR\n",
    "X_train_prediction_decTree = dec_tree.predict(X_train)\n",
    "training_data_accuracy_decTree = accuracy_score(X_train_prediction_decTree, Y_train)\n",
    "\n",
    "##Printing the accuracy score of the training data\n",
    "print(\"DECISION TREEE Accuracy score of the training data is: \", training_data_accuracy_decTree)"
   ]
  },
  {
   "cell_type": "code",
   "execution_count": 50,
   "id": "327bf0c4",
   "metadata": {},
   "outputs": [
    {
     "name": "stdout",
     "output_type": "stream",
     "text": [
      "DECISION TREE Accuracy score of the testing data is:  1.0\n"
     ]
    }
   ],
   "source": [
    "##accuracy score on the TESTING DATA\n",
    "X_test_prediction_decTree = dec_tree.predict(X_test)\n",
    "testing_data_accuracy_decTree = accuracy_score(X_test_prediction_decTree, Y_test)\n",
    "\n",
    "##Printing the accuracy score of the testing data\n",
    "print(\"DECISION TREE Accuracy score of the testing data is: \", testing_data_accuracy_decTree)"
   ]
  },
  {
   "cell_type": "markdown",
   "id": "7c53fee0",
   "metadata": {},
   "source": [
    "MAKING A SYSTEM PREDICTIVE - DECISION TREE"
   ]
  },
  {
   "cell_type": "code",
   "execution_count": 51,
   "id": "ad6c2992",
   "metadata": {},
   "outputs": [
    {
     "name": "stdout",
     "output_type": "stream",
     "text": [
      "['Paralysis (brain hemorrhage)']\n"
     ]
    },
    {
     "name": "stderr",
     "output_type": "stream",
     "text": [
      "C:\\Users\\sjr\\AppData\\Local\\Programs\\Python\\Python311\\Lib\\site-packages\\sklearn\\base.py:439: UserWarning: X does not have valid feature names, but StandardScaler was fitted with feature names\n",
      "  warnings.warn(\n"
     ]
    }
   ],
   "source": [
    "input_data =(0,0,0,0,0,0,0,0,0,0,0,1,0,0,0,0,0,0,0,0,0,0,0,0,0,0,0,0,0,0,0,1,0,0,0,0,0,0,0,0,0,0,0,0,0,0,0,0,0,0,0,0,0,0,0,0,0,0,0,0,0,0,0,0,0,0,0,0,0,0,0,0,0,0,0,0,0,0,0,0,0,0,0,0,0,0,0,1,0,0,0,0,0,0,0,0,0,0,1,0,0,0,0,0,0,0,0,0,0,0,0,0,0,0,0,0,0,0,0,0,0,0,0,0,0,0,0,0,0,0,0,0)\n",
    "\n",
    "#changing the input_data to numpy array\n",
    "input_data_as_array = np.asarray(input_data)\n",
    "\n",
    "#reshape the array as we are predicting for one instance\n",
    "input_data_reshaped = input_data_as_array.reshape(1, -1)\n",
    "\n",
    "#standardizing the input data\n",
    "std_data = scaler.transform(input_data_reshaped)\n",
    "#print(std_data)\n",
    "\n",
    "prediction = dec_tree.predict(std_data)\n",
    "print(prediction)"
   ]
  },
  {
   "cell_type": "markdown",
   "id": "805bb189",
   "metadata": {},
   "source": [
    "### PLOTTING "
   ]
  },
  {
   "cell_type": "code",
   "execution_count": 52,
   "id": "cc5b9a51",
   "metadata": {
    "collapsed": true
   },
   "outputs": [
    {
     "data": {
      "text/plain": [
       "[Text(0.9568345323741008, 0.9913793103448276, 'x[53] <= 3.083\\ngini = 0.976\\nsamples = 3936\\nvalue = [96, 96, 96, 96, 96, 96, 96, 96, 96, 96, 96, 96\\n96, 96, 96, 96, 96, 96, 96, 96, 96, 96, 96, 96\\n96, 96, 96, 96, 96, 96, 96, 96, 96, 96, 96, 96\\n96, 96, 96, 96, 96]'),\n",
       " Text(0.9424460431654677, 0.9741379310344828, 'x[101] <= 2.095\\ngini = 0.975\\nsamples = 3840\\nvalue = [96, 96, 96, 96, 96, 96, 96, 96, 96, 96, 0, 96\\n96, 96, 96, 96, 96, 96, 96, 96, 96, 96, 96, 96\\n96, 96, 96, 96, 96, 96, 96, 96, 96, 96, 96, 96\\n96, 96, 96, 96, 96]'),\n",
       " Text(0.9136690647482014, 0.9568965517241379, 'x[113] <= 3.083\\ngini = 0.974\\nsamples = 3648\\nvalue = [96, 96, 96, 96, 96, 96, 96, 96, 96, 96, 0, 96\\n96, 96, 96, 96, 96, 96, 96, 96, 96, 96, 96, 96\\n0, 96, 0, 96, 96, 96, 96, 96, 96, 96, 96, 96\\n96, 96, 96, 96, 96]'),\n",
       " Text(0.8992805755395683, 0.9396551724137931, 'x[108] <= 3.083\\ngini = 0.973\\nsamples = 3552\\nvalue = [96, 96, 96, 96, 96, 96, 96, 96, 96, 96, 0, 96\\n96, 96, 96, 96, 96, 96, 96, 96, 96, 96, 0, 96\\n0, 96, 0, 96, 96, 96, 96, 96, 96, 96, 96, 96\\n96, 96, 96, 96, 96]'),\n",
       " Text(0.8848920863309353, 0.9224137931034483, 'x[111] <= 3.083\\ngini = 0.972\\nsamples = 3456\\nvalue = [96, 96, 96, 96, 96, 96, 96, 96, 96, 96, 0, 96\\n96, 96, 96, 96, 96, 96, 96, 96, 96, 96, 0, 96\\n0, 96, 0, 96, 96, 96, 96, 96, 96, 96, 0, 96\\n96, 96, 96, 96, 96]'),\n",
       " Text(0.8705035971223022, 0.9051724137931034, 'x[120] <= 3.083\\ngini = 0.971\\nsamples = 3360\\nvalue = [96, 96, 96, 96, 96, 96, 96, 96, 96, 96, 0, 96\\n96, 96, 96, 96, 96, 96, 96, 0, 96, 96, 0, 96\\n0, 96, 0, 96, 96, 96, 96, 96, 96, 96, 0, 96\\n96, 96, 96, 96, 96]'),\n",
       " Text(0.8561151079136691, 0.8879310344827587, 'x[105] <= 3.083\\ngini = 0.971\\nsamples = 3264\\nvalue = [96, 96, 96, 96, 96, 96, 96, 96, 96, 96, 0, 96\\n96, 96, 96, 96, 96, 96, 96, 0, 96, 96, 0, 96\\n0, 0, 0, 96, 96, 96, 96, 96, 96, 96, 0, 96, 96\\n96, 96, 96, 96]'),\n",
       " Text(0.841726618705036, 0.8706896551724138, 'x[36] <= 3.083\\ngini = 0.97\\nsamples = 3168\\nvalue = [96, 96, 96, 96, 96, 96, 96, 96, 96, 96, 0, 96\\n0, 96, 96, 96, 96, 96, 96, 0, 96, 96, 0, 96, 0\\n0, 0, 96, 96, 96, 96, 96, 96, 96, 0, 96, 96\\n96, 96, 96, 96]'),\n",
       " Text(0.8273381294964028, 0.853448275862069, 'x[99] <= 2.126\\ngini = 0.969\\nsamples = 3072\\nvalue = [96, 96, 96, 96, 96, 96, 96, 96, 96, 96, 0, 0\\n0, 96, 96, 96, 96, 96, 96, 0, 96, 96, 0, 96, 0\\n0, 0, 96, 96, 96, 96, 96, 96, 96, 0, 96, 96\\n96, 96, 96, 96]'),\n",
       " Text(0.8129496402877698, 0.8362068965517241, 'x[97] <= 1.368\\ngini = 0.968\\nsamples = 2976\\nvalue = [96, 96, 96, 96, 96, 96, 96, 96, 0, 96, 0, 0, 0\\n96, 96, 96, 96, 96, 96, 0, 96, 96, 0, 96, 0, 0\\n0, 96, 96, 96, 96, 96, 96, 96, 0, 96, 96, 96\\n96, 96, 96]'),\n",
       " Text(0.7841726618705036, 0.8189655172413793, 'x[47] <= 1.674\\ngini = 0.966\\nsamples = 2784\\nvalue = [96, 96, 96, 96, 96, 96, 96, 96, 0, 96, 0, 0, 0\\n96, 96, 96, 96, 96, 96, 0, 96, 96, 0, 96, 0, 0\\n0, 96, 96, 0, 96, 96, 96, 96, 0, 96, 96, 96\\n96, 96, 0]'),\n",
       " Text(0.7697841726618705, 0.8017241379310345, 'x[116] <= 3.169\\ngini = 0.964\\nsamples = 2688\\nvalue = [96, 96, 96, 96, 96, 96, 96, 96, 0, 96, 0, 0, 0\\n96, 96, 96, 96, 96, 96, 0, 96, 96, 0, 96, 0, 0\\n0, 96, 96, 0, 96, 96, 96, 96, 0, 96, 0, 96, 96\\n96, 0]'),\n",
       " Text(0.7553956834532374, 0.7844827586206896, 'x[78] <= 3.169\\ngini = 0.963\\nsamples = 2594\\nvalue = [96, 96, 96, 2, 96, 96, 96, 96, 0, 96, 0, 0, 0\\n96, 96, 96, 96, 96, 96, 0, 96, 96, 0, 96, 0, 0\\n0, 96, 96, 0, 96, 96, 96, 96, 0, 96, 0, 96, 96\\n96, 0]'),\n",
       " Text(0.7410071942446043, 0.7672413793103449, 'x[86] <= 3.169\\ngini = 0.962\\nsamples = 2501\\nvalue = [96, 96, 96, 2, 96, 96, 96, 96, 0, 96, 0, 0, 0\\n96, 96, 96, 96, 96, 96, 0, 96, 96, 0, 96, 0, 0\\n0, 96, 96, 0, 96, 3, 96, 96, 0, 96, 0, 96, 96\\n96, 0]'),\n",
       " Text(0.7266187050359713, 0.75, 'x[128] <= 3.169\\ngini = 0.96\\nsamples = 2408\\nvalue = [3, 96, 96, 2, 96, 96, 96, 96, 0, 96, 0, 0, 0\\n96, 96, 96, 96, 96, 96, 0, 96, 96, 0, 96, 0, 0\\n0, 96, 96, 0, 96, 3, 96, 96, 0, 96, 0, 96, 96\\n96, 0]'),\n",
       " Text(0.7122302158273381, 0.7327586206896551, 'x[130] <= 3.169\\ngini = 0.959\\nsamples = 2315\\nvalue = [3, 96, 96, 2, 96, 96, 96, 96, 0, 96, 0, 0, 0\\n96, 96, 96, 96, 96, 96, 0, 96, 96, 0, 96, 0, 0\\n0, 96, 96, 0, 96, 3, 96, 96, 0, 3, 0, 96, 96\\n96, 0]'),\n",
       " Text(0.697841726618705, 0.7155172413793104, 'x[60] <= 3.169\\ngini = 0.957\\nsamples = 2222\\nvalue = [3, 96, 96, 2, 96, 96, 96, 96, 0, 96, 0, 0, 0\\n96, 96, 96, 96, 96, 96, 0, 96, 96, 0, 96, 0, 0\\n0, 3, 96, 0, 96, 3, 96, 96, 0, 3, 0, 96, 96\\n96, 0]'),\n",
       " Text(0.6834532374100719, 0.6982758620689655, 'x[65] <= 3.169\\ngini = 0.955\\nsamples = 2129\\nvalue = [3, 96, 96, 2, 96, 96, 96, 96, 0, 96, 0, 0, 0\\n3, 96, 96, 96, 96, 96, 0, 96, 96, 0, 96, 0, 0\\n0, 3, 96, 0, 96, 3, 96, 96, 0, 3, 0, 96, 96\\n96, 0]'),\n",
       " Text(0.6690647482014388, 0.6810344827586207, 'x[110] <= 3.169\\ngini = 0.953\\nsamples = 2037\\nvalue = [3, 96, 96, 2, 96, 96, 96, 96, 0, 96, 0, 0, 0\\n3, 96, 96, 96, 96, 96, 0, 96, 96, 0, 96, 0, 0\\n0, 3, 96, 0, 96, 3, 96, 96, 0, 3, 0, 96, 96\\n4, 0]'),\n",
       " Text(0.6546762589928058, 0.6637931034482759, 'x[94] <= 3.169\\ngini = 0.951\\nsamples = 1945\\nvalue = [3, 96, 96, 2, 96, 96, 96, 96, 0, 96, 0, 0, 0\\n3, 96, 96, 96, 96, 96, 0, 96, 96, 0, 96, 0, 0\\n0, 3, 96, 0, 4, 3, 96, 96, 0, 3, 0, 96, 96\\n4, 0]'),\n",
       " Text(0.6402877697841727, 0.646551724137931, 'x[98] <= 3.169\\ngini = 0.949\\nsamples = 1853\\nvalue = [3, 96, 96, 2, 96, 96, 96, 96, 0, 96, 0, 0, 0\\n3, 96, 96, 96, 96, 96, 0, 96, 96, 0, 96, 0, 0\\n0, 3, 96, 0, 4, 3, 96, 96, 0, 3, 0, 4, 96, 4\\n0]'),\n",
       " Text(0.6258992805755396, 0.6293103448275862, 'x[92] <= 3.169\\ngini = 0.946\\nsamples = 1761\\nvalue = [3, 96, 96, 2, 96, 96, 96, 96, 0, 96, 0, 0, 0\\n3, 96, 96, 96, 96, 96, 0, 96, 96, 0, 96, 0, 0\\n0, 3, 96, 0, 4, 3, 4, 96, 0, 3, 0, 4, 96, 4\\n0]'),\n",
       " Text(0.6115107913669064, 0.6120689655172413, 'x[19] <= 1.405\\ngini = 0.944\\nsamples = 1669\\nvalue = [3, 96, 96, 2, 96, 96, 96, 96, 0, 96, 0, 0, 0\\n3, 96, 96, 96, 96, 96, 0, 96, 96, 0, 96, 0, 0\\n0, 3, 96, 0, 4, 3, 4, 4, 0, 3, 0, 4, 96, 4\\n0]'),\n",
       " Text(0.5971223021582733, 0.5948275862068966, 'x[83] <= 3.169\\ngini = 0.941\\nsamples = 1577\\nvalue = [3, 96, 96, 2, 96, 96, 96, 96, 0, 96, 0, 0, 0\\n3, 96, 96, 96, 96, 96, 0, 96, 96, 0, 96, 0, 0\\n0, 3, 4, 0, 4, 3, 4, 4, 0, 3, 0, 4, 96, 4\\n0]'),\n",
       " Text(0.5827338129496403, 0.5775862068965517, 'x[107] <= 3.169\\ngini = 0.937\\nsamples = 1486\\nvalue = [3, 96, 96, 2, 96, 5, 96, 96, 0, 96, 0, 0, 0\\n3, 96, 96, 96, 96, 96, 0, 96, 96, 0, 96, 0, 0\\n0, 3, 4, 0, 4, 3, 4, 4, 0, 3, 0, 4, 96, 4\\n0]'),\n",
       " Text(0.5683453237410072, 0.5603448275862069, 'x[89] <= 3.169\\ngini = 0.934\\nsamples = 1395\\nvalue = [3, 96, 96, 2, 96, 5, 5, 96, 0, 96, 0, 0, 0\\n3, 96, 96, 96, 96, 96, 0, 96, 96, 0, 96, 0, 0\\n0, 3, 4, 0, 4, 3, 4, 4, 0, 3, 0, 4, 96, 4\\n0]'),\n",
       " Text(0.5539568345323741, 0.5431034482758621, 'x[109] <= 3.169\\ngini = 0.929\\nsamples = 1304\\nvalue = [3, 96, 96, 2, 96, 5, 5, 96, 0, 96, 0, 0, 0\\n3, 96, 96, 96, 96, 96, 0, 96, 96, 0, 96, 0, 0\\n0, 3, 4, 0, 4, 3, 4, 4, 0, 3, 0, 4, 5, 4\\n0]'),\n",
       " Text(0.539568345323741, 0.5258620689655172, 'x[56] <= 1.029\\ngini = 0.925\\nsamples = 1214\\nvalue = [3, 96, 96, 2, 96, 5, 5, 96, 0, 96, 0, 0, 0\\n3, 96, 96, 96, 96, 96, 0, 96, 96, 0, 6, 0, 0\\n0, 3, 4, 0, 4, 3, 4, 4, 0, 3, 0, 4, 5, 4\\n0]'),\n",
       " Text(0.5107913669064749, 0.5086206896551724, 'x[64] <= 1.711\\ngini = 0.912\\nsamples = 1025\\nvalue = [3, 96, 96, 2, 96, 5, 5, 96, 0, 96, 0, 0, 0\\n3, 96, 96, 5, 96, 4, 0, 96, 96, 0, 0, 0, 0\\n0, 3, 4, 0, 4, 3, 4, 4, 0, 3, 0, 4, 5, 4\\n0]'),\n",
       " Text(0.49640287769784175, 0.49137931034482757, 'x[26] <= 3.263\\ngini = 0.905\\nsamples = 934\\nvalue = [3, 96, 96, 2, 96, 5, 5, 5, 0, 96, 0, 0, 0, 3\\n96, 96, 5, 96, 4, 0, 96, 96, 0, 0, 0, 0, 0\\n3, 4, 0, 4, 3, 4, 4, 0, 3, 0, 4, 5, 4, 0]'),\n",
       " Text(0.48201438848920863, 0.47413793103448276, 'x[102] <= 3.263\\ngini = 0.896\\nsamples = 846\\nvalue = [3, 96, 96, 2, 96, 5, 5, 5, 0, 96, 0, 0, 0, 3\\n96, 96, 5, 8, 4, 0, 96, 96, 0, 0, 0, 0, 0, 3\\n4, 0, 4, 3, 4, 4, 0, 3, 0, 4, 5, 4, 0]'),\n",
       " Text(0.4676258992805755, 0.45689655172413796, 'x[123] <= 3.263\\ngini = 0.887\\nsamples = 758\\nvalue = [3, 96, 96, 2, 96, 5, 5, 5, 0, 96, 0, 0, 0, 3\\n96, 8, 5, 8, 4, 0, 96, 96, 0, 0, 0, 0, 0, 3\\n4, 0, 4, 3, 4, 4, 0, 3, 0, 4, 5, 4, 0]'),\n",
       " Text(0.45323741007194246, 0.4396551724137931, 'x[33] <= 1.2\\ngini = 0.876\\nsamples = 670\\nvalue = [3, 96, 8, 2, 96, 5, 5, 5, 0, 96, 0, 0, 0, 3\\n96, 8, 5, 8, 4, 0, 96, 96, 0, 0, 0, 0, 0, 3\\n4, 0, 4, 3, 4, 4, 0, 3, 0, 4, 5, 4, 0]'),\n",
       " Text(0.4244604316546763, 0.4224137931034483, 'x[3] <= 2.191\\ngini = 0.86\\nsamples = 576\\nvalue = [3, 96, 8, 2, 96, 5, 5, 5, 0, 96, 0, 0, 0, 3\\n96, 8, 5, 8, 4, 0, 96, 6, 0, 0, 0, 0, 0, 3\\n0, 0, 4, 3, 4, 4, 0, 3, 0, 4, 5, 4, 0]'),\n",
       " Text(0.41007194244604317, 0.4051724137931034, 'x[10] <= 3.263\\ngini = 0.843\\nsamples = 489\\nvalue = [3, 96, 8, 2, 9, 5, 5, 5, 0, 96, 0, 0, 0, 3\\n96, 8, 5, 8, 4, 0, 96, 6, 0, 0, 0, 0, 0, 3\\n0, 0, 4, 3, 4, 4, 0, 3, 0, 4, 5, 4, 0]'),\n",
       " Text(0.39568345323741005, 0.3879310344827586, 'x[106] <= 2.158\\ngini = 0.825\\nsamples = 402\\nvalue = [3, 9, 8, 2, 9, 5, 5, 5, 0, 96, 0, 0, 0, 3\\n96, 8, 5, 8, 4, 0, 96, 6, 0, 0, 0, 0, 0, 3\\n0, 0, 4, 3, 4, 4, 0, 3, 0, 4, 5, 4, 0]'),\n",
       " Text(0.3669064748201439, 0.3706896551724138, 'x[13] <= 3.263\\ngini = 0.797\\nsamples = 307\\nvalue = [3, 9, 8, 2, 9, 5, 0, 5, 0, 96, 0, 0, 0, 3\\n96, 8, 5, 8, 4, 0, 6, 6, 0, 0, 0, 0, 0, 3\\n0, 0, 4, 3, 4, 4, 0, 3, 0, 4, 5, 4, 0]'),\n",
       " Text(0.35251798561151076, 0.35344827586206895, 'x[32] <= 0.81\\ngini = 0.796\\nsamples = 221\\nvalue = [3, 9, 8, 2, 9, 5, 0, 5, 0, 96, 0, 0, 0, 3\\n10, 8, 5, 8, 4, 0, 6, 6, 0, 0, 0, 0, 0, 3\\n0, 0, 4, 3, 4, 4, 0, 3, 0, 4, 5, 4, 0]'),\n",
       " Text(0.31654676258992803, 0.33620689655172414, 'x[103] <= 3.263\\ngini = 0.946\\nsamples = 115\\nvalue = [3, 9, 8, 0, 9, 5, 0, 5, 0, 4, 0, 0, 0, 3\\n10, 8, 5, 8, 4, 0, 0, 0, 0, 0, 0, 0, 0, 3\\n0, 0, 4, 3, 4, 4, 0, 3, 0, 4, 5, 4, 0]'),\n",
       " Text(0.302158273381295, 0.31896551724137934, 'x[75] <= 3.263\\ngini = 0.944\\nsamples = 106\\nvalue = [3, 9, 8, 0, 0, 5, 0, 5, 0, 4, 0, 0, 0, 3\\n10, 8, 5, 8, 4, 0, 0, 0, 0, 0, 0, 0, 0, 3\\n0, 0, 4, 3, 4, 4, 0, 3, 0, 4, 5, 4, 0]'),\n",
       " Text(0.28776978417266186, 0.3017241379310345, 'x[12] <= 2.226\\ngini = 0.942\\nsamples = 97\\nvalue = [3, 0, 8, 0, 0, 5, 0, 5, 0, 4, 0, 0, 0, 3\\n10, 8, 5, 8, 4, 0, 0, 0, 0, 0, 0, 0, 0, 3\\n0, 0, 4, 3, 4, 4, 0, 3, 0, 4, 5, 4, 0]'),\n",
       " Text(0.2589928057553957, 0.28448275862068967, 'x[2] <= 3.263\\ngini = 0.937\\nsamples = 82\\nvalue = [3, 0, 8, 0, 0, 5, 0, 5, 0, 4, 0, 0, 0, 3\\n0, 8, 5, 8, 4, 0, 0, 0, 0, 0, 0, 0, 0, 3\\n0, 0, 4, 3, 4, 4, 0, 3, 0, 4, 0, 4, 0]'),\n",
       " Text(0.2446043165467626, 0.2672413793103448, 'x[122] <= 3.263\\ngini = 0.934\\nsamples = 74\\nvalue = [3, 0, 8, 0, 0, 5, 0, 5, 0, 4, 0, 0, 0, 3\\n0, 0, 5, 8, 4, 0, 0, 0, 0, 0, 0, 0, 0, 3\\n0, 0, 4, 3, 4, 4, 0, 3, 0, 4, 0, 4, 0]'),\n",
       " Text(0.2302158273381295, 0.25, 'x[29] <= 3.263\\ngini = 0.932\\nsamples = 66\\nvalue = [3, 0, 0, 0, 0, 5, 0, 5, 0, 4, 0, 0, 0, 3\\n0, 0, 5, 8, 4, 0, 0, 0, 0, 0, 0, 0, 0, 3\\n0, 0, 4, 3, 4, 4, 0, 3, 0, 4, 0, 4, 0]'),\n",
       " Text(0.2158273381294964, 0.23275862068965517, 'x[80] <= 2.126\\ngini = 0.931\\nsamples = 58\\nvalue = [3, 0, 0, 0, 0, 5, 0, 5, 0, 4, 0, 0, 0, 3\\n0, 0, 5, 0, 4, 0, 0, 0, 0, 0, 0, 0, 0, 3\\n0, 0, 4, 3, 4, 4, 0, 3, 0, 4, 0, 4, 0]'),\n",
       " Text(0.2014388489208633, 0.21551724137931033, 'x[9] <= 3.263\\ngini = 0.926\\nsamples = 53\\nvalue = [3, 0, 0, 0, 0, 0, 0, 5, 0, 4, 0, 0, 0, 3\\n0, 0, 5, 0, 4, 0, 0, 0, 0, 0, 0, 0, 0, 3\\n0, 0, 4, 3, 4, 4, 0, 3, 0, 4, 0, 4, 0]'),\n",
       " Text(0.18705035971223022, 0.19827586206896552, 'x[37] <= 2.158\\ngini = 0.921\\nsamples = 48\\nvalue = [3, 0, 0, 0, 0, 0, 0, 5, 0, 4, 0, 0, 0, 3\\n0, 0, 0, 0, 4, 0, 0, 0, 0, 0, 0, 0, 0, 3\\n0, 0, 4, 3, 4, 4, 0, 3, 0, 4, 0, 4, 0]'),\n",
       " Text(0.17266187050359713, 0.1810344827586207, 'x[5] <= 0.916\\ngini = 0.915\\nsamples = 43\\nvalue = [3, 0, 0, 0, 0, 0, 0, 0, 0, 4, 0, 0, 0, 3\\n0, 0, 0, 0, 4, 0, 0, 0, 0, 0, 0, 0, 0, 3\\n0, 0, 4, 3, 4, 4, 0, 3, 0, 4, 0, 4, 0]'),\n",
       " Text(0.15827338129496402, 0.16379310344827586, 'x[8] <= 2.191\\ngini = 0.907\\nsamples = 39\\nvalue = [3, 0, 0, 0, 0, 0, 0, 0, 0, 4, 0, 0, 0, 3\\n0, 0, 0, 0, 4, 0, 0, 0, 0, 0, 0, 0, 0, 3\\n0, 0, 4, 3, 4, 4, 0, 3, 0, 0, 0, 4, 0]'),\n",
       " Text(0.14388489208633093, 0.14655172413793102, 'x[119] <= 3.169\\ngini = 0.898\\nsamples = 35\\nvalue = [3, 0, 0, 0, 0, 0, 0, 0, 0, 4, 0, 0, 0, 3\\n0, 0, 0, 0, 4, 0, 0, 0, 0, 0, 0, 0, 0, 3\\n0, 0, 0, 3, 4, 4, 0, 3, 0, 0, 0, 4, 0]'),\n",
       " Text(0.12949640287769784, 0.12931034482758622, 'x[28] <= 1.051\\ngini = 0.887\\nsamples = 31\\nvalue = [3, 0, 0, 0, 0, 0, 0, 0, 0, 4, 0, 0, 0, 3\\n0, 0, 0, 0, 4, 0, 0, 0, 0, 0, 0, 0, 0, 3\\n0, 0, 0, 3, 4, 4, 0, 3, 0, 0, 0, 0, 0]'),\n",
       " Text(0.11510791366906475, 0.11206896551724138, 'x[43] <= 0.898\\ngini = 0.872\\nsamples = 27\\nvalue = [3, 0, 0, 0, 0, 0, 0, 0, 0, 4, 0, 0, 0, 3\\n0, 0, 0, 0, 0, 0, 0, 0, 0, 0, 0, 0, 0, 3\\n0, 0, 0, 3, 4, 4, 0, 3, 0, 0, 0, 0, 0]'),\n",
       " Text(0.10071942446043165, 0.09482758620689655, 'x[30] <= 2.191\\ngini = 0.854\\nsamples = 23\\nvalue = [3, 0, 0, 0, 0, 0, 0, 0, 0, 0, 0, 0, 0, 3\\n0, 0, 0, 0, 0, 0, 0, 0, 0, 0, 0, 0, 0, 3\\n0, 0, 0, 3, 4, 4, 0, 3, 0, 0, 0, 0, 0]'),\n",
       " Text(0.08633093525179857, 0.07758620689655173, 'x[87] <= 3.263\\ngini = 0.831\\nsamples = 19\\nvalue = [3, 0, 0, 0, 0, 0, 0, 0, 0, 0, 0, 0, 0, 3\\n0, 0, 0, 0, 0, 0, 0, 0, 0, 0, 0, 0, 0, 3\\n0, 0, 0, 3, 4, 0, 0, 3, 0, 0, 0, 0, 0]'),\n",
       " Text(0.07194244604316546, 0.0603448275862069, 'x[79] <= 3.169\\ngini = 0.8\\nsamples = 15\\nvalue = [3, 0, 0, 0, 0, 0, 0, 0, 0, 0, 0, 0, 0, 3\\n0, 0, 0, 0, 0, 0, 0, 0, 0, 0, 0, 0, 0, 3\\n0, 0, 0, 3, 0, 0, 0, 3, 0, 0, 0, 0, 0]'),\n",
       " Text(0.05755395683453238, 0.04310344827586207, 'x[1] <= 0.929\\ngini = 0.75\\nsamples = 12\\nvalue = [3, 0, 0, 0, 0, 0, 0, 0, 0, 0, 0, 0, 0, 3\\n0, 0, 0, 0, 0, 0, 0, 0, 0, 0, 0, 0, 0, 3\\n0, 0, 0, 0, 0, 0, 0, 3, 0, 0, 0, 0, 0]'),\n",
       " Text(0.02877697841726619, 0.02586206896551724, 'x[34] <= 0.632\\ngini = 0.5\\nsamples = 6\\nvalue = [3, 0, 0, 0, 0, 0, 0, 0, 0, 0, 0, 0, 0, 3\\n0, 0, 0, 0, 0, 0, 0, 0, 0, 0, 0, 0, 0, 0\\n0, 0, 0, 0, 0, 0, 0, 0, 0, 0, 0, 0, 0]'),\n",
       " Text(0.014388489208633094, 0.008620689655172414, 'gini = 0.0\\nsamples = 3\\nvalue = [0, 0, 0, 0, 0, 0, 0, 0, 0, 0, 0, 0, 0, 3\\n0, 0, 0, 0, 0, 0, 0, 0, 0, 0, 0, 0, 0, 0\\n0, 0, 0, 0, 0, 0, 0, 0, 0, 0, 0, 0, 0]'),\n",
       " Text(0.04316546762589928, 0.008620689655172414, 'gini = 0.0\\nsamples = 3\\nvalue = [3, 0, 0, 0, 0, 0, 0, 0, 0, 0, 0, 0, 0, 0\\n0, 0, 0, 0, 0, 0, 0, 0, 0, 0, 0, 0, 0, 0\\n0, 0, 0, 0, 0, 0, 0, 0, 0, 0, 0, 0, 0]'),\n",
       " Text(0.08633093525179857, 0.02586206896551724, 'x[127] <= 3.169\\ngini = 0.5\\nsamples = 6\\nvalue = [0, 0, 0, 0, 0, 0, 0, 0, 0, 0, 0, 0, 0, 0\\n0, 0, 0, 0, 0, 0, 0, 0, 0, 0, 0, 0, 0, 3\\n0, 0, 0, 0, 0, 0, 0, 3, 0, 0, 0, 0, 0]'),\n",
       " Text(0.07194244604316546, 0.008620689655172414, 'gini = 0.0\\nsamples = 3\\nvalue = [0, 0, 0, 0, 0, 0, 0, 0, 0, 0, 0, 0, 0, 0\\n0, 0, 0, 0, 0, 0, 0, 0, 0, 0, 0, 0, 0, 3\\n0, 0, 0, 0, 0, 0, 0, 0, 0, 0, 0, 0, 0]'),\n",
       " Text(0.10071942446043165, 0.008620689655172414, 'gini = 0.0\\nsamples = 3\\nvalue = [0, 0, 0, 0, 0, 0, 0, 0, 0, 0, 0, 0, 0, 0\\n0, 0, 0, 0, 0, 0, 0, 0, 0, 0, 0, 0, 0, 0\\n0, 0, 0, 0, 0, 0, 0, 3, 0, 0, 0, 0, 0]'),\n",
       " Text(0.08633093525179857, 0.04310344827586207, 'gini = 0.0\\nsamples = 3\\nvalue = [0, 0, 0, 0, 0, 0, 0, 0, 0, 0, 0, 0, 0, 0\\n0, 0, 0, 0, 0, 0, 0, 0, 0, 0, 0, 0, 0, 0\\n0, 0, 0, 3, 0, 0, 0, 0, 0, 0, 0, 0, 0]'),\n",
       " Text(0.10071942446043165, 0.0603448275862069, 'gini = 0.0\\nsamples = 4\\nvalue = [0, 0, 0, 0, 0, 0, 0, 0, 0, 0, 0, 0, 0, 0\\n0, 0, 0, 0, 0, 0, 0, 0, 0, 0, 0, 0, 0, 0\\n0, 0, 0, 0, 4, 0, 0, 0, 0, 0, 0, 0, 0]'),\n",
       " Text(0.11510791366906475, 0.07758620689655173, 'gini = 0.0\\nsamples = 4\\nvalue = [0, 0, 0, 0, 0, 0, 0, 0, 0, 0, 0, 0, 0, 0\\n0, 0, 0, 0, 0, 0, 0, 0, 0, 0, 0, 0, 0, 0\\n0, 0, 0, 0, 0, 4, 0, 0, 0, 0, 0, 0, 0]'),\n",
       " Text(0.12949640287769784, 0.09482758620689655, 'gini = 0.0\\nsamples = 4\\nvalue = [0, 0, 0, 0, 0, 0, 0, 0, 0, 4, 0, 0, 0, 0\\n0, 0, 0, 0, 0, 0, 0, 0, 0, 0, 0, 0, 0, 0\\n0, 0, 0, 0, 0, 0, 0, 0, 0, 0, 0, 0, 0]'),\n",
       " Text(0.14388489208633093, 0.11206896551724138, 'gini = 0.0\\nsamples = 4\\nvalue = [0, 0, 0, 0, 0, 0, 0, 0, 0, 0, 0, 0, 0, 0\\n0, 0, 0, 0, 4, 0, 0, 0, 0, 0, 0, 0, 0, 0\\n0, 0, 0, 0, 0, 0, 0, 0, 0, 0, 0, 0, 0]'),\n",
       " Text(0.15827338129496402, 0.12931034482758622, 'gini = 0.0\\nsamples = 4\\nvalue = [0, 0, 0, 0, 0, 0, 0, 0, 0, 0, 0, 0, 0, 0\\n0, 0, 0, 0, 0, 0, 0, 0, 0, 0, 0, 0, 0, 0\\n0, 0, 0, 0, 0, 0, 0, 0, 0, 0, 0, 4, 0]'),\n",
       " Text(0.17266187050359713, 0.14655172413793102, 'gini = 0.0\\nsamples = 4\\nvalue = [0, 0, 0, 0, 0, 0, 0, 0, 0, 0, 0, 0, 0, 0\\n0, 0, 0, 0, 0, 0, 0, 0, 0, 0, 0, 0, 0, 0\\n0, 0, 4, 0, 0, 0, 0, 0, 0, 0, 0, 0, 0]'),\n",
       " Text(0.18705035971223022, 0.16379310344827586, 'gini = 0.0\\nsamples = 4\\nvalue = [0, 0, 0, 0, 0, 0, 0, 0, 0, 0, 0, 0, 0, 0\\n0, 0, 0, 0, 0, 0, 0, 0, 0, 0, 0, 0, 0, 0\\n0, 0, 0, 0, 0, 0, 0, 0, 0, 4, 0, 0, 0]'),\n",
       " Text(0.2014388489208633, 0.1810344827586207, 'gini = 0.0\\nsamples = 5\\nvalue = [0, 0, 0, 0, 0, 0, 0, 5, 0, 0, 0, 0, 0, 0\\n0, 0, 0, 0, 0, 0, 0, 0, 0, 0, 0, 0, 0, 0\\n0, 0, 0, 0, 0, 0, 0, 0, 0, 0, 0, 0, 0]'),\n",
       " Text(0.2158273381294964, 0.19827586206896552, 'gini = 0.0\\nsamples = 5\\nvalue = [0, 0, 0, 0, 0, 0, 0, 0, 0, 0, 0, 0, 0, 0\\n0, 0, 5, 0, 0, 0, 0, 0, 0, 0, 0, 0, 0, 0\\n0, 0, 0, 0, 0, 0, 0, 0, 0, 0, 0, 0, 0]'),\n",
       " Text(0.2302158273381295, 0.21551724137931033, 'gini = 0.0\\nsamples = 5\\nvalue = [0, 0, 0, 0, 0, 5, 0, 0, 0, 0, 0, 0, 0, 0\\n0, 0, 0, 0, 0, 0, 0, 0, 0, 0, 0, 0, 0, 0\\n0, 0, 0, 0, 0, 0, 0, 0, 0, 0, 0, 0, 0]'),\n",
       " Text(0.2446043165467626, 0.23275862068965517, 'gini = 0.0\\nsamples = 8\\nvalue = [0, 0, 0, 0, 0, 0, 0, 0, 0, 0, 0, 0, 0, 0\\n0, 0, 0, 8, 0, 0, 0, 0, 0, 0, 0, 0, 0, 0\\n0, 0, 0, 0, 0, 0, 0, 0, 0, 0, 0, 0, 0]'),\n",
       " Text(0.2589928057553957, 0.25, 'gini = 0.0\\nsamples = 8\\nvalue = [0, 0, 8, 0, 0, 0, 0, 0, 0, 0, 0, 0, 0, 0\\n0, 0, 0, 0, 0, 0, 0, 0, 0, 0, 0, 0, 0, 0\\n0, 0, 0, 0, 0, 0, 0, 0, 0, 0, 0, 0, 0]'),\n",
       " Text(0.2733812949640288, 0.2672413793103448, 'gini = 0.0\\nsamples = 8\\nvalue = [0, 0, 0, 0, 0, 0, 0, 0, 0, 0, 0, 0, 0, 0\\n0, 8, 0, 0, 0, 0, 0, 0, 0, 0, 0, 0, 0, 0\\n0, 0, 0, 0, 0, 0, 0, 0, 0, 0, 0, 0, 0]'),\n",
       " Text(0.31654676258992803, 0.28448275862068967, 'x[7] <= 2.191\\ngini = 0.444\\nsamples = 15\\nvalue = [0, 0, 0, 0, 0, 0, 0, 0, 0, 0, 0, 0, 0, 0\\n10, 0, 0, 0, 0, 0, 0, 0, 0, 0, 0, 0, 0, 0\\n0, 0, 0, 0, 0, 0, 0, 0, 0, 0, 5, 0, 0]'),\n",
       " Text(0.302158273381295, 0.2672413793103448, 'gini = 0.0\\nsamples = 5\\nvalue = [0, 0, 0, 0, 0, 0, 0, 0, 0, 0, 0, 0, 0, 0\\n0, 0, 0, 0, 0, 0, 0, 0, 0, 0, 0, 0, 0, 0\\n0, 0, 0, 0, 0, 0, 0, 0, 0, 0, 5, 0, 0]'),\n",
       " Text(0.33093525179856115, 0.2672413793103448, 'gini = 0.0\\nsamples = 10\\nvalue = [0, 0, 0, 0, 0, 0, 0, 0, 0, 0, 0, 0, 0, 0\\n10, 0, 0, 0, 0, 0, 0, 0, 0, 0, 0, 0, 0, 0\\n0, 0, 0, 0, 0, 0, 0, 0, 0, 0, 0, 0, 0]'),\n",
       " Text(0.31654676258992803, 0.3017241379310345, 'gini = 0.0\\nsamples = 9\\nvalue = [0, 9, 0, 0, 0, 0, 0, 0, 0, 0, 0, 0, 0, 0\\n0, 0, 0, 0, 0, 0, 0, 0, 0, 0, 0, 0, 0, 0\\n0, 0, 0, 0, 0, 0, 0, 0, 0, 0, 0, 0, 0]'),\n",
       " Text(0.33093525179856115, 0.31896551724137934, 'gini = 0.0\\nsamples = 9\\nvalue = [0, 0, 0, 0, 9, 0, 0, 0, 0, 0, 0, 0, 0, 0\\n0, 0, 0, 0, 0, 0, 0, 0, 0, 0, 0, 0, 0, 0\\n0, 0, 0, 0, 0, 0, 0, 0, 0, 0, 0, 0, 0]'),\n",
       " Text(0.38848920863309355, 0.33620689655172414, 'x[14] <= 0.22\\ngini = 0.24\\nsamples = 106\\nvalue = [0, 0, 0, 2, 0, 0, 0, 0, 0, 92, 0, 0, 0, 0\\n0, 0, 0, 0, 0, 0, 6, 6, 0, 0, 0, 0, 0, 0\\n0, 0, 0, 0, 0, 0, 0, 0, 0, 0, 0, 0, 0]'),\n",
       " Text(0.3597122302158273, 0.31896551724137934, 'x[115] <= 3.169\\ngini = 0.042\\nsamples = 94\\nvalue = [0, 0, 0, 2, 0, 0, 0, 0, 0, 92, 0, 0, 0, 0\\n0, 0, 0, 0, 0, 0, 0, 0, 0, 0, 0, 0, 0, 0\\n0, 0, 0, 0, 0, 0, 0, 0, 0, 0, 0, 0, 0]'),\n",
       " Text(0.34532374100719426, 0.3017241379310345, 'gini = 0.0\\nsamples = 92\\nvalue = [0, 0, 0, 0, 0, 0, 0, 0, 0, 92, 0, 0, 0, 0\\n0, 0, 0, 0, 0, 0, 0, 0, 0, 0, 0, 0, 0, 0\\n0, 0, 0, 0, 0, 0, 0, 0, 0, 0, 0, 0, 0]'),\n",
       " Text(0.37410071942446044, 0.3017241379310345, 'gini = 0.0\\nsamples = 2\\nvalue = [0, 0, 0, 2, 0, 0, 0, 0, 0, 0, 0, 0, 0, 0\\n0, 0, 0, 0, 0, 0, 0, 0, 0, 0, 0, 0, 0, 0\\n0, 0, 0, 0, 0, 0, 0, 0, 0, 0, 0, 0, 0]'),\n",
       " Text(0.4172661870503597, 0.31896551724137934, 'x[6] <= 1.043\\ngini = 0.5\\nsamples = 12\\nvalue = [0, 0, 0, 0, 0, 0, 0, 0, 0, 0, 0, 0, 0, 0\\n0, 0, 0, 0, 0, 0, 6, 6, 0, 0, 0, 0, 0, 0\\n0, 0, 0, 0, 0, 0, 0, 0, 0, 0, 0, 0, 0]'),\n",
       " Text(0.4028776978417266, 0.3017241379310345, 'gini = 0.0\\nsamples = 6\\nvalue = [0, 0, 0, 0, 0, 0, 0, 0, 0, 0, 0, 0, 0, 0\\n0, 0, 0, 0, 0, 0, 6, 0, 0, 0, 0, 0, 0, 0\\n0, 0, 0, 0, 0, 0, 0, 0, 0, 0, 0, 0, 0]'),\n",
       " Text(0.4316546762589928, 0.3017241379310345, 'gini = 0.0\\nsamples = 6\\nvalue = [0, 0, 0, 0, 0, 0, 0, 0, 0, 0, 0, 0, 0, 0\\n0, 0, 0, 0, 0, 0, 0, 6, 0, 0, 0, 0, 0, 0\\n0, 0, 0, 0, 0, 0, 0, 0, 0, 0, 0, 0, 0]'),\n",
       " Text(0.381294964028777, 0.35344827586206895, 'gini = 0.0\\nsamples = 86\\nvalue = [0, 0, 0, 0, 0, 0, 0, 0, 0, 0, 0, 0, 0, 0\\n86, 0, 0, 0, 0, 0, 0, 0, 0, 0, 0, 0, 0, 0\\n0, 0, 0, 0, 0, 0, 0, 0, 0, 0, 0, 0, 0]'),\n",
       " Text(0.4244604316546763, 0.3706896551724138, 'x[27] <= 1.417\\ngini = 0.1\\nsamples = 95\\nvalue = [0, 0, 0, 0, 0, 0, 5, 0, 0, 0, 0, 0, 0, 0\\n0, 0, 0, 0, 0, 0, 90, 0, 0, 0, 0, 0, 0, 0\\n0, 0, 0, 0, 0, 0, 0, 0, 0, 0, 0, 0, 0]'),\n",
       " Text(0.41007194244604317, 0.35344827586206895, 'gini = 0.0\\nsamples = 90\\nvalue = [0, 0, 0, 0, 0, 0, 0, 0, 0, 0, 0, 0, 0, 0\\n0, 0, 0, 0, 0, 0, 90, 0, 0, 0, 0, 0, 0, 0\\n0, 0, 0, 0, 0, 0, 0, 0, 0, 0, 0, 0, 0]'),\n",
       " Text(0.43884892086330934, 0.35344827586206895, 'gini = 0.0\\nsamples = 5\\nvalue = [0, 0, 0, 0, 0, 0, 5, 0, 0, 0, 0, 0, 0, 0\\n0, 0, 0, 0, 0, 0, 0, 0, 0, 0, 0, 0, 0, 0\\n0, 0, 0, 0, 0, 0, 0, 0, 0, 0, 0, 0, 0]'),\n",
       " Text(0.4244604316546763, 0.3879310344827586, 'gini = 0.0\\nsamples = 87\\nvalue = [0, 87, 0, 0, 0, 0, 0, 0, 0, 0, 0, 0, 0, 0\\n0, 0, 0, 0, 0, 0, 0, 0, 0, 0, 0, 0, 0, 0\\n0, 0, 0, 0, 0, 0, 0, 0, 0, 0, 0, 0, 0]'),\n",
       " Text(0.43884892086330934, 0.4051724137931034, 'gini = 0.0\\nsamples = 87\\nvalue = [0, 0, 0, 0, 87, 0, 0, 0, 0, 0, 0, 0, 0, 0\\n0, 0, 0, 0, 0, 0, 0, 0, 0, 0, 0, 0, 0, 0\\n0, 0, 0, 0, 0, 0, 0, 0, 0, 0, 0, 0, 0]'),\n",
       " Text(0.48201438848920863, 0.4224137931034483, 'x[25] <= 0.499\\ngini = 0.081\\nsamples = 94\\nvalue = [0, 0, 0, 0, 0, 0, 0, 0, 0, 0, 0, 0, 0, 0\\n0, 0, 0, 0, 0, 0, 0, 90, 0, 0, 0, 0, 0, 0\\n4, 0, 0, 0, 0, 0, 0, 0, 0, 0, 0, 0, 0]'),\n",
       " Text(0.4676258992805755, 0.4051724137931034, 'gini = 0.0\\nsamples = 90\\nvalue = [0, 0, 0, 0, 0, 0, 0, 0, 0, 0, 0, 0, 0, 0\\n0, 0, 0, 0, 0, 0, 0, 90, 0, 0, 0, 0, 0, 0\\n0, 0, 0, 0, 0, 0, 0, 0, 0, 0, 0, 0, 0]'),\n",
       " Text(0.49640287769784175, 0.4051724137931034, 'gini = 0.0\\nsamples = 4\\nvalue = [0, 0, 0, 0, 0, 0, 0, 0, 0, 0, 0, 0, 0, 0\\n0, 0, 0, 0, 0, 0, 0, 0, 0, 0, 0, 0, 0, 0\\n4, 0, 0, 0, 0, 0, 0, 0, 0, 0, 0, 0, 0]'),\n",
       " Text(0.48201438848920863, 0.4396551724137931, 'gini = 0.0\\nsamples = 88\\nvalue = [0, 0, 88, 0, 0, 0, 0, 0, 0, 0, 0, 0, 0, 0\\n0, 0, 0, 0, 0, 0, 0, 0, 0, 0, 0, 0, 0, 0\\n0, 0, 0, 0, 0, 0, 0, 0, 0, 0, 0, 0, 0]'),\n",
       " Text(0.49640287769784175, 0.45689655172413796, 'gini = 0.0\\nsamples = 88\\nvalue = [0, 0, 0, 0, 0, 0, 0, 0, 0, 0, 0, 0, 0, 0\\n0, 88, 0, 0, 0, 0, 0, 0, 0, 0, 0, 0, 0, 0\\n0, 0, 0, 0, 0, 0, 0, 0, 0, 0, 0, 0, 0]'),\n",
       " Text(0.5107913669064749, 0.47413793103448276, 'gini = 0.0\\nsamples = 88\\nvalue = [0, 0, 0, 0, 0, 0, 0, 0, 0, 0, 0, 0, 0, 0\\n0, 0, 0, 88, 0, 0, 0, 0, 0, 0, 0, 0, 0, 0\\n0, 0, 0, 0, 0, 0, 0, 0, 0, 0, 0, 0, 0]'),\n",
       " Text(0.5251798561151079, 0.49137931034482757, 'gini = 0.0\\nsamples = 91\\nvalue = [0, 0, 0, 0, 0, 0, 0, 91, 0, 0, 0, 0, 0, 0\\n0, 0, 0, 0, 0, 0, 0, 0, 0, 0, 0, 0, 0, 0\\n0, 0, 0, 0, 0, 0, 0, 0, 0, 0, 0, 0, 0]'),\n",
       " Text(0.5683453237410072, 0.5086206896551724, 'x[7] <= 2.191\\ngini = 0.53\\nsamples = 189\\nvalue = [0, 0, 0, 0, 0, 0, 0, 0, 0, 0, 0, 0, 0, 0\\n0, 0, 91, 0, 92, 0, 0, 0, 0, 6, 0, 0, 0, 0\\n0, 0, 0, 0, 0, 0, 0, 0, 0, 0, 0, 0, 0]'),\n",
       " Text(0.5539568345323741, 0.49137931034482757, 'x[85] <= 1.693\\ngini = 0.196\\nsamples = 103\\nvalue = [0, 0, 0, 0, 0, 0, 0, 0, 0, 0, 0, 0, 0, 0\\n0, 0, 5, 0, 92, 0, 0, 0, 0, 6, 0, 0, 0, 0\\n0, 0, 0, 0, 0, 0, 0, 0, 0, 0, 0, 0, 0]'),\n",
       " Text(0.539568345323741, 0.47413793103448276, 'x[9] <= 3.263\\ngini = 0.098\\nsamples = 97\\nvalue = [0, 0, 0, 0, 0, 0, 0, 0, 0, 0, 0, 0, 0, 0\\n0, 0, 5, 0, 92, 0, 0, 0, 0, 0, 0, 0, 0, 0\\n0, 0, 0, 0, 0, 0, 0, 0, 0, 0, 0, 0, 0]'),\n",
       " Text(0.5251798561151079, 0.45689655172413796, 'gini = 0.0\\nsamples = 92\\nvalue = [0, 0, 0, 0, 0, 0, 0, 0, 0, 0, 0, 0, 0, 0\\n0, 0, 0, 0, 92, 0, 0, 0, 0, 0, 0, 0, 0, 0\\n0, 0, 0, 0, 0, 0, 0, 0, 0, 0, 0, 0, 0]'),\n",
       " Text(0.5539568345323741, 0.45689655172413796, 'gini = 0.0\\nsamples = 5\\nvalue = [0, 0, 0, 0, 0, 0, 0, 0, 0, 0, 0, 0, 0, 0\\n0, 0, 5, 0, 0, 0, 0, 0, 0, 0, 0, 0, 0, 0\\n0, 0, 0, 0, 0, 0, 0, 0, 0, 0, 0, 0, 0]'),\n",
       " Text(0.5683453237410072, 0.47413793103448276, 'gini = 0.0\\nsamples = 6\\nvalue = [0, 0, 0, 0, 0, 0, 0, 0, 0, 0, 0, 0, 0, 0\\n0, 0, 0, 0, 0, 0, 0, 0, 0, 6, 0, 0, 0, 0\\n0, 0, 0, 0, 0, 0, 0, 0, 0, 0, 0, 0, 0]'),\n",
       " Text(0.5827338129496403, 0.49137931034482757, 'gini = 0.0\\nsamples = 86\\nvalue = [0, 0, 0, 0, 0, 0, 0, 0, 0, 0, 0, 0, 0, 0\\n0, 0, 86, 0, 0, 0, 0, 0, 0, 0, 0, 0, 0, 0\\n0, 0, 0, 0, 0, 0, 0, 0, 0, 0, 0, 0, 0]'),\n",
       " Text(0.5683453237410072, 0.5258620689655172, 'gini = 0.0\\nsamples = 90\\nvalue = [0, 0, 0, 0, 0, 0, 0, 0, 0, 0, 0, 0, 0, 0\\n0, 0, 0, 0, 0, 0, 0, 0, 0, 90, 0, 0, 0, 0\\n0, 0, 0, 0, 0, 0, 0, 0, 0, 0, 0, 0, 0]'),\n",
       " Text(0.5827338129496403, 0.5431034482758621, 'gini = 0.0\\nsamples = 91\\nvalue = [0, 0, 0, 0, 0, 0, 0, 0, 0, 0, 0, 0, 0, 0\\n0, 0, 0, 0, 0, 0, 0, 0, 0, 0, 0, 0, 0, 0\\n0, 0, 0, 0, 0, 0, 0, 0, 0, 0, 91, 0, 0]'),\n",
       " Text(0.5971223021582733, 0.5603448275862069, 'gini = 0.0\\nsamples = 91\\nvalue = [0, 0, 0, 0, 0, 0, 91, 0, 0, 0, 0, 0, 0, 0\\n0, 0, 0, 0, 0, 0, 0, 0, 0, 0, 0, 0, 0, 0\\n0, 0, 0, 0, 0, 0, 0, 0, 0, 0, 0, 0, 0]'),\n",
       " Text(0.6115107913669064, 0.5775862068965517, 'gini = 0.0\\nsamples = 91\\nvalue = [0, 0, 0, 0, 0, 91, 0, 0, 0, 0, 0, 0, 0, 0\\n0, 0, 0, 0, 0, 0, 0, 0, 0, 0, 0, 0, 0, 0\\n0, 0, 0, 0, 0, 0, 0, 0, 0, 0, 0, 0, 0]'),\n",
       " Text(0.6258992805755396, 0.5948275862068966, 'gini = 0.0\\nsamples = 92\\nvalue = [0, 0, 0, 0, 0, 0, 0, 0, 0, 0, 0, 0, 0, 0\\n0, 0, 0, 0, 0, 0, 0, 0, 0, 0, 0, 0, 0, 0\\n92, 0, 0, 0, 0, 0, 0, 0, 0, 0, 0, 0, 0]'),\n",
       " Text(0.6402877697841727, 0.6120689655172413, 'gini = 0.0\\nsamples = 92\\nvalue = [0, 0, 0, 0, 0, 0, 0, 0, 0, 0, 0, 0, 0, 0\\n0, 0, 0, 0, 0, 0, 0, 0, 0, 0, 0, 0, 0, 0\\n0, 0, 0, 0, 0, 92, 0, 0, 0, 0, 0, 0, 0]'),\n",
       " Text(0.6546762589928058, 0.6293103448275862, 'gini = 0.0\\nsamples = 92\\nvalue = [0, 0, 0, 0, 0, 0, 0, 0, 0, 0, 0, 0, 0, 0\\n0, 0, 0, 0, 0, 0, 0, 0, 0, 0, 0, 0, 0, 0\\n0, 0, 0, 0, 92, 0, 0, 0, 0, 0, 0, 0, 0]'),\n",
       " Text(0.6690647482014388, 0.646551724137931, 'gini = 0.0\\nsamples = 92\\nvalue = [0, 0, 0, 0, 0, 0, 0, 0, 0, 0, 0, 0, 0, 0\\n0, 0, 0, 0, 0, 0, 0, 0, 0, 0, 0, 0, 0, 0\\n0, 0, 0, 0, 0, 0, 0, 0, 0, 92, 0, 0, 0]'),\n",
       " Text(0.6834532374100719, 0.6637931034482759, 'gini = 0.0\\nsamples = 92\\nvalue = [0, 0, 0, 0, 0, 0, 0, 0, 0, 0, 0, 0, 0, 0\\n0, 0, 0, 0, 0, 0, 0, 0, 0, 0, 0, 0, 0, 0\\n0, 0, 92, 0, 0, 0, 0, 0, 0, 0, 0, 0, 0]'),\n",
       " Text(0.697841726618705, 0.6810344827586207, 'gini = 0.0\\nsamples = 92\\nvalue = [0, 0, 0, 0, 0, 0, 0, 0, 0, 0, 0, 0, 0, 0\\n0, 0, 0, 0, 0, 0, 0, 0, 0, 0, 0, 0, 0, 0\\n0, 0, 0, 0, 0, 0, 0, 0, 0, 0, 0, 92, 0]'),\n",
       " Text(0.7122302158273381, 0.6982758620689655, 'gini = 0.0\\nsamples = 93\\nvalue = [0, 0, 0, 0, 0, 0, 0, 0, 0, 0, 0, 0, 0, 93\\n0, 0, 0, 0, 0, 0, 0, 0, 0, 0, 0, 0, 0, 0\\n0, 0, 0, 0, 0, 0, 0, 0, 0, 0, 0, 0, 0]'),\n",
       " Text(0.7266187050359713, 0.7155172413793104, 'gini = 0.0\\nsamples = 93\\nvalue = [0, 0, 0, 0, 0, 0, 0, 0, 0, 0, 0, 0, 0, 0\\n0, 0, 0, 0, 0, 0, 0, 0, 0, 0, 0, 0, 0, 93\\n0, 0, 0, 0, 0, 0, 0, 0, 0, 0, 0, 0, 0]'),\n",
       " Text(0.7410071942446043, 0.7327586206896551, 'gini = 0.0\\nsamples = 93\\nvalue = [0, 0, 0, 0, 0, 0, 0, 0, 0, 0, 0, 0, 0, 0\\n0, 0, 0, 0, 0, 0, 0, 0, 0, 0, 0, 0, 0, 0\\n0, 0, 0, 0, 0, 0, 0, 93, 0, 0, 0, 0, 0]'),\n",
       " Text(0.7553956834532374, 0.75, 'gini = 0.0\\nsamples = 93\\nvalue = [93, 0, 0, 0, 0, 0, 0, 0, 0, 0, 0, 0, 0, 0\\n0, 0, 0, 0, 0, 0, 0, 0, 0, 0, 0, 0, 0, 0\\n0, 0, 0, 0, 0, 0, 0, 0, 0, 0, 0, 0, 0]'),\n",
       " Text(0.7697841726618705, 0.7672413793103449, 'gini = 0.0\\nsamples = 93\\nvalue = [0, 0, 0, 0, 0, 0, 0, 0, 0, 0, 0, 0, 0, 0\\n0, 0, 0, 0, 0, 0, 0, 0, 0, 0, 0, 0, 0, 0\\n0, 0, 0, 93, 0, 0, 0, 0, 0, 0, 0, 0, 0]'),\n",
       " Text(0.7841726618705036, 0.7844827586206896, 'gini = 0.0\\nsamples = 94\\nvalue = [0, 0, 0, 94, 0, 0, 0, 0, 0, 0, 0, 0, 0, 0\\n0, 0, 0, 0, 0, 0, 0, 0, 0, 0, 0, 0, 0, 0\\n0, 0, 0, 0, 0, 0, 0, 0, 0, 0, 0, 0, 0]'),\n",
       " Text(0.7985611510791367, 0.8017241379310345, 'gini = 0.0\\nsamples = 96\\nvalue = [0, 0, 0, 0, 0, 0, 0, 0, 0, 0, 0, 0, 0, 0\\n0, 0, 0, 0, 0, 0, 0, 0, 0, 0, 0, 0, 0, 0\\n0, 0, 0, 0, 0, 0, 0, 0, 96, 0, 0, 0, 0]'),\n",
       " Text(0.841726618705036, 0.8189655172413793, 'x[41] <= 1.656\\ngini = 0.5\\nsamples = 192\\nvalue = [0, 0, 0, 0, 0, 0, 0, 0, 0, 0, 0, 0, 0, 0\\n0, 0, 0, 0, 0, 0, 0, 0, 0, 0, 0, 0, 0, 0\\n0, 96, 0, 0, 0, 0, 0, 0, 0, 0, 0, 0, 96]'),\n",
       " Text(0.8273381294964028, 0.8017241379310345, 'gini = 0.0\\nsamples = 96\\nvalue = [0, 0, 0, 0, 0, 0, 0, 0, 0, 0, 0, 0, 0, 0\\n0, 0, 0, 0, 0, 0, 0, 0, 0, 0, 0, 0, 0, 0\\n0, 96, 0, 0, 0, 0, 0, 0, 0, 0, 0, 0, 0]'),\n",
       " Text(0.8561151079136691, 0.8017241379310345, 'gini = 0.0\\nsamples = 96\\nvalue = [0, 0, 0, 0, 0, 0, 0, 0, 0, 0, 0, 0, 0, 0\\n0, 0, 0, 0, 0, 0, 0, 0, 0, 0, 0, 0, 0, 0\\n0, 0, 0, 0, 0, 0, 0, 0, 0, 0, 0, 0, 96]'),\n",
       " Text(0.841726618705036, 0.8362068965517241, 'gini = 0.0\\nsamples = 96\\nvalue = [0, 0, 0, 0, 0, 0, 0, 0, 96, 0, 0, 0, 0, 0\\n0, 0, 0, 0, 0, 0, 0, 0, 0, 0, 0, 0, 0, 0\\n0, 0, 0, 0, 0, 0, 0, 0, 0, 0, 0, 0, 0]'),\n",
       " Text(0.8561151079136691, 0.853448275862069, 'gini = 0.0\\nsamples = 96\\nvalue = [0, 0, 0, 0, 0, 0, 0, 0, 0, 0, 0, 96, 0, 0\\n0, 0, 0, 0, 0, 0, 0, 0, 0, 0, 0, 0, 0, 0\\n0, 0, 0, 0, 0, 0, 0, 0, 0, 0, 0, 0, 0]'),\n",
       " Text(0.8705035971223022, 0.8706896551724138, 'gini = 0.0\\nsamples = 96\\nvalue = [0, 0, 0, 0, 0, 0, 0, 0, 0, 0, 0, 0, 96, 0\\n0, 0, 0, 0, 0, 0, 0, 0, 0, 0, 0, 0, 0, 0\\n0, 0, 0, 0, 0, 0, 0, 0, 0, 0, 0, 0, 0]'),\n",
       " Text(0.8848920863309353, 0.8879310344827587, 'gini = 0.0\\nsamples = 96\\nvalue = [0, 0, 0, 0, 0, 0, 0, 0, 0, 0, 0, 0, 0, 0\\n0, 0, 0, 0, 0, 0, 0, 0, 0, 0, 0, 96, 0, 0\\n0, 0, 0, 0, 0, 0, 0, 0, 0, 0, 0, 0, 0]'),\n",
       " Text(0.8992805755395683, 0.9051724137931034, 'gini = 0.0\\nsamples = 96\\nvalue = [0, 0, 0, 0, 0, 0, 0, 0, 0, 0, 0, 0, 0, 0\\n0, 0, 0, 0, 0, 96, 0, 0, 0, 0, 0, 0, 0, 0\\n0, 0, 0, 0, 0, 0, 0, 0, 0, 0, 0, 0, 0]'),\n",
       " Text(0.9136690647482014, 0.9224137931034483, 'gini = 0.0\\nsamples = 96\\nvalue = [0, 0, 0, 0, 0, 0, 0, 0, 0, 0, 0, 0, 0, 0\\n0, 0, 0, 0, 0, 0, 0, 0, 0, 0, 0, 0, 0, 0\\n0, 0, 0, 0, 0, 0, 96, 0, 0, 0, 0, 0, 0]'),\n",
       " Text(0.9280575539568345, 0.9396551724137931, 'gini = 0.0\\nsamples = 96\\nvalue = [0, 0, 0, 0, 0, 0, 0, 0, 0, 0, 0, 0, 0, 0\\n0, 0, 0, 0, 0, 0, 0, 0, 96, 0, 0, 0, 0, 0\\n0, 0, 0, 0, 0, 0, 0, 0, 0, 0, 0, 0, 0]'),\n",
       " Text(0.9712230215827338, 0.9568965517241379, 'x[72] <= 3.083\\ngini = 0.5\\nsamples = 192\\nvalue = [0, 0, 0, 0, 0, 0, 0, 0, 0, 0, 0, 0, 0, 0\\n0, 0, 0, 0, 0, 0, 0, 0, 0, 0, 96, 0, 96, 0\\n0, 0, 0, 0, 0, 0, 0, 0, 0, 0, 0, 0, 0]'),\n",
       " Text(0.9568345323741008, 0.9396551724137931, 'gini = 0.0\\nsamples = 96\\nvalue = [0, 0, 0, 0, 0, 0, 0, 0, 0, 0, 0, 0, 0, 0\\n0, 0, 0, 0, 0, 0, 0, 0, 0, 0, 96, 0, 0, 0\\n0, 0, 0, 0, 0, 0, 0, 0, 0, 0, 0, 0, 0]'),\n",
       " Text(0.9856115107913669, 0.9396551724137931, 'gini = 0.0\\nsamples = 96\\nvalue = [0, 0, 0, 0, 0, 0, 0, 0, 0, 0, 0, 0, 0, 0\\n0, 0, 0, 0, 0, 0, 0, 0, 0, 0, 0, 0, 96, 0\\n0, 0, 0, 0, 0, 0, 0, 0, 0, 0, 0, 0, 0]'),\n",
       " Text(0.9712230215827338, 0.9741379310344828, 'gini = 0.0\\nsamples = 96\\nvalue = [0, 0, 0, 0, 0, 0, 0, 0, 0, 0, 96, 0, 0, 0\\n0, 0, 0, 0, 0, 0, 0, 0, 0, 0, 0, 0, 0, 0\\n0, 0, 0, 0, 0, 0, 0, 0, 0, 0, 0, 0, 0]')]"
      ]
     },
     "execution_count": 52,
     "metadata": {},
     "output_type": "execute_result"
    },
    {
     "data": {
      "image/png": "[encoded data removed]",
      "text/plain": [
       "<Figure size 640x480 with 1 Axes>"
      ]
     },
     "metadata": {},
     "output_type": "display_data"
    }
   ],
   "source": [
    "tree.plot_tree(dec_tree)"
   ]
  },
  {
   "cell_type": "code",
   "execution_count": 53,
   "id": "6e32f958",
   "metadata": {},
   "outputs": [],
   "source": [
    "import pickle\n",
    "pickle.dump(dec_tree, open(\"impilo_ml_model.sav\", \"wb\"))"
   ]
  },
  {
   "cell_type": "code",
   "execution_count": null,
   "id": "59afea31",
   "metadata": {},
   "outputs": [],
   "source": []
  }
 ],
 "metadata": {
  "kernelspec": {
   "display_name": "Python 3 (ipykernel)",
   "language": "python",
   "name": "python3"
  },
  "language_info": {
   "codemirror_mode": {
    "name": "ipython",
    "version": 3
   },
   "file_extension": ".py",
   "mimetype": "text/x-python",
   "name": "python",
   "nbconvert_exporter": "python",
   "pygments_lexer": "ipython3",
   "version": "3.11.2"
  }
 },
 "nbformat": 4,
 "nbformat_minor": 5
}
