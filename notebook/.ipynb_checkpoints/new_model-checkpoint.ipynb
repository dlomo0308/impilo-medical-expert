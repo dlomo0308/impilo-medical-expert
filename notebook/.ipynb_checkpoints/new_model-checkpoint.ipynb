{
 "cells": [
  {
   "cell_type": "markdown",
   "id": "8b1403b2",
   "metadata": {},
   "source": [
    "IMPORTING LIBRARIES"
   ]
  },
  {
   "cell_type": "code",
   "execution_count": 4,
   "id": "3f9f3789",
   "metadata": {},
   "outputs": [],
   "source": [
    "import numpy as np\n",
    "import pandas as pd\n",
    "from sklearn.preprocessing import StandardScaler\n",
    "from sklearn.model_selection import train_test_split\n",
    "from sklearn import svm\n",
    "from sklearn.metrics import accuracy_score\n",
    "from sklearn.linear_model import LogisticRegression"
   ]
  },
  {
   "cell_type": "code",
   "execution_count": 30,
   "id": "69e1beca",
   "metadata": {},
   "outputs": [],
   "source": [
    "#LOAD DATA\n",
    "data=pd.read_csv('Data/impilo_data.csv')"
   ]
  },
  {
   "cell_type": "code",
   "execution_count": 31,
   "id": "3c9bb23c",
   "metadata": {},
   "outputs": [
    {
     "data": {
      "text/plain": [
       "(2420, 133)"
      ]
     },
     "execution_count": 31,
     "metadata": {},
     "output_type": "execute_result"
    }
   ],
   "source": [
    "data.shape"
   ]
  },
  {
   "cell_type": "code",
   "execution_count": 32,
   "id": "0c0f4358",
   "metadata": {},
   "outputs": [],
   "source": [
    "x = data.drop('diseases', axis=1)\n",
    "y = data['diseases']"
   ]
  },
  {
   "cell_type": "markdown",
   "id": "590aa321",
   "metadata": {},
   "source": [
    "IMPORTING THE FEATURE SELECTION LIBRARY"
   ]
  },
  {
   "cell_type": "code",
   "execution_count": 33,
   "id": "c291db67",
   "metadata": {},
   "outputs": [],
   "source": [
    "from sklearn.feature_selection import SelectKBest, chi2"
   ]
  },
  {
   "cell_type": "code",
   "execution_count": 34,
   "id": "24e44e64",
   "metadata": {},
   "outputs": [],
   "source": [
    "x_train, x_val, y_train, y_val = train_test_split(x, y, test_size=0.2, random_state=42)"
   ]
  },
  {
   "cell_type": "code",
   "execution_count": 39,
   "id": "f3eb4625",
   "metadata": {},
   "outputs": [],
   "source": [
    "# Feature selection using chi-squared test\n",
    "selector = SelectKBest(chi2, k=100) # Select top k features"
   ]
  },
  {
   "cell_type": "code",
   "execution_count": 40,
   "id": "faed3c04",
   "metadata": {},
   "outputs": [],
   "source": [
    "x_train_selected = selector.fit_transform(x_train, y_train)\n",
    "x_val_selected = selector.transform(x_val)"
   ]
  },
  {
   "cell_type": "code",
   "execution_count": 41,
   "id": "5fa0950c",
   "metadata": {},
   "outputs": [],
   "source": [
    "# Train a logistic regression model on the selected features\n",
    "lr = LogisticRegression()\n",
    "lr.fit(x_train_selected, y_train)\n",
    "accuracy = lr.score(x_val_selected, y_val) # Evaluate the model on the validation set"
   ]
  },
  {
   "cell_type": "code",
   "execution_count": 42,
   "id": "b77e16f1",
   "metadata": {},
   "outputs": [
    {
     "name": "stdout",
     "output_type": "stream",
     "text": [
      "0.9070247933884298\n"
     ]
    }
   ],
   "source": [
    "print(accuracy)"
   ]
  },
  {
   "cell_type": "code",
   "execution_count": 44,
   "id": "dc6f0b4c",
   "metadata": {},
   "outputs": [],
   "source": [
    "scaler = StandardScaler()"
   ]
  },
  {
   "cell_type": "code",
   "execution_count": null,
   "id": "d2bf66d9",
   "metadata": {},
   "outputs": [],
   "source": []
  },
  {
   "cell_type": "code",
   "execution_count": 43,
   "id": "6bcfb6cc",
   "metadata": {
    "scrolled": true
   },
   "outputs": [
    {
     "ename": "NameError",
     "evalue": "name 'scaler' is not defined",
     "output_type": "error",
     "traceback": [
      "\u001b[1;31m---------------------------------------------------------------------------\u001b[0m",
      "\u001b[1;31mNameError\u001b[0m                                 Traceback (most recent call last)",
      "Cell \u001b[1;32mIn[43], line 10\u001b[0m\n\u001b[0;32m      7\u001b[0m input_data_reshaped \u001b[38;5;241m=\u001b[39m input_data_as_array\u001b[38;5;241m.\u001b[39mreshape(\u001b[38;5;241m1\u001b[39m, \u001b[38;5;241m-\u001b[39m\u001b[38;5;241m1\u001b[39m)\n\u001b[0;32m      9\u001b[0m \u001b[38;5;66;03m#standardizing the input data\u001b[39;00m\n\u001b[1;32m---> 10\u001b[0m std_data \u001b[38;5;241m=\u001b[39m \u001b[43mscaler\u001b[49m\u001b[38;5;241m.\u001b[39mtransform(input_data_reshaped)\n\u001b[0;32m     11\u001b[0m \u001b[38;5;66;03m#print(std_data)\u001b[39;00m\n\u001b[0;32m     13\u001b[0m prediction \u001b[38;5;241m=\u001b[39m lr\u001b[38;5;241m.\u001b[39mpredict(std_data)\n",
      "\u001b[1;31mNameError\u001b[0m: name 'scaler' is not defined"
     ]
    }
   ],
   "source": [
    "input_data =(0,0,0,0,0,0,0,0,0,0,0,1,0,0,0,0,0,0,0,0,0,0,0,0,0,0,0,0,0,0,0,1,0,0,0,0,0,0,0,0,0,0,0,0,0,0,0,0,0,0,0,0,0,0,0,0,0,0,0,0,0,0,0,0,0,0,0,0,0,0,0,0,0,0,0,0,0,0,0,0,0,0,0,0,0,0,0,1,0,0,0,0,0,0,0,0,0,0,1,0,0,0,0,0,0,0,0,0,0,0,0,0,0,0,0,0,0,0,0,0,0,0,0,0,0,0,0,0,0,0,0,0)\n",
    "\n",
    "#changing the input_data to numpy array\n",
    "input_data_as_array = np.asarray(input_data)\n",
    "\n",
    "#reshape the array as we are predicting for one instance\n",
    "input_data_reshaped = input_data_as_array.reshape(1, -1)\n",
    "\n",
    "#standardizing the input data\n",
    "std_data = scaler.transform(input_data_reshaped)\n",
    "#print(std_data)\n",
    "\n",
    "prediction = lr.predict(std_data)\n",
    "print(prediction)"
   ]
  },
  {
   "cell_type": "code",
   "execution_count": null,
   "id": "9ad4b2a2",
   "metadata": {},
   "outputs": [],
   "source": []
  }
 ],
 "metadata": {
  "kernelspec": {
   "display_name": "Python 3 (ipykernel)",
   "language": "python",
   "name": "python3"
  },
  "language_info": {
   "codemirror_mode": {
    "name": "ipython",
    "version": 3
   },
   "file_extension": ".py",
   "mimetype": "text/x-python",
   "name": "python",
   "nbconvert_exporter": "python",
   "pygments_lexer": "ipython3",
   "version": "3.11.2"
  }
 },
 "nbformat": 4,
 "nbformat_minor": 5
}
