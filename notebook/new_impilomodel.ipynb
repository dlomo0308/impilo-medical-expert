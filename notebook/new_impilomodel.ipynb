{
 "cells": [
  {
   "cell_type": "markdown",
   "id": "deb8487f",
   "metadata": {},
   "source": [
    "# We want to first narrow down our data by:\n",
    "### finding the correlation of symptoms per disease and return atmost 5 per disease"
   ]
  },
  {
   "cell_type": "markdown",
   "id": "bdc5394c",
   "metadata": {},
   "source": [
    "IMPORT LIBRARIES"
   ]
  },
  {
   "cell_type": "code",
   "execution_count": 2,
   "id": "8a3d4c3c",
   "metadata": {},
   "outputs": [],
   "source": [
    "import pandas as pd\n",
    "import numpy as np\n"
   ]
  },
  {
   "cell_type": "markdown",
   "id": "c29600ee",
   "metadata": {},
   "source": [
    "Load data"
   ]
  },
  {
   "cell_type": "code",
   "execution_count": 3,
   "id": "9907362d",
   "metadata": {},
   "outputs": [],
   "source": [
    "# Load the dataset\n",
    "df = pd.read_csv('Data/Training.csv')"
   ]
  },
  {
   "cell_type": "code",
   "execution_count": 4,
   "id": "9944c9f6",
   "metadata": {},
   "outputs": [],
   "source": [
    "##SPLIT DATASET INTO xX and y\n",
    "X = df.drop('diseases', axis=1)\n",
    "y = pd.get_dummies(df['diseases']) #encoding the diseases"
   ]
  },
  {
   "cell_type": "code",
   "execution_count": 5,
   "id": "180d110d",
   "metadata": {},
   "outputs": [],
   "source": [
    "symptoms_by_disease = {}"
   ]
  },
  {
   "cell_type": "markdown",
   "id": "8f84b7f5",
   "metadata": {},
   "source": [
    "COMPUTE THE CORRELLATION OF SYMPTOMS AND DISEASES THEN RETURN ATMOST 5 PER DISEASE\n"
   ]
  },
  {
   "cell_type": "code",
   "execution_count": 6,
   "id": "a3a3f727",
   "metadata": {},
   "outputs": [],
   "source": [
    "for disease in y.columns:\n",
    "    # Get the rows where the disease is present\n",
    "    disease_rows = y[disease] == 1\n",
    "    \n",
    "    # Select the relevant subset of the feature matrix\n",
    "    X_disease = X[disease_rows]\n",
    "    \n",
    "    # Compute the correlation between symptoms and disease\n",
    "    corr = X.corrwith(y[disease])\n",
    "    \n",
    "#     # Find the names of the symptoms that are present for this disease\n",
    "#     symptoms = X_disease.columns[X_disease.any()].tolist()\n",
    "\n",
    "     # Select the top 5 symptoms with highest correlation\n",
    "    symptoms = corr.abs().sort_values(ascending=False)[:5].index.tolist()\n",
    "    \n",
    "    # Add the symptoms to the dictionary\n",
    "    symptoms_by_disease[disease] = symptoms"
   ]
  },
  {
   "cell_type": "code",
   "execution_count": 7,
   "id": "2cbace3d",
   "metadata": {},
   "outputs": [
    {
     "name": "stdout",
     "output_type": "stream",
     "text": [
      "{'AIDS': ['patches_in_throat', 'extra_marital_contacts', 'muscle_wasting', 'high_fever', 'fatigue'], 'Acne': ['scurring', 'blackheads', 'pus_filled_pimples', 'skin_rash', 'fatigue'], 'Alcoholic hepatitis': ['distention_of_abdomen', 'history_of_alcohol_consumption', 'fluid_overload.1', 'swelling_of_stomach', 'yellowish_skin'], 'Allergy': ['shivering', 'watering_from_eyes', 'continuous_sneezing', 'chills', 'fatigue'], 'Arthritis': ['movement_stiffness', 'stiff_neck', 'painful_walking', 'swelling_joints', 'muscle_weakness'], 'Bronchial Asthma': ['mucoid_sputum', 'family_history', 'breathlessness', 'cough', 'high_fever'], 'Cervical spondylosis': ['weakness_in_limbs', 'neck_pain', 'back_pain', 'dizziness', 'loss_of_balance'], 'Chicken pox': ['red_spots_over_body', 'swelled_lymph_nodes', 'mild_fever', 'lethargy', 'malaise'], 'Chronic cholestasis': ['itching', 'yellowing_of_eyes', 'yellowish_skin', 'abdominal_pain', 'nausea'], 'Common Cold': ['congestion', 'throat_irritation', 'redness_of_eyes', 'sinus_pressure', 'runny_nose'], 'Dengue': ['pain_behind_the_eyes', 'back_pain', 'red_spots_over_body', 'muscle_pain', 'joint_pain'], 'Diabetes ': ['increased_appetite', 'polyuria', 'irregular_sugar_level', 'restlessness', 'obesity'], 'Dimorphic hemmorhoids(piles)': ['pain_in_anal_region', 'irritation_in_anus', 'pain_during_bowel_movements', 'bloody_stool', 'constipation'], 'Drug Reaction': ['spotting_ urination', 'burning_micturition', 'stomach_pain', 'itching', 'skin_rash'], 'Fungal infection': ['nodal_skin_eruptions', 'dischromic _patches', 'itching', 'skin_rash', 'fatigue'], 'GERD': ['ulcers_on_tongue', 'stomach_pain', 'acidity', 'cough', 'chest_pain'], 'Gastroenteritis': ['sunken_eyes', 'dehydration', 'diarrhoea', 'vomiting', 'fatigue'], 'Heart attack': ['breathlessness', 'chest_pain', 'sweating', 'vomiting', 'fatigue'], 'Hepatitis B': ['receiving_blood_transfusion', 'receiving_unsterile_injections', 'yellow_urine', 'lethargy', 'dark_urine'], 'Hepatitis C': ['family_history', 'yellowing_of_eyes', 'yellowish_skin', 'nausea', 'loss_of_appetite'], 'Hepatitis D': ['dark_urine', 'joint_pain', 'yellowing_of_eyes', 'yellowish_skin', 'abdominal_pain'], 'Hepatitis E': ['coma', 'stomach_bleeding', 'acute_liver_failure', 'dark_urine', 'joint_pain'], 'Hypertension ': ['lack_of_concentration', 'loss_of_balance', 'dizziness', 'chest_pain', 'headache'], 'Hyperthyroidism': ['muscle_weakness', 'abnormal_menstruation', 'restlessness', 'mood_swings', 'fast_heart_rate'], 'Hypoglycemia': ['slurred_speech', 'palpitations', 'drying_and_tingling_lips', 'anxiety', 'blurred_and_distorted_vision'], 'Hypothyroidism': ['swollen_extremeties', 'brittle_nails', 'enlarged_thyroid', 'cold_hands_and_feets', 'weight_gain'], 'Impetigo': ['yellow_crust_ooze', 'red_sore_around_nose', 'blister', 'skin_rash', 'high_fever'], 'Jaundice': ['weight_loss', 'dark_urine', 'itching', 'yellowish_skin', 'abdominal_pain'], 'Malaria': ['muscle_pain', 'diarrhoea', 'sweating', 'chills', 'headache'], 'Migraine': ['visual_disturbances', 'acidity', 'indigestion', 'stiff_neck', 'depression'], 'Osteoarthristis': ['hip_joint_pain', 'knee_pain', 'neck_pain', 'swelling_joints', 'painful_walking'], 'Paralysis (brain hemorrhage)': ['altered_sensorium', 'weakness_of_one_body_side', 'headache', 'vomiting', 'fatigue'], 'Paroxysmal  Positional Vertigo': ['unsteadiness', 'spinning_movements', 'loss_of_balance', 'headache', 'nausea'], 'Peptic ulcer diseae': ['internal_itching', 'passage_of_gases', 'indigestion', 'abdominal_pain', 'loss_of_appetite'], 'Pneumonia': ['rusty_sputum', 'fast_heart_rate', 'phlegm', 'breathlessness', 'cough'], 'Psoriasis': ['inflammatory_nails', 'skin_peeling', 'small_dents_in_nails', 'silver_like_dusting', 'joint_pain'], 'Tuberculosis': ['blood_in_sputum', 'swelled_lymph_nodes', 'mild_fever', 'phlegm', 'breathlessness'], 'Typhoid': ['belly_pain', 'toxic_look_(typhos)', 'constipation', 'diarrhoea', 'chills'], 'Urinary tract infection': ['bladder_discomfort', 'continuous_feel_of_urine', 'foul_smell_of urine', 'burning_micturition', 'fatigue'], 'Varicose veins': ['bruising', 'swollen_legs', 'cramps', 'prominent_veins_on_calf', 'swollen_blood_vessels'], 'hepatitis A': ['mild_fever', 'muscle_pain', 'diarrhoea', 'dark_urine', 'joint_pain']}\n"
     ]
    }
   ],
   "source": [
    "# Print the dictionary, here we print atmost 5 symptoms per disease\n",
    "print(symptoms_by_disease)"
   ]
  },
  {
   "cell_type": "markdown",
   "id": "b47fa295",
   "metadata": {},
   "source": [
    "Now we create a new dataframe using the symptoms in 'symptoms_by_disease'"
   ]
  },
  {
   "cell_type": "code",
   "execution_count": 8,
   "id": "45906ea5",
   "metadata": {
    "collapsed": true
   },
   "outputs": [
    {
     "name": "stderr",
     "output_type": "stream",
     "text": [
      "C:\\Users\\sjr\\AppData\\Local\\Temp\\ipykernel_8428\\1175219869.py:19: FutureWarning: The frame.append method is deprecated and will be removed from pandas in a future version. Use pandas.concat instead.\n",
      "  new_df = new_df.append(symptom_df)\n",
      "C:\\Users\\sjr\\AppData\\Local\\Temp\\ipykernel_8428\\1175219869.py:19: FutureWarning: The frame.append method is deprecated and will be removed from pandas in a future version. Use pandas.concat instead.\n",
      "  new_df = new_df.append(symptom_df)\n",
      "C:\\Users\\sjr\\AppData\\Local\\Temp\\ipykernel_8428\\1175219869.py:19: FutureWarning: The frame.append method is deprecated and will be removed from pandas in a future version. Use pandas.concat instead.\n",
      "  new_df = new_df.append(symptom_df)\n",
      "C:\\Users\\sjr\\AppData\\Local\\Temp\\ipykernel_8428\\1175219869.py:19: FutureWarning: The frame.append method is deprecated and will be removed from pandas in a future version. Use pandas.concat instead.\n",
      "  new_df = new_df.append(symptom_df)\n",
      "C:\\Users\\sjr\\AppData\\Local\\Temp\\ipykernel_8428\\1175219869.py:19: FutureWarning: The frame.append method is deprecated and will be removed from pandas in a future version. Use pandas.concat instead.\n",
      "  new_df = new_df.append(symptom_df)\n",
      "C:\\Users\\sjr\\AppData\\Local\\Temp\\ipykernel_8428\\1175219869.py:19: FutureWarning: The frame.append method is deprecated and will be removed from pandas in a future version. Use pandas.concat instead.\n",
      "  new_df = new_df.append(symptom_df)\n",
      "C:\\Users\\sjr\\AppData\\Local\\Temp\\ipykernel_8428\\1175219869.py:19: FutureWarning: The frame.append method is deprecated and will be removed from pandas in a future version. Use pandas.concat instead.\n",
      "  new_df = new_df.append(symptom_df)\n",
      "C:\\Users\\sjr\\AppData\\Local\\Temp\\ipykernel_8428\\1175219869.py:19: FutureWarning: The frame.append method is deprecated and will be removed from pandas in a future version. Use pandas.concat instead.\n",
      "  new_df = new_df.append(symptom_df)\n",
      "C:\\Users\\sjr\\AppData\\Local\\Temp\\ipykernel_8428\\1175219869.py:19: FutureWarning: The frame.append method is deprecated and will be removed from pandas in a future version. Use pandas.concat instead.\n",
      "  new_df = new_df.append(symptom_df)\n",
      "C:\\Users\\sjr\\AppData\\Local\\Temp\\ipykernel_8428\\1175219869.py:19: FutureWarning: The frame.append method is deprecated and will be removed from pandas in a future version. Use pandas.concat instead.\n",
      "  new_df = new_df.append(symptom_df)\n",
      "C:\\Users\\sjr\\AppData\\Local\\Temp\\ipykernel_8428\\1175219869.py:19: FutureWarning: The frame.append method is deprecated and will be removed from pandas in a future version. Use pandas.concat instead.\n",
      "  new_df = new_df.append(symptom_df)\n",
      "C:\\Users\\sjr\\AppData\\Local\\Temp\\ipykernel_8428\\1175219869.py:19: FutureWarning: The frame.append method is deprecated and will be removed from pandas in a future version. Use pandas.concat instead.\n",
      "  new_df = new_df.append(symptom_df)\n",
      "C:\\Users\\sjr\\AppData\\Local\\Temp\\ipykernel_8428\\1175219869.py:19: FutureWarning: The frame.append method is deprecated and will be removed from pandas in a future version. Use pandas.concat instead.\n",
      "  new_df = new_df.append(symptom_df)\n",
      "C:\\Users\\sjr\\AppData\\Local\\Temp\\ipykernel_8428\\1175219869.py:19: FutureWarning: The frame.append method is deprecated and will be removed from pandas in a future version. Use pandas.concat instead.\n",
      "  new_df = new_df.append(symptom_df)\n",
      "C:\\Users\\sjr\\AppData\\Local\\Temp\\ipykernel_8428\\1175219869.py:19: FutureWarning: The frame.append method is deprecated and will be removed from pandas in a future version. Use pandas.concat instead.\n",
      "  new_df = new_df.append(symptom_df)\n",
      "C:\\Users\\sjr\\AppData\\Local\\Temp\\ipykernel_8428\\1175219869.py:19: FutureWarning: The frame.append method is deprecated and will be removed from pandas in a future version. Use pandas.concat instead.\n",
      "  new_df = new_df.append(symptom_df)\n",
      "C:\\Users\\sjr\\AppData\\Local\\Temp\\ipykernel_8428\\1175219869.py:19: FutureWarning: The frame.append method is deprecated and will be removed from pandas in a future version. Use pandas.concat instead.\n",
      "  new_df = new_df.append(symptom_df)\n",
      "C:\\Users\\sjr\\AppData\\Local\\Temp\\ipykernel_8428\\1175219869.py:19: FutureWarning: The frame.append method is deprecated and will be removed from pandas in a future version. Use pandas.concat instead.\n",
      "  new_df = new_df.append(symptom_df)\n",
      "C:\\Users\\sjr\\AppData\\Local\\Temp\\ipykernel_8428\\1175219869.py:19: FutureWarning: The frame.append method is deprecated and will be removed from pandas in a future version. Use pandas.concat instead.\n",
      "  new_df = new_df.append(symptom_df)\n",
      "C:\\Users\\sjr\\AppData\\Local\\Temp\\ipykernel_8428\\1175219869.py:19: FutureWarning: The frame.append method is deprecated and will be removed from pandas in a future version. Use pandas.concat instead.\n",
      "  new_df = new_df.append(symptom_df)\n",
      "C:\\Users\\sjr\\AppData\\Local\\Temp\\ipykernel_8428\\1175219869.py:19: FutureWarning: The frame.append method is deprecated and will be removed from pandas in a future version. Use pandas.concat instead.\n",
      "  new_df = new_df.append(symptom_df)\n",
      "C:\\Users\\sjr\\AppData\\Local\\Temp\\ipykernel_8428\\1175219869.py:19: FutureWarning: The frame.append method is deprecated and will be removed from pandas in a future version. Use pandas.concat instead.\n",
      "  new_df = new_df.append(symptom_df)\n",
      "C:\\Users\\sjr\\AppData\\Local\\Temp\\ipykernel_8428\\1175219869.py:19: FutureWarning: The frame.append method is deprecated and will be removed from pandas in a future version. Use pandas.concat instead.\n",
      "  new_df = new_df.append(symptom_df)\n",
      "C:\\Users\\sjr\\AppData\\Local\\Temp\\ipykernel_8428\\1175219869.py:19: FutureWarning: The frame.append method is deprecated and will be removed from pandas in a future version. Use pandas.concat instead.\n",
      "  new_df = new_df.append(symptom_df)\n",
      "C:\\Users\\sjr\\AppData\\Local\\Temp\\ipykernel_8428\\1175219869.py:19: FutureWarning: The frame.append method is deprecated and will be removed from pandas in a future version. Use pandas.concat instead.\n",
      "  new_df = new_df.append(symptom_df)\n",
      "C:\\Users\\sjr\\AppData\\Local\\Temp\\ipykernel_8428\\1175219869.py:19: FutureWarning: The frame.append method is deprecated and will be removed from pandas in a future version. Use pandas.concat instead.\n",
      "  new_df = new_df.append(symptom_df)\n",
      "C:\\Users\\sjr\\AppData\\Local\\Temp\\ipykernel_8428\\1175219869.py:19: FutureWarning: The frame.append method is deprecated and will be removed from pandas in a future version. Use pandas.concat instead.\n",
      "  new_df = new_df.append(symptom_df)\n",
      "C:\\Users\\sjr\\AppData\\Local\\Temp\\ipykernel_8428\\1175219869.py:19: FutureWarning: The frame.append method is deprecated and will be removed from pandas in a future version. Use pandas.concat instead.\n",
      "  new_df = new_df.append(symptom_df)\n",
      "C:\\Users\\sjr\\AppData\\Local\\Temp\\ipykernel_8428\\1175219869.py:19: FutureWarning: The frame.append method is deprecated and will be removed from pandas in a future version. Use pandas.concat instead.\n",
      "  new_df = new_df.append(symptom_df)\n",
      "C:\\Users\\sjr\\AppData\\Local\\Temp\\ipykernel_8428\\1175219869.py:19: FutureWarning: The frame.append method is deprecated and will be removed from pandas in a future version. Use pandas.concat instead.\n",
      "  new_df = new_df.append(symptom_df)\n",
      "C:\\Users\\sjr\\AppData\\Local\\Temp\\ipykernel_8428\\1175219869.py:19: FutureWarning: The frame.append method is deprecated and will be removed from pandas in a future version. Use pandas.concat instead.\n",
      "  new_df = new_df.append(symptom_df)\n",
      "C:\\Users\\sjr\\AppData\\Local\\Temp\\ipykernel_8428\\1175219869.py:19: FutureWarning: The frame.append method is deprecated and will be removed from pandas in a future version. Use pandas.concat instead.\n",
      "  new_df = new_df.append(symptom_df)\n",
      "C:\\Users\\sjr\\AppData\\Local\\Temp\\ipykernel_8428\\1175219869.py:19: FutureWarning: The frame.append method is deprecated and will be removed from pandas in a future version. Use pandas.concat instead.\n",
      "  new_df = new_df.append(symptom_df)\n",
      "C:\\Users\\sjr\\AppData\\Local\\Temp\\ipykernel_8428\\1175219869.py:19: FutureWarning: The frame.append method is deprecated and will be removed from pandas in a future version. Use pandas.concat instead.\n",
      "  new_df = new_df.append(symptom_df)\n",
      "C:\\Users\\sjr\\AppData\\Local\\Temp\\ipykernel_8428\\1175219869.py:19: FutureWarning: The frame.append method is deprecated and will be removed from pandas in a future version. Use pandas.concat instead.\n",
      "  new_df = new_df.append(symptom_df)\n"
     ]
    },
    {
     "name": "stderr",
     "output_type": "stream",
     "text": [
      "C:\\Users\\sjr\\AppData\\Local\\Temp\\ipykernel_8428\\1175219869.py:19: FutureWarning: The frame.append method is deprecated and will be removed from pandas in a future version. Use pandas.concat instead.\n",
      "  new_df = new_df.append(symptom_df)\n",
      "C:\\Users\\sjr\\AppData\\Local\\Temp\\ipykernel_8428\\1175219869.py:19: FutureWarning: The frame.append method is deprecated and will be removed from pandas in a future version. Use pandas.concat instead.\n",
      "  new_df = new_df.append(symptom_df)\n",
      "C:\\Users\\sjr\\AppData\\Local\\Temp\\ipykernel_8428\\1175219869.py:19: FutureWarning: The frame.append method is deprecated and will be removed from pandas in a future version. Use pandas.concat instead.\n",
      "  new_df = new_df.append(symptom_df)\n",
      "C:\\Users\\sjr\\AppData\\Local\\Temp\\ipykernel_8428\\1175219869.py:19: FutureWarning: The frame.append method is deprecated and will be removed from pandas in a future version. Use pandas.concat instead.\n",
      "  new_df = new_df.append(symptom_df)\n",
      "C:\\Users\\sjr\\AppData\\Local\\Temp\\ipykernel_8428\\1175219869.py:19: FutureWarning: The frame.append method is deprecated and will be removed from pandas in a future version. Use pandas.concat instead.\n",
      "  new_df = new_df.append(symptom_df)\n",
      "C:\\Users\\sjr\\AppData\\Local\\Temp\\ipykernel_8428\\1175219869.py:19: FutureWarning: The frame.append method is deprecated and will be removed from pandas in a future version. Use pandas.concat instead.\n",
      "  new_df = new_df.append(symptom_df)\n"
     ]
    }
   ],
   "source": [
    "# Create an empty dataframe to store the new dataset\n",
    "new_df = pd.DataFrame()\n",
    "\n",
    "# Loop through each disease in the symptoms_by_disease dictionary\n",
    "for disease, symptoms in symptoms_by_disease.items():\n",
    "    \n",
    "    # Select the rows from the original dataset that correspond to the current disease\n",
    "    disease_rows = df['diseases'] == disease\n",
    "    disease_df = df.loc[disease_rows, :]\n",
    "    \n",
    "    # Select only the columns that correspond to the top 5 symptoms for the current disease\n",
    "    symptom_cols = ['diseases'] + symptoms\n",
    "    symptom_df = disease_df[symptom_cols]\n",
    "    \n",
    "    # Replace 'AIDS' with 'HIV & AIDS'\n",
    "    symptom_df = symptom_df.replace({'AIDS': 'HIV & AIDS'})\n",
    "    \n",
    "    # Append the symptom_df to the new_df\n",
    "    new_df = new_df.append(symptom_df)\n",
    "\n",
    "# # Reset the index of the new_df\n",
    "# new_df.reset_index(drop=True, inplace=True)\n",
    "\n",
    "# # Save the new dataset to a CSV file\n",
    "# new_df.to_csv('Data/NewDataset.csv', index=False)"
   ]
  },
  {
   "cell_type": "markdown",
   "id": "7678f280",
   "metadata": {},
   "source": [
    "WE NOW IMPORT OUR NEW DATASET WHICH WE SAVED ON THE ABOVE CELL"
   ]
  },
  {
   "cell_type": "code",
   "execution_count": 13,
   "id": "1ef5b9a6",
   "metadata": {},
   "outputs": [],
   "source": [
    "newData = pd.read_csv('Data/NewData.csv')"
   ]
  },
  {
   "cell_type": "code",
   "execution_count": 14,
   "id": "02da0d2e",
   "metadata": {},
   "outputs": [],
   "source": [
    "X = newData.drop('diseases', axis=1)\n",
    "y = newData['diseases']"
   ]
  },
  {
   "cell_type": "code",
   "execution_count": 15,
   "id": "040e4d40",
   "metadata": {},
   "outputs": [],
   "source": [
    "# Replace NaNs with 0s\n",
    "X.fillna(0, inplace=True)"
   ]
  },
  {
   "cell_type": "code",
   "execution_count": 17,
   "id": "0103c842",
   "metadata": {},
   "outputs": [],
   "source": [
    "# Sort the columns so that we will also use a sorted list of symptoms on our website\n",
    "X_sorted = X[sorted(X.columns)].copy()"
   ]
  },
  {
   "cell_type": "code",
   "execution_count": 19,
   "id": "71eaaa26",
   "metadata": {
    "collapsed": true
   },
   "outputs": [
    {
     "data": {
      "text/html": [
       "<div>\n",
       "<style scoped>\n",
       "    .dataframe tbody tr th:only-of-type {\n",
       "        vertical-align: middle;\n",
       "    }\n",
       "\n",
       "    .dataframe tbody tr th {\n",
       "        vertical-align: top;\n",
       "    }\n",
       "\n",
       "    .dataframe thead th {\n",
       "        text-align: right;\n",
       "    }\n",
       "</style>\n",
       "<table border=\"1\" class=\"dataframe\">\n",
       "  <thead>\n",
       "    <tr style=\"text-align: right;\">\n",
       "      <th></th>\n",
       "      <th>abdominal_pain</th>\n",
       "      <th>abnormal_menstruation</th>\n",
       "      <th>acidity</th>\n",
       "      <th>acute_liver_failure</th>\n",
       "      <th>altered_sensorium</th>\n",
       "      <th>anxiety</th>\n",
       "      <th>back_pain</th>\n",
       "      <th>belly_pain</th>\n",
       "      <th>blackheads</th>\n",
       "      <th>bladder_discomfort</th>\n",
       "      <th>...</th>\n",
       "      <th>vomiting</th>\n",
       "      <th>watering_from_eyes</th>\n",
       "      <th>weakness_in_limbs</th>\n",
       "      <th>weakness_of_one_body_side</th>\n",
       "      <th>weight_gain</th>\n",
       "      <th>weight_loss</th>\n",
       "      <th>yellow_crust_ooze</th>\n",
       "      <th>yellow_urine</th>\n",
       "      <th>yellowing_of_eyes</th>\n",
       "      <th>yellowish_skin</th>\n",
       "    </tr>\n",
       "  </thead>\n",
       "  <tbody>\n",
       "    <tr>\n",
       "      <th>0</th>\n",
       "      <td>0.0</td>\n",
       "      <td>0.0</td>\n",
       "      <td>0.0</td>\n",
       "      <td>0.0</td>\n",
       "      <td>0.0</td>\n",
       "      <td>0.0</td>\n",
       "      <td>0.0</td>\n",
       "      <td>0.0</td>\n",
       "      <td>0.0</td>\n",
       "      <td>0.0</td>\n",
       "      <td>...</td>\n",
       "      <td>0.0</td>\n",
       "      <td>0.0</td>\n",
       "      <td>0.0</td>\n",
       "      <td>0.0</td>\n",
       "      <td>0.0</td>\n",
       "      <td>0.0</td>\n",
       "      <td>0.0</td>\n",
       "      <td>0.0</td>\n",
       "      <td>0.0</td>\n",
       "      <td>0.0</td>\n",
       "    </tr>\n",
       "    <tr>\n",
       "      <th>1</th>\n",
       "      <td>0.0</td>\n",
       "      <td>0.0</td>\n",
       "      <td>0.0</td>\n",
       "      <td>0.0</td>\n",
       "      <td>0.0</td>\n",
       "      <td>0.0</td>\n",
       "      <td>0.0</td>\n",
       "      <td>0.0</td>\n",
       "      <td>0.0</td>\n",
       "      <td>0.0</td>\n",
       "      <td>...</td>\n",
       "      <td>0.0</td>\n",
       "      <td>0.0</td>\n",
       "      <td>0.0</td>\n",
       "      <td>0.0</td>\n",
       "      <td>0.0</td>\n",
       "      <td>0.0</td>\n",
       "      <td>0.0</td>\n",
       "      <td>0.0</td>\n",
       "      <td>0.0</td>\n",
       "      <td>0.0</td>\n",
       "    </tr>\n",
       "    <tr>\n",
       "      <th>2</th>\n",
       "      <td>0.0</td>\n",
       "      <td>0.0</td>\n",
       "      <td>0.0</td>\n",
       "      <td>0.0</td>\n",
       "      <td>0.0</td>\n",
       "      <td>0.0</td>\n",
       "      <td>0.0</td>\n",
       "      <td>0.0</td>\n",
       "      <td>0.0</td>\n",
       "      <td>0.0</td>\n",
       "      <td>...</td>\n",
       "      <td>0.0</td>\n",
       "      <td>0.0</td>\n",
       "      <td>0.0</td>\n",
       "      <td>0.0</td>\n",
       "      <td>0.0</td>\n",
       "      <td>0.0</td>\n",
       "      <td>0.0</td>\n",
       "      <td>0.0</td>\n",
       "      <td>0.0</td>\n",
       "      <td>0.0</td>\n",
       "    </tr>\n",
       "    <tr>\n",
       "      <th>3</th>\n",
       "      <td>0.0</td>\n",
       "      <td>0.0</td>\n",
       "      <td>0.0</td>\n",
       "      <td>0.0</td>\n",
       "      <td>0.0</td>\n",
       "      <td>0.0</td>\n",
       "      <td>0.0</td>\n",
       "      <td>0.0</td>\n",
       "      <td>0.0</td>\n",
       "      <td>0.0</td>\n",
       "      <td>...</td>\n",
       "      <td>0.0</td>\n",
       "      <td>0.0</td>\n",
       "      <td>0.0</td>\n",
       "      <td>0.0</td>\n",
       "      <td>0.0</td>\n",
       "      <td>0.0</td>\n",
       "      <td>0.0</td>\n",
       "      <td>0.0</td>\n",
       "      <td>0.0</td>\n",
       "      <td>0.0</td>\n",
       "    </tr>\n",
       "    <tr>\n",
       "      <th>4</th>\n",
       "      <td>0.0</td>\n",
       "      <td>0.0</td>\n",
       "      <td>0.0</td>\n",
       "      <td>0.0</td>\n",
       "      <td>0.0</td>\n",
       "      <td>0.0</td>\n",
       "      <td>0.0</td>\n",
       "      <td>0.0</td>\n",
       "      <td>0.0</td>\n",
       "      <td>0.0</td>\n",
       "      <td>...</td>\n",
       "      <td>0.0</td>\n",
       "      <td>0.0</td>\n",
       "      <td>0.0</td>\n",
       "      <td>0.0</td>\n",
       "      <td>0.0</td>\n",
       "      <td>0.0</td>\n",
       "      <td>0.0</td>\n",
       "      <td>0.0</td>\n",
       "      <td>0.0</td>\n",
       "      <td>0.0</td>\n",
       "    </tr>\n",
       "    <tr>\n",
       "      <th>...</th>\n",
       "      <td>...</td>\n",
       "      <td>...</td>\n",
       "      <td>...</td>\n",
       "      <td>...</td>\n",
       "      <td>...</td>\n",
       "      <td>...</td>\n",
       "      <td>...</td>\n",
       "      <td>...</td>\n",
       "      <td>...</td>\n",
       "      <td>...</td>\n",
       "      <td>...</td>\n",
       "      <td>...</td>\n",
       "      <td>...</td>\n",
       "      <td>...</td>\n",
       "      <td>...</td>\n",
       "      <td>...</td>\n",
       "      <td>...</td>\n",
       "      <td>...</td>\n",
       "      <td>...</td>\n",
       "      <td>...</td>\n",
       "      <td>...</td>\n",
       "    </tr>\n",
       "    <tr>\n",
       "      <th>4915</th>\n",
       "      <td>1.0</td>\n",
       "      <td>0.0</td>\n",
       "      <td>0.0</td>\n",
       "      <td>0.0</td>\n",
       "      <td>0.0</td>\n",
       "      <td>0.0</td>\n",
       "      <td>0.0</td>\n",
       "      <td>0.0</td>\n",
       "      <td>0.0</td>\n",
       "      <td>0.0</td>\n",
       "      <td>...</td>\n",
       "      <td>1.0</td>\n",
       "      <td>0.0</td>\n",
       "      <td>0.0</td>\n",
       "      <td>0.0</td>\n",
       "      <td>0.0</td>\n",
       "      <td>0.0</td>\n",
       "      <td>0.0</td>\n",
       "      <td>0.0</td>\n",
       "      <td>1.0</td>\n",
       "      <td>1.0</td>\n",
       "    </tr>\n",
       "    <tr>\n",
       "      <th>4916</th>\n",
       "      <td>1.0</td>\n",
       "      <td>0.0</td>\n",
       "      <td>0.0</td>\n",
       "      <td>0.0</td>\n",
       "      <td>0.0</td>\n",
       "      <td>0.0</td>\n",
       "      <td>0.0</td>\n",
       "      <td>0.0</td>\n",
       "      <td>0.0</td>\n",
       "      <td>0.0</td>\n",
       "      <td>...</td>\n",
       "      <td>1.0</td>\n",
       "      <td>0.0</td>\n",
       "      <td>0.0</td>\n",
       "      <td>0.0</td>\n",
       "      <td>0.0</td>\n",
       "      <td>0.0</td>\n",
       "      <td>0.0</td>\n",
       "      <td>0.0</td>\n",
       "      <td>1.0</td>\n",
       "      <td>1.0</td>\n",
       "    </tr>\n",
       "    <tr>\n",
       "      <th>4917</th>\n",
       "      <td>1.0</td>\n",
       "      <td>0.0</td>\n",
       "      <td>0.0</td>\n",
       "      <td>0.0</td>\n",
       "      <td>0.0</td>\n",
       "      <td>0.0</td>\n",
       "      <td>0.0</td>\n",
       "      <td>0.0</td>\n",
       "      <td>0.0</td>\n",
       "      <td>0.0</td>\n",
       "      <td>...</td>\n",
       "      <td>1.0</td>\n",
       "      <td>0.0</td>\n",
       "      <td>0.0</td>\n",
       "      <td>0.0</td>\n",
       "      <td>0.0</td>\n",
       "      <td>0.0</td>\n",
       "      <td>0.0</td>\n",
       "      <td>0.0</td>\n",
       "      <td>1.0</td>\n",
       "      <td>1.0</td>\n",
       "    </tr>\n",
       "    <tr>\n",
       "      <th>4918</th>\n",
       "      <td>1.0</td>\n",
       "      <td>0.0</td>\n",
       "      <td>0.0</td>\n",
       "      <td>0.0</td>\n",
       "      <td>0.0</td>\n",
       "      <td>0.0</td>\n",
       "      <td>0.0</td>\n",
       "      <td>0.0</td>\n",
       "      <td>0.0</td>\n",
       "      <td>0.0</td>\n",
       "      <td>...</td>\n",
       "      <td>1.0</td>\n",
       "      <td>0.0</td>\n",
       "      <td>0.0</td>\n",
       "      <td>0.0</td>\n",
       "      <td>0.0</td>\n",
       "      <td>0.0</td>\n",
       "      <td>0.0</td>\n",
       "      <td>0.0</td>\n",
       "      <td>1.0</td>\n",
       "      <td>1.0</td>\n",
       "    </tr>\n",
       "    <tr>\n",
       "      <th>4919</th>\n",
       "      <td>1.0</td>\n",
       "      <td>0.0</td>\n",
       "      <td>0.0</td>\n",
       "      <td>0.0</td>\n",
       "      <td>0.0</td>\n",
       "      <td>0.0</td>\n",
       "      <td>0.0</td>\n",
       "      <td>0.0</td>\n",
       "      <td>0.0</td>\n",
       "      <td>0.0</td>\n",
       "      <td>...</td>\n",
       "      <td>1.0</td>\n",
       "      <td>0.0</td>\n",
       "      <td>0.0</td>\n",
       "      <td>0.0</td>\n",
       "      <td>0.0</td>\n",
       "      <td>0.0</td>\n",
       "      <td>0.0</td>\n",
       "      <td>0.0</td>\n",
       "      <td>1.0</td>\n",
       "      <td>1.0</td>\n",
       "    </tr>\n",
       "  </tbody>\n",
       "</table>\n",
       "<p>4920 rows × 131 columns</p>\n",
       "</div>"
      ],
      "text/plain": [
       "      abdominal_pain  abnormal_menstruation  acidity  acute_liver_failure  \\\n",
       "0                0.0                    0.0      0.0                  0.0   \n",
       "1                0.0                    0.0      0.0                  0.0   \n",
       "2                0.0                    0.0      0.0                  0.0   \n",
       "3                0.0                    0.0      0.0                  0.0   \n",
       "4                0.0                    0.0      0.0                  0.0   \n",
       "...              ...                    ...      ...                  ...   \n",
       "4915             1.0                    0.0      0.0                  0.0   \n",
       "4916             1.0                    0.0      0.0                  0.0   \n",
       "4917             1.0                    0.0      0.0                  0.0   \n",
       "4918             1.0                    0.0      0.0                  0.0   \n",
       "4919             1.0                    0.0      0.0                  0.0   \n",
       "\n",
       "      altered_sensorium  anxiety  back_pain  belly_pain  blackheads  \\\n",
       "0                   0.0      0.0        0.0         0.0         0.0   \n",
       "1                   0.0      0.0        0.0         0.0         0.0   \n",
       "2                   0.0      0.0        0.0         0.0         0.0   \n",
       "3                   0.0      0.0        0.0         0.0         0.0   \n",
       "4                   0.0      0.0        0.0         0.0         0.0   \n",
       "...                 ...      ...        ...         ...         ...   \n",
       "4915                0.0      0.0        0.0         0.0         0.0   \n",
       "4916                0.0      0.0        0.0         0.0         0.0   \n",
       "4917                0.0      0.0        0.0         0.0         0.0   \n",
       "4918                0.0      0.0        0.0         0.0         0.0   \n",
       "4919                0.0      0.0        0.0         0.0         0.0   \n",
       "\n",
       "      bladder_discomfort  ...  vomiting  watering_from_eyes  \\\n",
       "0                    0.0  ...       0.0                 0.0   \n",
       "1                    0.0  ...       0.0                 0.0   \n",
       "2                    0.0  ...       0.0                 0.0   \n",
       "3                    0.0  ...       0.0                 0.0   \n",
       "4                    0.0  ...       0.0                 0.0   \n",
       "...                  ...  ...       ...                 ...   \n",
       "4915                 0.0  ...       1.0                 0.0   \n",
       "4916                 0.0  ...       1.0                 0.0   \n",
       "4917                 0.0  ...       1.0                 0.0   \n",
       "4918                 0.0  ...       1.0                 0.0   \n",
       "4919                 0.0  ...       1.0                 0.0   \n",
       "\n",
       "      weakness_in_limbs  weakness_of_one_body_side  weight_gain  weight_loss  \\\n",
       "0                   0.0                        0.0          0.0          0.0   \n",
       "1                   0.0                        0.0          0.0          0.0   \n",
       "2                   0.0                        0.0          0.0          0.0   \n",
       "3                   0.0                        0.0          0.0          0.0   \n",
       "4                   0.0                        0.0          0.0          0.0   \n",
       "...                 ...                        ...          ...          ...   \n",
       "4915                0.0                        0.0          0.0          0.0   \n",
       "4916                0.0                        0.0          0.0          0.0   \n",
       "4917                0.0                        0.0          0.0          0.0   \n",
       "4918                0.0                        0.0          0.0          0.0   \n",
       "4919                0.0                        0.0          0.0          0.0   \n",
       "\n",
       "      yellow_crust_ooze  yellow_urine  yellowing_of_eyes  yellowish_skin  \n",
       "0                   0.0           0.0                0.0             0.0  \n",
       "1                   0.0           0.0                0.0             0.0  \n",
       "2                   0.0           0.0                0.0             0.0  \n",
       "3                   0.0           0.0                0.0             0.0  \n",
       "4                   0.0           0.0                0.0             0.0  \n",
       "...                 ...           ...                ...             ...  \n",
       "4915                0.0           0.0                1.0             1.0  \n",
       "4916                0.0           0.0                1.0             1.0  \n",
       "4917                0.0           0.0                1.0             1.0  \n",
       "4918                0.0           0.0                1.0             1.0  \n",
       "4919                0.0           0.0                1.0             1.0  \n",
       "\n",
       "[4920 rows x 131 columns]"
      ]
     },
     "execution_count": 19,
     "metadata": {},
     "output_type": "execute_result"
    }
   ],
   "source": [
    "X_sorted"
   ]
  },
  {
   "cell_type": "markdown",
   "id": "c3d0e281",
   "metadata": {},
   "source": [
    "## We now build our machine learning model"
   ]
  },
  {
   "cell_type": "code",
   "execution_count": 21,
   "id": "5f409f2f",
   "metadata": {},
   "outputs": [],
   "source": [
    "#IMPORT THE LIBRARIES FOR ML\n",
    "from sklearn.model_selection import train_test_split\n",
    "from sklearn.linear_model import LogisticRegression\n",
    "from sklearn.metrics import accuracy_score"
   ]
  },
  {
   "cell_type": "code",
   "execution_count": 22,
   "id": "7f5a8c9a",
   "metadata": {},
   "outputs": [],
   "source": [
    "# Split the data into training, validation, and testing sets\n",
    "X_trainval, X_test, y_trainval, y_test = train_test_split(X_sorted, y, test_size=0.2, random_state=42)"
   ]
  },
  {
   "cell_type": "code",
   "execution_count": 23,
   "id": "aaff0220",
   "metadata": {},
   "outputs": [],
   "source": [
    "# Split the training set into training and validation sets\n",
    "X_train, X_val, y_train, y_val = train_test_split(X_trainval, y_trainval, test_size=0.2, random_state=42)"
   ]
  },
  {
   "cell_type": "code",
   "execution_count": 24,
   "id": "7fc45f9d",
   "metadata": {},
   "outputs": [
    {
     "data": {
      "text/html": [
       "<style>#sk-container-id-1 {color: black;background-color: white;}#sk-container-id-1 pre{padding: 0;}#sk-container-id-1 div.sk-toggleable {background-color: white;}#sk-container-id-1 label.sk-toggleable__label {cursor: pointer;display: block;width: 100%;margin-bottom: 0;padding: 0.3em;box-sizing: border-box;text-align: center;}#sk-container-id-1 label.sk-toggleable__label-arrow:before {content: \"▸\";float: left;margin-right: 0.25em;color: #696969;}#sk-container-id-1 label.sk-toggleable__label-arrow:hover:before {color: black;}#sk-container-id-1 div.sk-estimator:hover label.sk-toggleable__label-arrow:before {color: black;}#sk-container-id-1 div.sk-toggleable__content {max-height: 0;max-width: 0;overflow: hidden;text-align: left;background-color: #f0f8ff;}#sk-container-id-1 div.sk-toggleable__content pre {margin: 0.2em;color: black;border-radius: 0.25em;background-color: #f0f8ff;}#sk-container-id-1 input.sk-toggleable__control:checked~div.sk-toggleable__content {max-height: 200px;max-width: 100%;overflow: auto;}#sk-container-id-1 input.sk-toggleable__control:checked~label.sk-toggleable__label-arrow:before {content: \"▾\";}#sk-container-id-1 div.sk-estimator input.sk-toggleable__control:checked~label.sk-toggleable__label {background-color: #d4ebff;}#sk-container-id-1 div.sk-label input.sk-toggleable__control:checked~label.sk-toggleable__label {background-color: #d4ebff;}#sk-container-id-1 input.sk-hidden--visually {border: 0;clip: rect(1px 1px 1px 1px);clip: rect(1px, 1px, 1px, 1px);height: 1px;margin: -1px;overflow: hidden;padding: 0;position: absolute;width: 1px;}#sk-container-id-1 div.sk-estimator {font-family: monospace;background-color: #f0f8ff;border: 1px dotted black;border-radius: 0.25em;box-sizing: border-box;margin-bottom: 0.5em;}#sk-container-id-1 div.sk-estimator:hover {background-color: #d4ebff;}#sk-container-id-1 div.sk-parallel-item::after {content: \"\";width: 100%;border-bottom: 1px solid gray;flex-grow: 1;}#sk-container-id-1 div.sk-label:hover label.sk-toggleable__label {background-color: #d4ebff;}#sk-container-id-1 div.sk-serial::before {content: \"\";position: absolute;border-left: 1px solid gray;box-sizing: border-box;top: 0;bottom: 0;left: 50%;z-index: 0;}#sk-container-id-1 div.sk-serial {display: flex;flex-direction: column;align-items: center;background-color: white;padding-right: 0.2em;padding-left: 0.2em;position: relative;}#sk-container-id-1 div.sk-item {position: relative;z-index: 1;}#sk-container-id-1 div.sk-parallel {display: flex;align-items: stretch;justify-content: center;background-color: white;position: relative;}#sk-container-id-1 div.sk-item::before, #sk-container-id-1 div.sk-parallel-item::before {content: \"\";position: absolute;border-left: 1px solid gray;box-sizing: border-box;top: 0;bottom: 0;left: 50%;z-index: -1;}#sk-container-id-1 div.sk-parallel-item {display: flex;flex-direction: column;z-index: 1;position: relative;background-color: white;}#sk-container-id-1 div.sk-parallel-item:first-child::after {align-self: flex-end;width: 50%;}#sk-container-id-1 div.sk-parallel-item:last-child::after {align-self: flex-start;width: 50%;}#sk-container-id-1 div.sk-parallel-item:only-child::after {width: 0;}#sk-container-id-1 div.sk-dashed-wrapped {border: 1px dashed gray;margin: 0 0.4em 0.5em 0.4em;box-sizing: border-box;padding-bottom: 0.4em;background-color: white;}#sk-container-id-1 div.sk-label label {font-family: monospace;font-weight: bold;display: inline-block;line-height: 1.2em;}#sk-container-id-1 div.sk-label-container {text-align: center;}#sk-container-id-1 div.sk-container {/* jupyter's `normalize.less` sets `[hidden] { display: none; }` but bootstrap.min.css set `[hidden] { display: none !important; }` so we also need the `!important` here to be able to override the default hidden behavior on the sphinx rendered scikit-learn.org. See: https://github.com/scikit-learn/scikit-learn/issues/21755 */display: inline-block !important;position: relative;}#sk-container-id-1 div.sk-text-repr-fallback {display: none;}</style><div id=\"sk-container-id-1\" class=\"sk-top-container\"><div class=\"sk-text-repr-fallback\"><pre>LogisticRegression()</pre><b>In a Jupyter environment, please rerun this cell to show the HTML representation or trust the notebook. <br />On GitHub, the HTML representation is unable to render, please try loading this page with nbviewer.org.</b></div><div class=\"sk-container\" hidden><div class=\"sk-item\"><div class=\"sk-estimator sk-toggleable\"><input class=\"sk-toggleable__control sk-hidden--visually\" id=\"sk-estimator-id-1\" type=\"checkbox\" checked><label for=\"sk-estimator-id-1\" class=\"sk-toggleable__label sk-toggleable__label-arrow\">LogisticRegression</label><div class=\"sk-toggleable__content\"><pre>LogisticRegression()</pre></div></div></div></div></div>"
      ],
      "text/plain": [
       "LogisticRegression()"
      ]
     },
     "execution_count": 24,
     "metadata": {},
     "output_type": "execute_result"
    }
   ],
   "source": [
    "# Train a logistic regression model\n",
    "model = LogisticRegression()\n",
    "model.fit(X_train, y_train)"
   ]
  },
  {
   "cell_type": "code",
   "execution_count": 25,
   "id": "b32de2be",
   "metadata": {},
   "outputs": [
    {
     "name": "stdout",
     "output_type": "stream",
     "text": [
      "Validation Accuracy: 1.0\n"
     ]
    }
   ],
   "source": [
    "# Evaluate the model on the validation set\n",
    "y_val_pred = model.predict(X_val)\n",
    "val_accuracy = accuracy_score(y_val, y_val_pred)\n",
    "print(\"Validation Accuracy:\", val_accuracy)"
   ]
  },
  {
   "cell_type": "code",
   "execution_count": 26,
   "id": "ed2b4d00",
   "metadata": {},
   "outputs": [
    {
     "name": "stdout",
     "output_type": "stream",
     "text": [
      "Testing Accuracy: 1.0\n"
     ]
    }
   ],
   "source": [
    "# Evaluate the model on the testing set\n",
    "y_test_pred = model.predict(X_test)\n",
    "test_accuracy = accuracy_score(y_test, y_test_pred)\n",
    "print(\"Testing Accuracy:\", test_accuracy)"
   ]
  },
  {
   "cell_type": "code",
   "execution_count": 27,
   "id": "562ac504",
   "metadata": {
    "scrolled": true
   },
   "outputs": [
    {
     "name": "stdout",
     "output_type": "stream",
     "text": [
      "Predicted disease: ['Heart attack']\n"
     ]
    },
    {
     "name": "stderr",
     "output_type": "stream",
     "text": [
      "C:\\Users\\sjr\\AppData\\Local\\Programs\\Python\\Python311\\Lib\\site-packages\\sklearn\\base.py:439: UserWarning: X does not have valid feature names, but LogisticRegression was fitted with feature names\n",
      "  warnings.warn(\n"
     ]
    }
   ],
   "source": [
    "# Define the test input data as a numpy array\n",
    "test_data = np.array([[0,0,0,0,0,0,0,0,0,0,1.0,0.0,1.0,1.0,1.0,1.0,1.0,0,0,0,0,0,0,0,0,0,0,0,0,0,0,0,0,0,0,0,0,0,0,0,0,0,0,0,0,0,0,0,0,0,0,0,0,0,0,0,0,0,0,0,0,0,0,0,0,0,0,0,0,0,0,0,0,0,0,0,0,0,0,0,0,0,0,0,0,0,0,0,0,0,0,0,0,0,0,0,0,0,0,0,0,0,0,0,0,0,0,0,0,0,0,0,0,0,0,0,0,0,0,0,0,0,0,0,0,0,0,0,0,0,0]])\n",
    "prediction = model.predict(test_data)\n",
    "\n",
    "# Print the predicted disease\n",
    "print(\"Predicted disease:\", prediction)"
   ]
  },
  {
   "cell_type": "markdown",
   "id": "dacddd79",
   "metadata": {},
   "source": [
    "Now we save our model as pickle file"
   ]
  },
  {
   "cell_type": "code",
   "execution_count": 28,
   "id": "64f4041a",
   "metadata": {},
   "outputs": [],
   "source": [
    "import pickle\n",
    "pickle.dump(model, open(\"sorted_impilo.sav\", \"wb\"))"
   ]
  },
  {
   "cell_type": "code",
   "execution_count": null,
   "id": "3b40f056",
   "metadata": {},
   "outputs": [],
   "source": []
  }
 ],
 "metadata": {
  "kernelspec": {
   "display_name": "Python 3 (ipykernel)",
   "language": "python",
   "name": "python3"
  },
  "language_info": {
   "codemirror_mode": {
    "name": "ipython",
    "version": 3
   },
   "file_extension": ".py",
   "mimetype": "text/x-python",
   "name": "python",
   "nbconvert_exporter": "python",
   "pygments_lexer": "ipython3",
   "version": "3.11.2"
  }
 },
 "nbformat": 4,
 "nbformat_minor": 5
}
